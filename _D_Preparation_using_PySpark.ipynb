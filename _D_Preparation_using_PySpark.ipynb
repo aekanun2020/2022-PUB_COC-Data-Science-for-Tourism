{
  "nbformat": 4,
  "nbformat_minor": 0,
  "metadata": {
    "kernelspec": {
      "display_name": "Python 3",
      "language": "python",
      "name": "python3"
    },
    "language_info": {
      "codemirror_mode": {
        "name": "ipython",
        "version": 3
      },
      "file_extension": ".py",
      "mimetype": "text/x-python",
      "name": "python",
      "nbconvert_exporter": "python",
      "pygments_lexer": "ipython3",
      "version": "3.6.1"
    },
    "colab": {
      "provenance": [],
      "collapsed_sections": [],
      "include_colab_link": true
    }
  },
  "cells": [
    {
      "cell_type": "markdown",
      "metadata": {
        "id": "view-in-github",
        "colab_type": "text"
      },
      "source": [
        "<a href=\"https://colab.research.google.com/github/aekanun2020/2022-PUB_COC-Data-Science-for-Tourism/blob/main/_D_Preparation_using_PySpark.ipynb\" target=\"_parent\"><img src=\"https://colab.research.google.com/assets/colab-badge.svg\" alt=\"Open In Colab\"/></a>"
      ]
    },
    {
      "cell_type": "code",
      "metadata": {
        "id": "0dTkA-bDa5bm",
        "colab": {
          "base_uri": "https://localhost:8080/",
          "height": 193
        },
        "outputId": "2275998e-df29-40b8-c2f2-f3d90f443cab"
      },
      "source": [
        "!apt-get install openjdk-8-jdk-headless -qq > /dev/null\n",
        "!wget -q https://archive.apache.org/dist/spark/spark-2.4.1/spark-2.4.1-bin-hadoop2.7.tgz\n",
        "!tar xf spark-2.4.1-bin-hadoop2.7.tgz\n",
        "!pip install -q findspark\n",
        "import os\n",
        "os.environ[\"JAVA_HOME\"] = \"/usr/lib/jvm/java-8-openjdk-amd64\"\n",
        "os.environ[\"SPARK_HOME\"] = \"/content/spark-2.4.1-bin-hadoop2.7\"\n",
        "import findspark\n",
        "findspark.init()\n",
        "from pyspark.sql import SparkSession\n",
        "spark = SparkSession.builder.master(\"local[*]\").getOrCreate()\n",
        "from pyspark.sql import SparkSession\n",
        "spark = SparkSession.builder \\\n",
        "   .appName(\"Neural Network Model\") \\\n",
        "   .config(\"spark.executor.memory\", \"3gb\") \\\n",
        "   .getOrCreate()\n",
        "   \n",
        "sc = spark.sparkContext\n",
        "sc"
      ],
      "execution_count": 1,
      "outputs": [
        {
          "output_type": "execute_result",
          "data": {
            "text/plain": [
              "<SparkContext master=local[*] appName=pyspark-shell>"
            ],
            "text/html": [
              "\n",
              "        <div>\n",
              "            <p><b>SparkContext</b></p>\n",
              "\n",
              "            <p><a href=\"http://e5e136e472de:4040\">Spark UI</a></p>\n",
              "\n",
              "            <dl>\n",
              "              <dt>Version</dt>\n",
              "                <dd><code>v2.4.1</code></dd>\n",
              "              <dt>Master</dt>\n",
              "                <dd><code>local[*]</code></dd>\n",
              "              <dt>AppName</dt>\n",
              "                <dd><code>pyspark-shell</code></dd>\n",
              "            </dl>\n",
              "        </div>\n",
              "        "
            ]
          },
          "metadata": {},
          "execution_count": 1
        }
      ]
    },
    {
      "cell_type": "code",
      "metadata": {
        "id": "I7c5vxPNAPVi"
      },
      "source": [
        "colors = ['white','green','yellow','red','brown','pink']"
      ],
      "execution_count": 2,
      "outputs": []
    },
    {
      "cell_type": "code",
      "source": [
        "color_df = sc.parallelize(colors).map(lambda x:(x,len(x))).toDF(['color','length'])"
      ],
      "metadata": {
        "id": "BYHLFg8Nqhxv"
      },
      "execution_count": 3,
      "outputs": []
    },
    {
      "cell_type": "code",
      "source": [
        "color_df"
      ],
      "metadata": {
        "colab": {
          "base_uri": "https://localhost:8080/"
        },
        "id": "SoGxkHv7qjeN",
        "outputId": "f340d8ae-0f6b-43a1-823d-4e853d3d837e"
      },
      "execution_count": 4,
      "outputs": [
        {
          "output_type": "execute_result",
          "data": {
            "text/plain": [
              "DataFrame[color: string, length: bigint]"
            ]
          },
          "metadata": {},
          "execution_count": 4
        }
      ]
    },
    {
      "cell_type": "code",
      "source": [
        "color_df.printSchema()"
      ],
      "metadata": {
        "colab": {
          "base_uri": "https://localhost:8080/"
        },
        "id": "VDukqqOAqlHr",
        "outputId": "4e94cda2-89eb-421d-f8bd-f2975cafa8f2"
      },
      "execution_count": 5,
      "outputs": [
        {
          "output_type": "stream",
          "name": "stdout",
          "text": [
            "root\n",
            " |-- color: string (nullable = true)\n",
            " |-- length: long (nullable = true)\n",
            "\n"
          ]
        }
      ]
    },
    {
      "cell_type": "code",
      "source": [
        "color_df.count()"
      ],
      "metadata": {
        "colab": {
          "base_uri": "https://localhost:8080/"
        },
        "id": "7LbzVlIcqm_2",
        "outputId": "7fca50cc-046a-45b5-84b6-6896a7968cfb"
      },
      "execution_count": 6,
      "outputs": [
        {
          "output_type": "execute_result",
          "data": {
            "text/plain": [
              "6"
            ]
          },
          "metadata": {},
          "execution_count": 6
        }
      ]
    },
    {
      "cell_type": "code",
      "source": [
        "color_df.show()"
      ],
      "metadata": {
        "colab": {
          "base_uri": "https://localhost:8080/"
        },
        "id": "ccHb3HWCqoPq",
        "outputId": "8308fdd8-6a14-4baa-973c-9135a8ebc581"
      },
      "execution_count": 7,
      "outputs": [
        {
          "output_type": "stream",
          "name": "stdout",
          "text": [
            "+------+------+\n",
            "| color|length|\n",
            "+------+------+\n",
            "| white|     5|\n",
            "| green|     5|\n",
            "|yellow|     6|\n",
            "|   red|     3|\n",
            "| brown|     5|\n",
            "|  pink|     4|\n",
            "+------+------+\n",
            "\n"
          ]
        }
      ]
    },
    {
      "cell_type": "code",
      "source": [
        "from pyspark.sql import functions as sparkf"
      ],
      "metadata": {
        "id": "MCahst5RyUMM"
      },
      "execution_count": 8,
      "outputs": []
    },
    {
      "cell_type": "code",
      "source": [
        "color_df.withColumn('length',sparkf.col('length')*2).show()"
      ],
      "metadata": {
        "colab": {
          "base_uri": "https://localhost:8080/"
        },
        "id": "w3lqrsB0rHjc",
        "outputId": "7f8943d4-8a0a-40d5-8e7e-da1a5e8db684"
      },
      "execution_count": 9,
      "outputs": [
        {
          "output_type": "stream",
          "name": "stdout",
          "text": [
            "+------+------+\n",
            "| color|length|\n",
            "+------+------+\n",
            "| white|    10|\n",
            "| green|    10|\n",
            "|yellow|    12|\n",
            "|   red|     6|\n",
            "| brown|    10|\n",
            "|  pink|     8|\n",
            "+------+------+\n",
            "\n"
          ]
        }
      ]
    },
    {
      "cell_type": "code",
      "source": [
        "color_df.withColumn('double_length',sparkf.col('length')*2).show()"
      ],
      "metadata": {
        "colab": {
          "base_uri": "https://localhost:8080/"
        },
        "id": "A5lTG7inrtdQ",
        "outputId": "f994e3c3-8968-4989-d672-444229599930"
      },
      "execution_count": 10,
      "outputs": [
        {
          "output_type": "stream",
          "name": "stdout",
          "text": [
            "+------+------+-------------+\n",
            "| color|length|double_length|\n",
            "+------+------+-------------+\n",
            "| white|     5|           10|\n",
            "| green|     5|           10|\n",
            "|yellow|     6|           12|\n",
            "|   red|     3|            6|\n",
            "| brown|     5|           10|\n",
            "|  pink|     4|            8|\n",
            "+------+------+-------------+\n",
            "\n"
          ]
        }
      ]
    },
    {
      "cell_type": "code",
      "source": [
        "color_df.withColumn('color', sparkf.when(sparkf.col('color')=='white','grey').otherwise(sparkf.col('color'))).show()"
      ],
      "metadata": {
        "colab": {
          "base_uri": "https://localhost:8080/"
        },
        "id": "WMR_D7Sbs6wS",
        "outputId": "d18cb9f2-00ef-4d87-a0b9-58f148ed22f1"
      },
      "execution_count": 11,
      "outputs": [
        {
          "output_type": "stream",
          "name": "stdout",
          "text": [
            "+------+------+\n",
            "| color|length|\n",
            "+------+------+\n",
            "|  grey|     5|\n",
            "| green|     5|\n",
            "|yellow|     6|\n",
            "|   red|     3|\n",
            "| brown|     5|\n",
            "|  pink|     4|\n",
            "+------+------+\n",
            "\n"
          ]
        }
      ]
    },
    {
      "cell_type": "code",
      "source": [
        "color_df.show()"
      ],
      "metadata": {
        "colab": {
          "base_uri": "https://localhost:8080/"
        },
        "id": "53f3-t8hs6re",
        "outputId": "0d2d5fff-84e5-4581-b4d3-a4b933496b13"
      },
      "execution_count": 12,
      "outputs": [
        {
          "output_type": "stream",
          "name": "stdout",
          "text": [
            "+------+------+\n",
            "| color|length|\n",
            "+------+------+\n",
            "| white|     5|\n",
            "| green|     5|\n",
            "|yellow|     6|\n",
            "|   red|     3|\n",
            "| brown|     5|\n",
            "|  pink|     4|\n",
            "+------+------+\n",
            "\n"
          ]
        }
      ]
    },
    {
      "cell_type": "code",
      "source": [
        "new_color_df = color_df.withColumn('color', sparkf.when(sparkf.col('color')=='white','grey').otherwise(sparkf.col('color')))"
      ],
      "metadata": {
        "id": "5Cx09DLqs6mo"
      },
      "execution_count": 13,
      "outputs": []
    },
    {
      "cell_type": "code",
      "source": [
        "new_color_df.show()"
      ],
      "metadata": {
        "colab": {
          "base_uri": "https://localhost:8080/"
        },
        "id": "HABGkb2Ix6nd",
        "outputId": "b1bcc474-8bc9-4311-9ead-7b6f74d7f563"
      },
      "execution_count": 14,
      "outputs": [
        {
          "output_type": "stream",
          "name": "stdout",
          "text": [
            "+------+------+\n",
            "| color|length|\n",
            "+------+------+\n",
            "|  grey|     5|\n",
            "| green|     5|\n",
            "|yellow|     6|\n",
            "|   red|     3|\n",
            "| brown|     5|\n",
            "|  pink|     4|\n",
            "+------+------+\n",
            "\n"
          ]
        }
      ]
    },
    {
      "cell_type": "code",
      "source": [],
      "metadata": {
        "id": "C92gejcax6dH"
      },
      "execution_count": 14,
      "outputs": []
    },
    {
      "cell_type": "code",
      "source": [
        "color_df.describe().show()"
      ],
      "metadata": {
        "colab": {
          "base_uri": "https://localhost:8080/"
        },
        "id": "EmliV9e7rEPb",
        "outputId": "5cd3ccbf-44eb-4cbe-ff98-cb763116dc59"
      },
      "execution_count": 15,
      "outputs": [
        {
          "output_type": "stream",
          "name": "stdout",
          "text": [
            "+-------+------+------------------+\n",
            "|summary| color|            length|\n",
            "+-------+------+------------------+\n",
            "|  count|     6|                 6|\n",
            "|   mean|  null| 4.666666666666667|\n",
            "| stddev|  null|1.0327955589886444|\n",
            "|    min| brown|                 3|\n",
            "|    max|yellow|                 6|\n",
            "+-------+------+------------------+\n",
            "\n"
          ]
        }
      ]
    },
    {
      "cell_type": "code",
      "source": [
        "from pyspark.sql import functions as sparkf"
      ],
      "metadata": {
        "id": "kOooDxA5bMwv"
      },
      "execution_count": 16,
      "outputs": []
    },
    {
      "cell_type": "code",
      "source": [
        "max_length = color_df.select(sparkf.max(sparkf.col('length'))).collect()[0][0]"
      ],
      "metadata": {
        "id": "r5UFt-77QxNC"
      },
      "execution_count": 17,
      "outputs": []
    },
    {
      "cell_type": "code",
      "source": [
        "min_length = color_df.select(sparkf.min(sparkf.col('length'))).collect()[0][0]"
      ],
      "metadata": {
        "id": "gis4p18QQ4gi"
      },
      "execution_count": 18,
      "outputs": []
    },
    {
      "cell_type": "code",
      "source": [
        "sparkf_normalized = sparkf.udf(lambda x: ((x-min_length)/(max_length-min_length)))"
      ],
      "metadata": {
        "id": "6yywWCbIREQ2"
      },
      "execution_count": 19,
      "outputs": []
    },
    {
      "cell_type": "code",
      "source": [
        "color_df.withColumn('new_length',sparkf_normalized(sparkf.col('length'))).show()"
      ],
      "metadata": {
        "colab": {
          "base_uri": "https://localhost:8080/"
        },
        "id": "Ha47TiRuRPa_",
        "outputId": "768a5570-a20c-4d51-a679-d1ef14bd2aaf"
      },
      "execution_count": 20,
      "outputs": [
        {
          "output_type": "stream",
          "name": "stdout",
          "text": [
            "+------+------+------------------+\n",
            "| color|length|        new_length|\n",
            "+------+------+------------------+\n",
            "| white|     5|0.6666666666666666|\n",
            "| green|     5|0.6666666666666666|\n",
            "|yellow|     6|               1.0|\n",
            "|   red|     3|               0.0|\n",
            "| brown|     5|0.6666666666666666|\n",
            "|  pink|     4|0.3333333333333333|\n",
            "+------+------+------------------+\n",
            "\n"
          ]
        }
      ]
    },
    {
      "cell_type": "code",
      "source": [],
      "metadata": {
        "id": "RV10mgU0bYQm"
      },
      "execution_count": 20,
      "outputs": []
    }
  ]
}