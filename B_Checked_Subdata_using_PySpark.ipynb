{
  "nbformat": 4,
  "nbformat_minor": 0,
  "metadata": {
    "kernelspec": {
      "display_name": "Python 3",
      "language": "python",
      "name": "python3"
    },
    "language_info": {
      "codemirror_mode": {
        "name": "ipython",
        "version": 3
      },
      "file_extension": ".py",
      "mimetype": "text/x-python",
      "name": "python",
      "nbconvert_exporter": "python",
      "pygments_lexer": "ipython3",
      "version": "3.6.1"
    },
    "colab": {
      "provenance": [],
      "collapsed_sections": [],
      "include_colab_link": true
    }
  },
  "cells": [
    {
      "cell_type": "markdown",
      "metadata": {
        "id": "view-in-github",
        "colab_type": "text"
      },
      "source": [
        "<a href=\"https://colab.research.google.com/github/aekanun2020/2022-PUB_COC-Data-Science-for-Tourism/blob/main/B_Checked_Subdata_using_PySpark.ipynb\" target=\"_parent\"><img src=\"https://colab.research.google.com/assets/colab-badge.svg\" alt=\"Open In Colab\"/></a>"
      ]
    },
    {
      "cell_type": "code",
      "metadata": {
        "id": "0dTkA-bDa5bm",
        "colab": {
          "base_uri": "https://localhost:8080/",
          "height": 199
        },
        "outputId": "5e59caf8-6c37-4c15-9357-2715cd104688"
      },
      "source": [
        "# ติดตั้ง Spark และตั้งค่าการทำงานของ Spark ให้สามารถ run PySpark ได้\n",
        "!apt-get install openjdk-8-jdk-headless -qq > /dev/null\n",
        "!wget -q https://archive.apache.org/dist/spark/spark-2.4.1/spark-2.4.1-bin-hadoop2.7.tgz\n",
        "!tar xf spark-2.4.1-bin-hadoop2.7.tgz\n",
        "!pip install -q findspark\n",
        "import os\n",
        "os.environ[\"JAVA_HOME\"] = \"/usr/lib/jvm/java-8-openjdk-amd64\"\n",
        "os.environ[\"SPARK_HOME\"] = \"/content/spark-2.4.1-bin-hadoop2.7\"\n",
        "import findspark\n",
        "findspark.init()\n",
        "from pyspark.sql import SparkSession\n",
        "spark = SparkSession.builder.master(\"local[*]\").getOrCreate()\n",
        "from pyspark.sql import SparkSession\n",
        "spark = SparkSession.builder \\\n",
        "   .appName(\"Neural Network Model\") \\\n",
        "   .config(\"spark.executor.memory\", \"3gb\") \\\n",
        "   .getOrCreate()\n",
        "   \n",
        "sc = spark.sparkContext\n",
        "sc"
      ],
      "execution_count": 1,
      "outputs": [
        {
          "output_type": "execute_result",
          "data": {
            "text/plain": [
              "<SparkContext master=local[*] appName=pyspark-shell>"
            ],
            "text/html": [
              "\n",
              "        <div>\n",
              "            <p><b>SparkContext</b></p>\n",
              "\n",
              "            <p><a href=\"http://2b9f127cd6b8:4040\">Spark UI</a></p>\n",
              "\n",
              "            <dl>\n",
              "              <dt>Version</dt>\n",
              "                <dd><code>v2.4.1</code></dd>\n",
              "              <dt>Master</dt>\n",
              "                <dd><code>local[*]</code></dd>\n",
              "              <dt>AppName</dt>\n",
              "                <dd><code>pyspark-shell</code></dd>\n",
              "            </dl>\n",
              "        </div>\n",
              "        "
            ]
          },
          "metadata": {},
          "execution_count": 1
        }
      ]
    },
    {
      "cell_type": "code",
      "metadata": {
        "id": "I7c5vxPNAPVi"
      },
      "source": [
        "# สมมติข้อมูลขึ้นมาในโครงสร้างของ List ซึ่งมีทั้งหมด 6 Elements และ Assign ข้อมูล\n",
        "# ให้กับตัวแปรของ Python คือ colors\n",
        "colors = ['white','green','yellow','red','brown','pink']"
      ],
      "execution_count": 2,
      "outputs": []
    },
    {
      "cell_type": "code",
      "source": [
        "# ใช้ Spark อ่านและแปลงเป็น DataFrame\n",
        "color_df = sc.parallelize(colors).map(lambda x:(x,len(x))).toDF(['color','length'])"
      ],
      "metadata": {
        "id": "BYHLFg8Nqhxv"
      },
      "execution_count": 3,
      "outputs": []
    },
    {
      "cell_type": "code",
      "source": [
        "color_df"
      ],
      "metadata": {
        "colab": {
          "base_uri": "https://localhost:8080/"
        },
        "id": "SoGxkHv7qjeN",
        "outputId": "1d79bb2d-473b-47ce-b836-ef640202781b"
      },
      "execution_count": 4,
      "outputs": [
        {
          "output_type": "execute_result",
          "data": {
            "text/plain": [
              "DataFrame[color: string, length: bigint]"
            ]
          },
          "metadata": {},
          "execution_count": 4
        }
      ]
    },
    {
      "cell_type": "code",
      "source": [
        "# แสดงชื่อ Columns และ Data Types\n",
        "color_df.printSchema()"
      ],
      "metadata": {
        "colab": {
          "base_uri": "https://localhost:8080/"
        },
        "id": "VDukqqOAqlHr",
        "outputId": "153ac0a2-6f6a-4e1d-9d8d-f1879937b5b0"
      },
      "execution_count": 5,
      "outputs": [
        {
          "output_type": "stream",
          "name": "stdout",
          "text": [
            "root\n",
            " |-- color: string (nullable = true)\n",
            " |-- length: long (nullable = true)\n",
            "\n"
          ]
        }
      ]
    },
    {
      "cell_type": "code",
      "source": [
        "# นับจำนวน Rows\n",
        "color_df.count()"
      ],
      "metadata": {
        "colab": {
          "base_uri": "https://localhost:8080/"
        },
        "id": "7LbzVlIcqm_2",
        "outputId": "6b36a2f9-cbc9-4f44-d25d-81f16ba35378"
      },
      "execution_count": 6,
      "outputs": [
        {
          "output_type": "execute_result",
          "data": {
            "text/plain": [
              "6"
            ]
          },
          "metadata": {},
          "execution_count": 6
        }
      ]
    },
    {
      "cell_type": "code",
      "source": [
        "# แสดงข้อมูลทุก Columns เฉพาะ 2 Rows แรก\n",
        "color_df.show(2)"
      ],
      "metadata": {
        "colab": {
          "base_uri": "https://localhost:8080/"
        },
        "id": "ccHb3HWCqoPq",
        "outputId": "97652632-9e8b-4b52-e1e9-2e540e3dd313"
      },
      "execution_count": 7,
      "outputs": [
        {
          "output_type": "stream",
          "name": "stdout",
          "text": [
            "+-----+------+\n",
            "|color|length|\n",
            "+-----+------+\n",
            "|white|     5|\n",
            "|green|     5|\n",
            "+-----+------+\n",
            "only showing top 2 rows\n",
            "\n"
          ]
        }
      ]
    },
    {
      "cell_type": "code",
      "source": [
        "# แสดงรายชื่อ Columns ในโครงสร้างแบบ List\n",
        "color_df.columns"
      ],
      "metadata": {
        "colab": {
          "base_uri": "https://localhost:8080/"
        },
        "id": "r9J_8CNbqqFa",
        "outputId": "1b0aa455-fd89-4c84-aff9-dc529f669fce"
      },
      "execution_count": 8,
      "outputs": [
        {
          "output_type": "execute_result",
          "data": {
            "text/plain": [
              "['color', 'length']"
            ]
          },
          "metadata": {},
          "execution_count": 8
        }
      ]
    },
    {
      "cell_type": "code",
      "source": [
        "# แสดงข้อมูลเฉพาะ 20 Rows แรก โดยแสดงทุก Columns ยกเว้น Column 'length'\n",
        "color_df.drop('length').show()"
      ],
      "metadata": {
        "colab": {
          "base_uri": "https://localhost:8080/"
        },
        "id": "VmGJFQdcqs93",
        "outputId": "2ef09a33-9216-459d-e1a5-ad4b781728ed"
      },
      "execution_count": 9,
      "outputs": [
        {
          "output_type": "stream",
          "name": "stdout",
          "text": [
            "+------+\n",
            "| color|\n",
            "+------+\n",
            "| white|\n",
            "| green|\n",
            "|yellow|\n",
            "|   red|\n",
            "| brown|\n",
            "|  pink|\n",
            "+------+\n",
            "\n"
          ]
        }
      ]
    },
    {
      "cell_type": "code",
      "source": [
        "# แสดงข้อมูลเฉพาะ 20 Rows แรก โดยแสดงทุก Columns\n",
        "color_df.show()"
      ],
      "metadata": {
        "colab": {
          "base_uri": "https://localhost:8080/"
        },
        "id": "_k7unkiANMAQ",
        "outputId": "b734455f-428e-4547-c3f9-ec8ef3950f9f"
      },
      "execution_count": 10,
      "outputs": [
        {
          "output_type": "stream",
          "name": "stdout",
          "text": [
            "+------+------+\n",
            "| color|length|\n",
            "+------+------+\n",
            "| white|     5|\n",
            "| green|     5|\n",
            "|yellow|     6|\n",
            "|   red|     3|\n",
            "| brown|     5|\n",
            "|  pink|     4|\n",
            "+------+------+\n",
            "\n"
          ]
        }
      ]
    },
    {
      "cell_type": "code",
      "source": [
        "# Assign ข้อมูลทั้งหมดใน color_df ยกเว้น Column 'length' ให้กับตัวแปร nolength_color_df\n",
        "nolength_color_df = color_df.drop('length')\n",
        "# แสดงข้อมูลเฉพาะ 20 Rows แรก โดยแสดงทุก Columns ของ nolength_color_df\n",
        "nolength_color_df.show()"
      ],
      "metadata": {
        "colab": {
          "base_uri": "https://localhost:8080/"
        },
        "id": "L9voBUK8NS_3",
        "outputId": "38655265-8ca1-4b3c-d500-e3c68ae38ff3"
      },
      "execution_count": 11,
      "outputs": [
        {
          "output_type": "stream",
          "name": "stdout",
          "text": [
            "+------+\n",
            "| color|\n",
            "+------+\n",
            "| white|\n",
            "| green|\n",
            "|yellow|\n",
            "|   red|\n",
            "| brown|\n",
            "|  pink|\n",
            "+------+\n",
            "\n"
          ]
        }
      ]
    },
    {
      "cell_type": "code",
      "source": [
        "# กรองเอาเฉพาะ Rows ที่ Columns 'length' มีค่ามากกว่า 4 แล้วแสดงผล\n",
        "color_df.filter(color_df['length']>4).show()"
      ],
      "metadata": {
        "colab": {
          "base_uri": "https://localhost:8080/"
        },
        "id": "BmF4TeAlNnVQ",
        "outputId": "62dc59b3-df10-480b-f881-5e020a6edb55"
      },
      "execution_count": 12,
      "outputs": [
        {
          "output_type": "stream",
          "name": "stdout",
          "text": [
            "+------+------+\n",
            "| color|length|\n",
            "+------+------+\n",
            "| white|     5|\n",
            "| green|     5|\n",
            "|yellow|     6|\n",
            "| brown|     5|\n",
            "+------+------+\n",
            "\n"
          ]
        }
      ]
    },
    {
      "cell_type": "code",
      "source": [
        "# กรองเอาเฉพาะ Rows ที่ Columns 'length' มีค่ามากกว่า 4 แล้วแสดงผล\n",
        "color_df.filter(color_df.length>4).show()"
      ],
      "metadata": {
        "colab": {
          "base_uri": "https://localhost:8080/"
        },
        "id": "DTj9-p4LPHYS",
        "outputId": "a7aa1b8a-7e52-40d0-f6f4-35b5aa6f0d90"
      },
      "execution_count": 13,
      "outputs": [
        {
          "output_type": "stream",
          "name": "stdout",
          "text": [
            "+------+------+\n",
            "| color|length|\n",
            "+------+------+\n",
            "| white|     5|\n",
            "| green|     5|\n",
            "|yellow|     6|\n",
            "| brown|     5|\n",
            "+------+------+\n",
            "\n"
          ]
        }
      ]
    },
    {
      "cell_type": "code",
      "source": [
        "# Import ฟังก์ชั่นที่อยู่ใน Module 'sql' ของ Spark มาใช้\n",
        "from pyspark.sql import functions as sparkf"
      ],
      "metadata": {
        "id": "RGmSQ27YPvAJ"
      },
      "execution_count": 14,
      "outputs": []
    },
    {
      "cell_type": "code",
      "source": [
        "# กรองเอาเฉพาะ Rows ที่ Columns 'length' มีค่ามากกว่า 4 แล้วแสดงผล\n",
        "color_df.filter(sparkf.col('length')>4).show()"
      ],
      "metadata": {
        "colab": {
          "base_uri": "https://localhost:8080/"
        },
        "id": "MXbBjoiGPHUW",
        "outputId": "01255a4d-6b54-43f7-b86a-90836cbc781a"
      },
      "execution_count": 15,
      "outputs": [
        {
          "output_type": "stream",
          "name": "stdout",
          "text": [
            "+------+------+\n",
            "| color|length|\n",
            "+------+------+\n",
            "| white|     5|\n",
            "| green|     5|\n",
            "|yellow|     6|\n",
            "| brown|     5|\n",
            "+------+------+\n",
            "\n"
          ]
        }
      ]
    },
    {
      "cell_type": "code",
      "source": [
        "# กรองเอาเฉพาะ Rows ที่ Columns 'length' มีค่ามากกว่า 4 \n",
        "# และ Columns 'color' ไม่ใช่ 'white' แล้วแสดงผล\n",
        "color_df.filter(color_df.length > 4).filter(color_df[0]!=\"white\").show()"
      ],
      "metadata": {
        "colab": {
          "base_uri": "https://localhost:8080/"
        },
        "id": "uiTWLK1HqxCi",
        "outputId": "ba241cd4-0c88-44b0-82e5-e42a33f6c1da"
      },
      "execution_count": 16,
      "outputs": [
        {
          "output_type": "stream",
          "name": "stdout",
          "text": [
            "+------+------+\n",
            "| color|length|\n",
            "+------+------+\n",
            "| green|     5|\n",
            "|yellow|     6|\n",
            "| brown|     5|\n",
            "+------+------+\n",
            "\n"
          ]
        }
      ]
    },
    {
      "cell_type": "code",
      "source": [
        "# กรองเอาเฉพาะ Rows ที่ Columns 'length' มีค่าตั้งแต่ 4 ถึง 5 \n",
        "# แล้วแสดงผล\n",
        "color_df.filter(color_df.length.between(4,5)).show()"
      ],
      "metadata": {
        "colab": {
          "base_uri": "https://localhost:8080/"
        },
        "id": "dU-igdTgOqp2",
        "outputId": "6971bc7a-2848-45cd-f5e1-86572b436afa"
      },
      "execution_count": 17,
      "outputs": [
        {
          "output_type": "stream",
          "name": "stdout",
          "text": [
            "+-----+------+\n",
            "|color|length|\n",
            "+-----+------+\n",
            "|white|     5|\n",
            "|green|     5|\n",
            "|brown|     5|\n",
            "| pink|     4|\n",
            "+-----+------+\n",
            "\n"
          ]
        }
      ]
    },
    {
      "cell_type": "code",
      "source": [
        "# กรองเอาเฉพาะ Rows ที่ Columns 'length' มีค่าตั้งแต่ 4 ถึง 5 \n",
        "# แล้วนำมาแสดงทุก Columns โดยเปลี่ยนชื่อ Column จาก 'length' เป็น 'mid_length'\n",
        "color_df.filter(color_df.length.between(4,5))\\\n",
        ".select(color_df.color.alias(\"mid_length\")).show()\n"
      ],
      "metadata": {
        "colab": {
          "base_uri": "https://localhost:8080/"
        },
        "id": "GBnsNmjaquhK",
        "outputId": "20d77774-cf7d-44c7-deb1-6d104260ce8f"
      },
      "execution_count": 18,
      "outputs": [
        {
          "output_type": "stream",
          "name": "stdout",
          "text": [
            "+----------+\n",
            "|mid_length|\n",
            "+----------+\n",
            "|     white|\n",
            "|     green|\n",
            "|     brown|\n",
            "|      pink|\n",
            "+----------+\n",
            "\n"
          ]
        }
      ]
    },
    {
      "cell_type": "code",
      "source": [
        "# เรียงข้อมูลในแบบมากไปหาน้อย โดยเรียง Columns 'length' และ 'color' ตามลำดับ \n",
        "# แล้วแสดงผล\n",
        "color_df.sort(\"length\", 'color',ascending=False).show()"
      ],
      "metadata": {
        "colab": {
          "base_uri": "https://localhost:8080/"
        },
        "id": "JEPoUkgWQqDI",
        "outputId": "49ee4c42-da01-49b4-919d-97e60728d05e"
      },
      "execution_count": 19,
      "outputs": [
        {
          "output_type": "stream",
          "name": "stdout",
          "text": [
            "+------+------+\n",
            "| color|length|\n",
            "+------+------+\n",
            "|yellow|     6|\n",
            "| white|     5|\n",
            "| green|     5|\n",
            "| brown|     5|\n",
            "|  pink|     4|\n",
            "|   red|     3|\n",
            "+------+------+\n",
            "\n"
          ]
        }
      ]
    },
    {
      "cell_type": "code",
      "source": [
        "# เรียงข้อมูลในแบบมากไปหาน้อย โดยเรียง Columns 'length' และ 'color' ตามลำดับ \n",
        "# แล้วแสดงผล\n",
        "\n",
        "color_df.orderBy(\"length\", 'color',ascending=False).show()"
      ],
      "metadata": {
        "colab": {
          "base_uri": "https://localhost:8080/"
        },
        "id": "K0UuRdHrQ0y0",
        "outputId": "8d83304d-cf21-4434-c16f-5adde235e877"
      },
      "execution_count": 20,
      "outputs": [
        {
          "output_type": "stream",
          "name": "stdout",
          "text": [
            "+------+------+\n",
            "| color|length|\n",
            "+------+------+\n",
            "|yellow|     6|\n",
            "| white|     5|\n",
            "| green|     5|\n",
            "| brown|     5|\n",
            "|  pink|     4|\n",
            "|   red|     3|\n",
            "+------+------+\n",
            "\n"
          ]
        }
      ]
    },
    {
      "cell_type": "code",
      "source": [
        "# เรียงข้อมูลโดยเรียง Columns 'length' ในแบบมากไปหาน้อย และ 'color' ในแบบน้อยไปหามาก \n",
        "# ตามลำดับ แล้วแสดงผล\n",
        "\n",
        "color_df.orderBy(sparkf.col(\"length\").desc(), sparkf.col('color').asc()).show()"
      ],
      "metadata": {
        "colab": {
          "base_uri": "https://localhost:8080/"
        },
        "id": "eKRxceMSR14a",
        "outputId": "5a40277d-e11b-4270-8d01-d740200283f5"
      },
      "execution_count": 21,
      "outputs": [
        {
          "output_type": "stream",
          "name": "stdout",
          "text": [
            "+------+------+\n",
            "| color|length|\n",
            "+------+------+\n",
            "|yellow|     6|\n",
            "| brown|     5|\n",
            "| green|     5|\n",
            "| white|     5|\n",
            "|  pink|     4|\n",
            "|   red|     3|\n",
            "+------+------+\n",
            "\n"
          ]
        }
      ]
    },
    {
      "cell_type": "code",
      "source": [
        "# กรองเอาเฉพาะ Rows ที่ Columns 'length' มีค่ามากกว่าหรือเท่ากับ 4 \n",
        "# แล้วนำมาเรียงข้อมูลโดยเรียง Columns 'length' ในแบบมากไปหาน้อย \n",
        "# และ 'color' ในแบบน้อยไปหามาก ตามลำดับ  \n",
        "# แล้วแสดงผล\n",
        "\n",
        "color_df.filter(color_df['length']>=4)\\\n",
        ".orderBy(sparkf.col(\"length\").desc(), sparkf.col('color').asc()).show()"
      ],
      "metadata": {
        "colab": {
          "base_uri": "https://localhost:8080/"
        },
        "id": "R9KYG9ORNnQv",
        "outputId": "2e2f3d87-12cb-441b-f716-ad446f192d56"
      },
      "execution_count": 22,
      "outputs": [
        {
          "output_type": "stream",
          "name": "stdout",
          "text": [
            "+------+------+\n",
            "| color|length|\n",
            "+------+------+\n",
            "|yellow|     6|\n",
            "| brown|     5|\n",
            "| green|     5|\n",
            "| white|     5|\n",
            "|  pink|     4|\n",
            "+------+------+\n",
            "\n"
          ]
        }
      ]
    },
    {
      "cell_type": "code",
      "source": [],
      "metadata": {
        "id": "zNgdjzjNNnNf"
      },
      "execution_count": 22,
      "outputs": []
    }
  ]
}