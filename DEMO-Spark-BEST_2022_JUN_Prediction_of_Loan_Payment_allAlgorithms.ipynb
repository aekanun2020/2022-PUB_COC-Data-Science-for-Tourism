{
  "cells": [
    {
      "cell_type": "markdown",
      "metadata": {
        "id": "view-in-github",
        "colab_type": "text"
      },
      "source": [
        "<a href=\"https://colab.research.google.com/github/aekanun2020/2022-PUB_COC-Data-Science-for-Tourism/blob/main/DEMO-Spark-BEST_2022_JUN_Prediction_of_Loan_Payment_allAlgorithms.ipynb\" target=\"_parent\"><img src=\"https://colab.research.google.com/assets/colab-badge.svg\" alt=\"Open In Colab\"/></a>"
      ]
    },
    {
      "cell_type": "markdown",
      "metadata": {
        "id": "X_G5NmUxDQbr"
      },
      "source": [
        "# Preconfiguration"
      ]
    },
    {
      "cell_type": "code",
      "source": [
        "!apt-get install openjdk-8-jdk-headless -qq > /dev/null\n",
        "!wget -q https://archive.apache.org/dist/spark/spark-2.4.1/spark-2.4.1-bin-hadoop2.7.tgz\n",
        "!tar xf spark-2.4.1-bin-hadoop2.7.tgz\n",
        "!pip install -q findspark\n",
        "\n",
        "import os\n",
        "os.environ[\"JAVA_HOME\"] = \"/usr/lib/jvm/java-8-openjdk-amd64\"\n",
        "os.environ[\"SPARK_HOME\"] = \"/content/spark-2.4.1-bin-hadoop2.7\"\n",
        "\n",
        "import findspark\n",
        "findspark.init()\n",
        "from pyspark.sql import SparkSession\n",
        "spark = SparkSession.builder.master(\"local[*]\").getOrCreate()\n",
        "\n",
        "from pyspark.sql import SparkSession\n",
        "\n",
        "spark = SparkSession.builder \\\n",
        "   .appName(\"Neural Network Model\") \\\n",
        "   .config(\"spark.executor.memory\", \"3gb\") \\\n",
        "   .getOrCreate()\n",
        "   \n",
        "sc = spark.sparkContext\n",
        "\n",
        "sc"
      ],
      "metadata": {
        "id": "Ui6Re5vzDVbE",
        "colab": {
          "base_uri": "https://localhost:8080/",
          "height": 193
        },
        "outputId": "74275cc1-62d3-430d-cf8c-fa135e27b5d1"
      },
      "execution_count": 1,
      "outputs": [
        {
          "output_type": "execute_result",
          "data": {
            "text/plain": [
              "<SparkContext master=local[*] appName=pyspark-shell>"
            ],
            "text/html": [
              "\n",
              "        <div>\n",
              "            <p><b>SparkContext</b></p>\n",
              "\n",
              "            <p><a href=\"http://ad1be6cdd547:4040\">Spark UI</a></p>\n",
              "\n",
              "            <dl>\n",
              "              <dt>Version</dt>\n",
              "                <dd><code>v2.4.1</code></dd>\n",
              "              <dt>Master</dt>\n",
              "                <dd><code>local[*]</code></dd>\n",
              "              <dt>AppName</dt>\n",
              "                <dd><code>pyspark-shell</code></dd>\n",
              "            </dl>\n",
              "        </div>\n",
              "        "
            ]
          },
          "metadata": {},
          "execution_count": 1
        }
      ]
    },
    {
      "cell_type": "code",
      "execution_count": 2,
      "metadata": {
        "id": "4LLXxb5SDQbt"
      },
      "outputs": [],
      "source": [
        "! rm -rf LoanStats_web*"
      ]
    },
    {
      "cell_type": "code",
      "execution_count": 3,
      "metadata": {
        "id": "0YoqydESDQbv",
        "outputId": "7c503b3c-b275-4eb6-ebf7-5466fed6fec5",
        "colab": {
          "base_uri": "https://localhost:8080/"
        }
      },
      "outputs": [
        {
          "output_type": "stream",
          "name": "stdout",
          "text": [
            "--2022-09-24 15:19:08--  https://storage.googleapis.com/grizzy-lab/LoanStats_web.csv\n",
            "Resolving storage.googleapis.com (storage.googleapis.com)... 108.177.127.128, 142.250.153.128, 142.250.145.128, ...\n",
            "Connecting to storage.googleapis.com (storage.googleapis.com)|108.177.127.128|:443... connected.\n",
            "HTTP request sent, awaiting response... 200 OK\n",
            "Length: 1160243241 (1.1G) [text/csv]\n",
            "Saving to: ‘LoanStats_web.csv’\n",
            "\n",
            "LoanStats_web.csv   100%[===================>]   1.08G  76.7MB/s    in 18s     \n",
            "\n",
            "2022-09-24 15:19:27 (63.1 MB/s) - ‘LoanStats_web.csv’ saved [1160243241/1160243241]\n",
            "\n"
          ]
        }
      ],
      "source": [
        "! wget https://storage.googleapis.com/grizzy-lab/LoanStats_web.csv"
      ]
    },
    {
      "cell_type": "code",
      "execution_count": 4,
      "metadata": {
        "id": "ryhqYylnDQbz"
      },
      "outputs": [],
      "source": [
        "import time as t"
      ]
    },
    {
      "cell_type": "code",
      "execution_count": 5,
      "metadata": {
        "id": "qWu_sxwVDQb0",
        "outputId": "61b7cbbe-4961-4f3b-aa1d-4371b751d459",
        "colab": {
          "base_uri": "https://localhost:8080/"
        }
      },
      "outputs": [
        {
          "output_type": "stream",
          "name": "stdout",
          "text": [
            "Looking in indexes: https://pypi.org/simple, https://us-python.pkg.dev/colab-wheels/public/simple/\n",
            "Requirement already satisfied: pandas in /usr/local/lib/python3.7/dist-packages (1.3.5)\n",
            "Requirement already satisfied: numpy>=1.17.3 in /usr/local/lib/python3.7/dist-packages (from pandas) (1.21.6)\n",
            "Requirement already satisfied: python-dateutil>=2.7.3 in /usr/local/lib/python3.7/dist-packages (from pandas) (2.8.2)\n",
            "Requirement already satisfied: pytz>=2017.3 in /usr/local/lib/python3.7/dist-packages (from pandas) (2022.2.1)\n",
            "Requirement already satisfied: six>=1.5 in /usr/local/lib/python3.7/dist-packages (from python-dateutil>=2.7.3->pandas) (1.15.0)\n"
          ]
        }
      ],
      "source": [
        "! pip install pandas"
      ]
    },
    {
      "cell_type": "code",
      "execution_count": 6,
      "metadata": {
        "id": "aQ6jMEqjDQb1"
      },
      "outputs": [],
      "source": [
        "from pyspark.sql import functions as F"
      ]
    },
    {
      "cell_type": "raw",
      "metadata": {
        "id": "zm6b7s6yDQb2"
      },
      "source": [
        "spark.stop()"
      ]
    },
    {
      "cell_type": "raw",
      "metadata": {
        "id": "zulyEwnfDQb3"
      },
      "source": [
        "spark = SparkSession \\\n",
        ".builder \\\n",
        ".appName(\"Prediction of Loan Payment\") \\\n",
        ".getOrCreate();"
      ]
    },
    {
      "cell_type": "code",
      "execution_count": 9,
      "metadata": {
        "id": "uzfaoWNqDQb3",
        "outputId": "780b491f-0f4f-41e4-803e-652eebe8ec6d",
        "colab": {
          "base_uri": "https://localhost:8080/",
          "height": 216
        }
      },
      "outputs": [
        {
          "output_type": "execute_result",
          "data": {
            "text/plain": [
              "<pyspark.sql.session.SparkSession at 0x7f49fc60b690>"
            ],
            "text/html": [
              "\n",
              "            <div>\n",
              "                <p><b>SparkSession - in-memory</b></p>\n",
              "                \n",
              "        <div>\n",
              "            <p><b>SparkContext</b></p>\n",
              "\n",
              "            <p><a href=\"http://ad1be6cdd547:4040\">Spark UI</a></p>\n",
              "\n",
              "            <dl>\n",
              "              <dt>Version</dt>\n",
              "                <dd><code>v2.4.1</code></dd>\n",
              "              <dt>Master</dt>\n",
              "                <dd><code>local[*]</code></dd>\n",
              "              <dt>AppName</dt>\n",
              "                <dd><code>pyspark-shell</code></dd>\n",
              "            </dl>\n",
              "        </div>\n",
              "        \n",
              "            </div>\n",
              "        "
            ]
          },
          "metadata": {},
          "execution_count": 9
        }
      ],
      "source": [
        "spark"
      ]
    },
    {
      "cell_type": "code",
      "execution_count": 10,
      "metadata": {
        "id": "1EH3fX3kDQb4"
      },
      "outputs": [],
      "source": [
        "raw_LendingClubWeb_df = spark.read.format('csv').\\\n",
        "option('header','true').option('mode','DROPMALFORMED')\\\n",
        ".load('LoanStats_web.csv')"
      ]
    },
    {
      "cell_type": "markdown",
      "metadata": {
        "id": "13juO24tDQb5"
      },
      "source": [
        "# 2. Data Understanding"
      ]
    },
    {
      "cell_type": "code",
      "execution_count": 11,
      "metadata": {
        "id": "Fa2p-verDQb6",
        "outputId": "e2e99cd7-c63b-434d-fdff-06fa70d0067d",
        "colab": {
          "base_uri": "https://localhost:8080/"
        }
      },
      "outputs": [
        {
          "output_type": "execute_result",
          "data": {
            "text/plain": [
              "1432466"
            ]
          },
          "metadata": {},
          "execution_count": 11
        }
      ],
      "source": [
        "## Get row count\n",
        "raw_LendingClubWeb_df.count()"
      ]
    },
    {
      "cell_type": "code",
      "execution_count": 12,
      "metadata": {
        "id": "ME404X5sDQb7",
        "outputId": "dc2a5ffd-534c-4680-c0ed-cdb18975696c",
        "colab": {
          "base_uri": "https://localhost:8080/"
        }
      },
      "outputs": [
        {
          "output_type": "stream",
          "name": "stdout",
          "text": [
            "root\n",
            " |-- id: string (nullable = true)\n",
            " |-- member_id: string (nullable = true)\n",
            " |-- loan_amnt: string (nullable = true)\n",
            " |-- funded_amnt: string (nullable = true)\n",
            " |-- funded_amnt_inv: string (nullable = true)\n",
            " |-- term: string (nullable = true)\n",
            " |-- int_rate: string (nullable = true)\n",
            " |-- installment: string (nullable = true)\n",
            " |-- grade: string (nullable = true)\n",
            " |-- sub_grade: string (nullable = true)\n",
            " |-- emp_title: string (nullable = true)\n",
            " |-- emp_length: string (nullable = true)\n",
            " |-- home_ownership: string (nullable = true)\n",
            " |-- annual_inc: string (nullable = true)\n",
            " |-- verification_status: string (nullable = true)\n",
            " |-- issue_d: string (nullable = true)\n",
            " |-- loan_status: string (nullable = true)\n",
            " |-- pymnt_plan: string (nullable = true)\n",
            " |-- url: string (nullable = true)\n",
            " |-- desc: string (nullable = true)\n",
            " |-- purpose: string (nullable = true)\n",
            " |-- title: string (nullable = true)\n",
            " |-- zip_code: string (nullable = true)\n",
            " |-- addr_state: string (nullable = true)\n",
            " |-- dti: string (nullable = true)\n",
            " |-- delinq_2yrs: string (nullable = true)\n",
            " |-- earliest_cr_line: string (nullable = true)\n",
            " |-- inq_last_6mths: string (nullable = true)\n",
            " |-- mths_since_last_delinq: string (nullable = true)\n",
            " |-- mths_since_last_record: string (nullable = true)\n",
            " |-- open_acc: string (nullable = true)\n",
            " |-- pub_rec: string (nullable = true)\n",
            " |-- revol_bal: string (nullable = true)\n",
            " |-- revol_util: string (nullable = true)\n",
            " |-- total_acc: string (nullable = true)\n",
            " |-- initial_list_status: string (nullable = true)\n",
            " |-- out_prncp: string (nullable = true)\n",
            " |-- out_prncp_inv: string (nullable = true)\n",
            " |-- total_pymnt: string (nullable = true)\n",
            " |-- total_pymnt_inv: string (nullable = true)\n",
            " |-- total_rec_prncp: string (nullable = true)\n",
            " |-- total_rec_int: string (nullable = true)\n",
            " |-- total_rec_late_fee: string (nullable = true)\n",
            " |-- recoveries: string (nullable = true)\n",
            " |-- collection_recovery_fee: string (nullable = true)\n",
            " |-- last_pymnt_d: string (nullable = true)\n",
            " |-- last_pymnt_amnt: string (nullable = true)\n",
            " |-- next_pymnt_d: string (nullable = true)\n",
            " |-- last_credit_pull_d: string (nullable = true)\n",
            " |-- collections_12_mths_ex_med: string (nullable = true)\n",
            " |-- mths_since_last_major_derog: string (nullable = true)\n",
            " |-- policy_code: string (nullable = true)\n",
            " |-- application_type: string (nullable = true)\n",
            " |-- annual_inc_joint: string (nullable = true)\n",
            " |-- dti_joint: string (nullable = true)\n",
            " |-- verification_status_joint: string (nullable = true)\n",
            " |-- acc_now_delinq: string (nullable = true)\n",
            " |-- tot_coll_amt: string (nullable = true)\n",
            " |-- tot_cur_bal: string (nullable = true)\n",
            " |-- open_acc_6m: string (nullable = true)\n",
            " |-- open_act_il: string (nullable = true)\n",
            " |-- open_il_12m: string (nullable = true)\n",
            " |-- open_il_24m: string (nullable = true)\n",
            " |-- mths_since_rcnt_il: string (nullable = true)\n",
            " |-- total_bal_il: string (nullable = true)\n",
            " |-- il_util: string (nullable = true)\n",
            " |-- open_rv_12m: string (nullable = true)\n",
            " |-- open_rv_24m: string (nullable = true)\n",
            " |-- max_bal_bc: string (nullable = true)\n",
            " |-- all_util: string (nullable = true)\n",
            " |-- total_rev_hi_lim: string (nullable = true)\n",
            " |-- inq_fi: string (nullable = true)\n",
            " |-- total_cu_tl: string (nullable = true)\n",
            " |-- inq_last_12m: string (nullable = true)\n",
            " |-- acc_open_past_24mths: string (nullable = true)\n",
            " |-- avg_cur_bal: string (nullable = true)\n",
            " |-- bc_open_to_buy: string (nullable = true)\n",
            " |-- bc_util: string (nullable = true)\n",
            " |-- chargeoff_within_12_mths: string (nullable = true)\n",
            " |-- delinq_amnt: string (nullable = true)\n",
            " |-- mo_sin_old_il_acct: string (nullable = true)\n",
            " |-- mo_sin_old_rev_tl_op: string (nullable = true)\n",
            " |-- mo_sin_rcnt_rev_tl_op: string (nullable = true)\n",
            " |-- mo_sin_rcnt_tl: string (nullable = true)\n",
            " |-- mort_acc: string (nullable = true)\n",
            " |-- mths_since_recent_bc: string (nullable = true)\n",
            " |-- mths_since_recent_bc_dlq: string (nullable = true)\n",
            " |-- mths_since_recent_inq: string (nullable = true)\n",
            " |-- mths_since_recent_revol_delinq: string (nullable = true)\n",
            " |-- num_accts_ever_120_pd: string (nullable = true)\n",
            " |-- num_actv_bc_tl: string (nullable = true)\n",
            " |-- num_actv_rev_tl: string (nullable = true)\n",
            " |-- num_bc_sats: string (nullable = true)\n",
            " |-- num_bc_tl: string (nullable = true)\n",
            " |-- num_il_tl: string (nullable = true)\n",
            " |-- num_op_rev_tl: string (nullable = true)\n",
            " |-- num_rev_accts: string (nullable = true)\n",
            " |-- num_rev_tl_bal_gt_0: string (nullable = true)\n",
            " |-- num_sats: string (nullable = true)\n",
            " |-- num_tl_120dpd_2m: string (nullable = true)\n",
            " |-- num_tl_30dpd: string (nullable = true)\n",
            " |-- num_tl_90g_dpd_24m: string (nullable = true)\n",
            " |-- num_tl_op_past_12m: string (nullable = true)\n",
            " |-- pct_tl_nvr_dlq: string (nullable = true)\n",
            " |-- percent_bc_gt_75: string (nullable = true)\n",
            " |-- pub_rec_bankruptcies: string (nullable = true)\n",
            " |-- tax_liens: string (nullable = true)\n",
            " |-- tot_hi_cred_lim: string (nullable = true)\n",
            " |-- total_bal_ex_mort: string (nullable = true)\n",
            " |-- total_bc_limit: string (nullable = true)\n",
            " |-- total_il_high_credit_limit: string (nullable = true)\n",
            " |-- revol_bal_joint: string (nullable = true)\n",
            " |-- sec_app_earliest_cr_line: string (nullable = true)\n",
            " |-- sec_app_inq_last_6mths: string (nullable = true)\n",
            " |-- sec_app_mort_acc: string (nullable = true)\n",
            " |-- sec_app_open_acc: string (nullable = true)\n",
            " |-- sec_app_revol_util: string (nullable = true)\n",
            " |-- sec_app_open_act_il: string (nullable = true)\n",
            " |-- sec_app_num_rev_accts: string (nullable = true)\n",
            " |-- sec_app_chargeoff_within_12_mths: string (nullable = true)\n",
            " |-- sec_app_collections_12_mths_ex_med: string (nullable = true)\n",
            " |-- sec_app_mths_since_last_major_derog: string (nullable = true)\n",
            " |-- hardship_flag: string (nullable = true)\n",
            " |-- hardship_type: string (nullable = true)\n",
            " |-- hardship_reason: string (nullable = true)\n",
            " |-- hardship_status: string (nullable = true)\n",
            " |-- deferral_term: string (nullable = true)\n",
            " |-- hardship_amount: string (nullable = true)\n",
            " |-- hardship_start_date: string (nullable = true)\n",
            " |-- hardship_end_date: string (nullable = true)\n",
            " |-- payment_plan_start_date: string (nullable = true)\n",
            " |-- hardship_length: string (nullable = true)\n",
            " |-- hardship_dpd: string (nullable = true)\n",
            " |-- hardship_loan_status: string (nullable = true)\n",
            " |-- orig_projected_additional_accrued_interest: string (nullable = true)\n",
            " |-- hardship_payoff_balance_amount: string (nullable = true)\n",
            " |-- hardship_last_payment_amount: string (nullable = true)\n",
            " |-- debt_settlement_flag: string (nullable = true)\n",
            " |-- debt_settlement_flag_date: string (nullable = true)\n",
            " |-- settlement_status: string (nullable = true)\n",
            " |-- settlement_date: string (nullable = true)\n",
            " |-- settlement_amount: string (nullable = true)\n",
            " |-- settlement_percentage: string (nullable = true)\n",
            " |-- settlement_term: string (nullable = true)\n",
            "\n"
          ]
        }
      ],
      "source": [
        "## Get Data Type\n",
        "raw_LendingClubWeb_df.printSchema()"
      ]
    },
    {
      "cell_type": "raw",
      "metadata": {
        "id": "UMTfLMUXDQb8"
      },
      "source": [
        "## Get Freq. Distribution of \"purpose\"\n",
        "raw_LendingClubWeb_df.select(['purpose']).groupBy('purpose').count().show()"
      ]
    },
    {
      "cell_type": "raw",
      "metadata": {
        "id": "VPODUw4ODQb8"
      },
      "source": [
        "## Get avg. of \"loan_amnt\" and sum of \"loan_amnt\" on diffterent \"purpose\"\n",
        "raw_LendingClubWeb_df.groupBy('purpose')\\\n",
        ".agg(F.avg(F.col(\"loan_amnt\")),F.sum(F.col(\"loan_amnt\"))).show()"
      ]
    },
    {
      "cell_type": "raw",
      "metadata": {
        "id": "FGni38QnDQb9"
      },
      "source": [
        "## Get avg. of \"loan_amnt\" and sum of \"loan_amnt\" on diffterent \"purpose\"\n",
        "raw_LendingClubWeb_df.groupBy('loan_status')\\\n",
        ".agg(F.avg(F.col(\"loan_amnt\")),F.sum(F.col(\"loan_amnt\"))).show()"
      ]
    },
    {
      "cell_type": "raw",
      "metadata": {
        "id": "DZikTfEhDQb-"
      },
      "source": [
        "raw_LendingClubWeb_df.select(['home_ownership']).groupBy('home_ownership').count().show()"
      ]
    },
    {
      "cell_type": "code",
      "execution_count": 13,
      "metadata": {
        "id": "Q83Rj167DQb-",
        "outputId": "ab4d58fe-1924-485e-bb5b-897f1d339064",
        "colab": {
          "base_uri": "https://localhost:8080/"
        }
      },
      "outputs": [
        {
          "output_type": "stream",
          "name": "stdout",
          "text": [
            "+-----+------+\n",
            "|grade| count|\n",
            "+-----+------+\n",
            "| null|    26|\n",
            "|    G|  5271|\n",
            "|    F| 19480|\n",
            "|    E| 68353|\n",
            "|    D|191137|\n",
            "|    A|302988|\n",
            "|    C|421101|\n",
            "|    B|424110|\n",
            "+-----+------+\n",
            "\n"
          ]
        }
      ],
      "source": [
        "## Get Freq. Distribution of \"purpose\" (อาจเจอ outlier)\n",
        "raw_LendingClubWeb_df.groupBy('grade').count().orderBy('count').show(100)"
      ]
    },
    {
      "cell_type": "code",
      "execution_count": 14,
      "metadata": {
        "id": "447itXu3DQb_"
      },
      "outputs": [],
      "source": [
        "ALL = raw_LendingClubWeb_df.count()"
      ]
    },
    {
      "cell_type": "code",
      "execution_count": 15,
      "metadata": {
        "id": "NndK-1XkDQcA",
        "outputId": "c1d3b0d7-fa80-441e-f23e-a892c265c867",
        "colab": {
          "base_uri": "https://localhost:8080/"
        }
      },
      "outputs": [
        {
          "output_type": "execute_result",
          "data": {
            "text/plain": [
              "1432466"
            ]
          },
          "metadata": {},
          "execution_count": 15
        }
      ],
      "source": [
        "ALL"
      ]
    },
    {
      "cell_type": "code",
      "execution_count": 16,
      "metadata": {
        "id": "bxQnCsRiDQcB",
        "outputId": "4f69f390-a141-4061-b480-b55f21adb39c",
        "colab": {
          "base_uri": "https://localhost:8080/"
        }
      },
      "outputs": [
        {
          "output_type": "stream",
          "name": "stdout",
          "text": [
            "+-----+----------+--------------------+\n",
            "|grade|gradeCount|     gradePercentage|\n",
            "+-----+----------+--------------------+\n",
            "| null|        26|0.001815051805767...|\n",
            "|    G|      5271|  0.3679668487768645|\n",
            "|    F|     19480|  1.3598926606285944|\n",
            "|    E|     68353|   4.771701387676916|\n",
            "|    D|    191137|   13.34321373072729|\n",
            "|    A|    302988|  21.151496789452594|\n",
            "|    C|    421101|   29.39692809462842|\n",
            "|    B|    424110|   29.60698543630355|\n",
            "+-----+----------+--------------------+\n",
            "\n"
          ]
        }
      ],
      "source": [
        "## Get Freq. Distribution of \"purpose\" (อาจเจอ outlier)\n",
        "raw_LendingClubWeb_df.groupBy('grade').count()\\\n",
        ".withColumnRenamed('count','gradeCount')\\\n",
        ".withColumn('gradePercentage',(F.col('gradeCount')/ALL)*100)\\\n",
        ".orderBy('gradePercentage').show(100)"
      ]
    },
    {
      "cell_type": "raw",
      "metadata": {
        "id": "q0cEJa_HDQcB"
      },
      "source": [
        "raw_LendingClubWeb_df.groupBy('term').count().show()"
      ]
    },
    {
      "cell_type": "raw",
      "metadata": {
        "id": "1iJH2_SjDQcC"
      },
      "source": [
        "raw_LendingClubWeb_df.select(['emp_title']).groupBy('emp_title').count().show()"
      ]
    },
    {
      "cell_type": "raw",
      "metadata": {
        "id": "03I695YuDQcC"
      },
      "source": [
        "raw_LendingClubWeb_df.select(['emp_length']).groupBy('emp_length').count().show()"
      ]
    },
    {
      "cell_type": "code",
      "execution_count": 17,
      "metadata": {
        "id": "39__UkzwDQcC",
        "outputId": "da289bfe-a02f-430b-e5d0-71899d5df208",
        "colab": {
          "base_uri": "https://localhost:8080/"
        }
      },
      "outputs": [
        {
          "output_type": "stream",
          "name": "stdout",
          "text": [
            "+------------------+------+\n",
            "|       loan_status| count|\n",
            "+------------------+------+\n",
            "|              null|    26|\n",
            "|           Default|  1419|\n",
            "| Late (16-30 days)|  4986|\n",
            "|   In Grace Period|  6136|\n",
            "|Late (31-120 days)| 19455|\n",
            "|       Charged Off|152999|\n",
            "|        Fully Paid|583755|\n",
            "|           Current|663690|\n",
            "+------------------+------+\n",
            "\n"
          ]
        }
      ],
      "source": [
        "## Check for Imbalance Class\n",
        "raw_LendingClubWeb_df.select(['loan_status']).groupBy('loan_status').count().orderBy('count').show(100)"
      ]
    },
    {
      "cell_type": "raw",
      "metadata": {
        "id": "gL8hq3wmDQcD"
      },
      "source": [
        "raw_LendingClubWeb_df.groupBy('loan_status','grade').count()\\\n",
        ".filter((F.col('loan_status') == 'Fully Paid')|(F.col('loan_status') == 'Charged Off'))\\\n",
        ".orderBy('loan_status','grade').show()"
      ]
    },
    {
      "cell_type": "raw",
      "metadata": {
        "id": "dbd-dlmEDQcD"
      },
      "source": [
        "raw_LendingClubWeb_df.select(['pub_rec']).groupBy('pub_rec').count().show()"
      ]
    },
    {
      "cell_type": "raw",
      "metadata": {
        "id": "OcJjpg60DQcD"
      },
      "source": [
        "raw_LendingClubWeb_df.select(['inq_last_6mths']).groupBy('inq_last_6mths').count().show()"
      ]
    },
    {
      "cell_type": "raw",
      "metadata": {
        "id": "--ywS1ZCDQcE"
      },
      "source": [
        "raw_LendingClubWeb_df.select(['settlement_status']).groupBy('settlement_status').count().show()"
      ]
    },
    {
      "cell_type": "code",
      "execution_count": 18,
      "metadata": {
        "id": "6LjGG_qdDQcE"
      },
      "outputs": [],
      "source": [
        "## Get data that contain ONLY Fully Paid and Charged Off\n",
        "loanPayment_df = raw_LendingClubWeb_df\\\n",
        ".filter((F.col('loan_status') == 'Fully Paid') | ((F.col('loan_status') =='Charged Off')))"
      ]
    },
    {
      "cell_type": "code",
      "execution_count": 19,
      "metadata": {
        "id": "4bwaJYw5DQcE",
        "outputId": "12f65f90-9bb9-497b-db36-533ce2df94ae",
        "colab": {
          "base_uri": "https://localhost:8080/"
        }
      },
      "outputs": [
        {
          "output_type": "stream",
          "name": "stdout",
          "text": [
            "+-----------+------+\n",
            "|loan_status| count|\n",
            "+-----------+------+\n",
            "| Fully Paid|583755|\n",
            "|Charged Off|152999|\n",
            "+-----------+------+\n",
            "\n"
          ]
        }
      ],
      "source": [
        "loanPayment_df.groupBy('loan_status').count().show()"
      ]
    },
    {
      "cell_type": "code",
      "execution_count": 20,
      "metadata": {
        "id": "8c5rRUeEDQcF"
      },
      "outputs": [],
      "source": [
        "## Get data that contain ONLY related attributes with Business Prespective.\n",
        "business_df = loanPayment_df.select('annual_inc'\\\n",
        "                                           ,'bc_util'\\\n",
        "                                           ,'inq_fi'\\\n",
        "                                           ,'inq_last_12m'\\\n",
        "                                           ,'home_ownership'\\\n",
        "                                           ,'purpose'\\\n",
        "                                           ,'emp_length'\\\n",
        "                                           ,'revol_bal'\\\n",
        "                                           ,'dti'\\\n",
        "                                           ,'delinq_2yrs'\\\n",
        "                                           ,'pub_rec_bankruptcies'\\\n",
        "                                           ,'pub_rec'\\\n",
        "                                           ,'open_rv_24m'\\\n",
        "                                           ,'mort_acc'\\\n",
        "                                           ,'num_actv_bc_tl'\\\n",
        "                                           ,'num_actv_rev_tl'\\\n",
        "                                           ,'num_il_tl'\\\n",
        "                                           ,'num_tl_90g_dpd_24m'\\\n",
        "                                           ,'int_rate'\\\n",
        "                                           ,'inq_last_6mths'\\\n",
        "                                           ,'term'\\\n",
        "                                           ,'installment'\\\n",
        "                                           ,'total_rev_hi_lim'\\\n",
        "                                           ,'total_bal_il'\\\n",
        "                                           ,'total_bal_ex_mort'\\\n",
        "                                           ,'total_acc'\\\n",
        "                                           ,'tot_cur_bal'\\\n",
        "                                           ,'loan_amnt'\\\n",
        "                                           ,'loan_status'\\\n",
        "                                           ,'verification_status'\\\n",
        "                                           ,'collections_12_mths_ex_med'\\\n",
        "                                           ,'chargeoff_within_12_mths'\\\n",
        "                                           ,'il_util'\\\n",
        "                                           ,'last_pymnt_amnt'\\\n",
        "                                           #,'last_pymnt_d'\\\n",
        "                                           ,'out_prncp_inv'\\\n",
        "                                           ,'out_prncp'\\\n",
        "                                           ,'total_pymnt_inv'\\\n",
        "                                           ,'total_pymnt'\\\n",
        "                                           ,'grade')\n",
        "                                           #,'sec_app_collections_12_mths_ex_med'\\\n",
        "                                           #,'sec_app_chargeoff_within_12_mths'\\\n",
        "                                           #,'settlement_term'\\\n",
        "                                           #,'settlement_amount'\\\n",
        "                                           #,'settlement_status'"
      ]
    },
    {
      "cell_type": "code",
      "execution_count": 21,
      "metadata": {
        "id": "WaTx4Xx_DQcG",
        "outputId": "6504d4f1-9302-4202-ca8c-7e366c23eb55",
        "colab": {
          "base_uri": "https://localhost:8080/"
        }
      },
      "outputs": [
        {
          "output_type": "execute_result",
          "data": {
            "text/plain": [
              "39"
            ]
          },
          "metadata": {},
          "execution_count": 21
        }
      ],
      "source": [
        "len(business_df.columns)"
      ]
    },
    {
      "cell_type": "code",
      "execution_count": 22,
      "metadata": {
        "id": "JtNgW-jGDQcG",
        "outputId": "69fab9be-42e6-4b08-e7ca-f8e4ebf7805d",
        "colab": {
          "base_uri": "https://localhost:8080/",
          "height": 1000
        }
      },
      "outputs": [
        {
          "output_type": "execute_result",
          "data": {
            "text/plain": [
              "                                 0                     1                    2  \\\n",
              "summary                      count                  mean               stddev   \n",
              "annual_inc                  736754      79498.4926439083     78094.7518701319   \n",
              "bc_util                     727864     55.10990899398759   28.903095321098565   \n",
              "inq_fi                      736698    1.0650497218670336    5.890278008272024   \n",
              "inq_last_12m                736697    2.2510679424512383   21.116503762814474   \n",
              "home_ownership              736754                  None                 None   \n",
              "purpose                     736754                  None                 None   \n",
              "emp_length                  736754                  None                 None   \n",
              "revol_bal                   736753    16101.816257280256   22819.366258659797   \n",
              "dti                         736282    18.711086881231356    13.79426027607045   \n",
              "delinq_2yrs                 736754    0.3277299176250385   0.9008942673149016   \n",
              "pub_rec_bankruptcies        736754   0.15136531325245606  0.40046869470735874   \n",
              "pub_rec                     736753    0.2478686886921397   0.6645595580653079   \n",
              "open_rv_24m                 736698     3.147330385042446   184.46645339083832   \n",
              "mort_acc                    736754    1.5373462512589005   1.8460867346396737   \n",
              "num_actv_bc_tl              736754    3.6019689068535765   2.3258322008312255   \n",
              "num_actv_rev_tl             736753      5.53152956282499   3.4098121016495155   \n",
              "num_il_tl                   736754     8.690485562345097    7.531763336203967   \n",
              "num_tl_90g_dpd_24m          736754   0.08723671673312938    0.512466021951747   \n",
              "int_rate                    736754                  None                 None   \n",
              "inq_last_6mths              736753    0.5593736842605324   0.8481089701604774   \n",
              "term                        736754                  None                 None   \n",
              "installment                 736754     446.5760839845886     282.946409748525   \n",
              "total_rev_hi_lim            736754     34845.23013108853    35308.55756631299   \n",
              "total_bal_il                736698    35679.087370944406    43231.85282435506   \n",
              "total_bal_ex_mort           736754     51900.10984534865    50510.56664878886   \n",
              "total_acc                   736754     24.40336258778371   12.166053562068655   \n",
              "tot_cur_bal                 736753    145813.89097024375   163521.43581930472   \n",
              "loan_amnt                   736754    14504.612088974067    9243.765872132288   \n",
              "loan_status                 736754                  None                 None   \n",
              "verification_status         736754                  None                 None   \n",
              "collections_12_mths_ex_med  736754   0.02159408703583557  0.41026950209823226   \n",
              "chargeoff_within_12_mths    736754  0.021477996726179973   10.611711126845611   \n",
              "il_util                     635834     70.88114036053436   23.050670970258608   \n",
              "last_pymnt_amnt             736754     6200.009523925275    7739.748602440898   \n",
              "out_prncp_inv               736754   3.52899339535313E-5  0.03029089438745283   \n",
              "out_prncp                   736754                   0.0                  0.0   \n",
              "total_pymnt_inv             736754    14302.047306536568    10416.15833705623   \n",
              "total_pymnt                 736754    14307.439003572941   10419.143476019915   \n",
              "grade                       736754                  None                 None   \n",
              "\n",
              "                                                                            3  \\\n",
              "summary                                                                   min   \n",
              "annual_inc                                                                  0   \n",
              "bc_util                                                                     0   \n",
              "inq_fi                                                                      0   \n",
              "inq_last_12m                                                                0   \n",
              "home_ownership                                                            ANY   \n",
              "purpose                      and also pay off some credit card debt.  I wi...   \n",
              "emp_length                                                             1 year   \n",
              "revol_bal                                                                   0   \n",
              "dti                                                                        -1   \n",
              "delinq_2yrs                                                                 0   \n",
              "pub_rec_bankruptcies                                                        0   \n",
              "pub_rec                                                                     0   \n",
              "open_rv_24m                                                                 0   \n",
              "mort_acc                                                                    0   \n",
              "num_actv_bc_tl                                                              0   \n",
              "num_actv_rev_tl                                                             0   \n",
              "num_il_tl                                                                   0   \n",
              "num_tl_90g_dpd_24m                                                          0   \n",
              "int_rate                                                                5.31%   \n",
              "inq_last_6mths                                                              0   \n",
              "term                                                                36 months   \n",
              "installment                                                            100.01   \n",
              "total_rev_hi_lim                                                            0   \n",
              "total_bal_il                                                                0   \n",
              "total_bal_ex_mort                                                           0   \n",
              "total_acc                                                                   0   \n",
              "tot_cur_bal                                                                 0   \n",
              "loan_amnt                                                                1000   \n",
              "loan_status                                                       Charged Off   \n",
              "verification_status                                              Not Verified   \n",
              "collections_12_mths_ex_med                                                  0   \n",
              "chargeoff_within_12_mths                                                    0   \n",
              "il_util                                                                     0   \n",
              "last_pymnt_amnt                                                           0.0   \n",
              "out_prncp_inv                                                            0.00   \n",
              "out_prncp                                                                0.00   \n",
              "total_pymnt_inv                                                          0.00   \n",
              "total_pymnt                                                               0.0   \n",
              "grade                                                                       A   \n",
              "\n",
              "                                             4  \n",
              "summary                                    max  \n",
              "annual_inc                            99999.84  \n",
              "bc_util                                   99.9  \n",
              "inq_fi                                       9  \n",
              "inq_last_12m                                 9  \n",
              "home_ownership                            RENT  \n",
              "purpose                                wedding  \n",
              "emp_length                                 n/a  \n",
              "revol_bal                                99991  \n",
              "dti                         Debt consolidation  \n",
              "delinq_2yrs                                  9  \n",
              "pub_rec_bankruptcies                         9  \n",
              "pub_rec                                      9  \n",
              "open_rv_24m                                  9  \n",
              "mort_acc                                     9  \n",
              "num_actv_bc_tl                               9  \n",
              "num_actv_rev_tl                              9  \n",
              "num_il_tl                                   99  \n",
              "num_tl_90g_dpd_24m                           9  \n",
              "int_rate                                30.99%  \n",
              "inq_last_6mths                               5  \n",
              "term                                 60 months  \n",
              "installment                             999.98  \n",
              "total_rev_hi_lim                         99979  \n",
              "total_bal_il                             99999  \n",
              "total_bal_ex_mort                        99999  \n",
              "total_acc                                   99  \n",
              "tot_cur_bal                              99998  \n",
              "loan_amnt                                 9975  \n",
              "loan_status                         Fully Paid  \n",
              "verification_status                   Verified  \n",
              "collections_12_mths_ex_med                   9  \n",
              "chargeoff_within_12_mths                  9108  \n",
              "il_util                                     99  \n",
              "last_pymnt_amnt                        9999.89  \n",
              "out_prncp_inv                               26  \n",
              "out_prncp                                81.9%  \n",
              "total_pymnt_inv                        9999.95  \n",
              "total_pymnt                                  w  \n",
              "grade                                        G  "
            ],
            "text/html": [
              "\n",
              "  <div id=\"df-9265d188-2d78-481e-8e14-cfb95c2ea79a\">\n",
              "    <div class=\"colab-df-container\">\n",
              "      <div>\n",
              "<style scoped>\n",
              "    .dataframe tbody tr th:only-of-type {\n",
              "        vertical-align: middle;\n",
              "    }\n",
              "\n",
              "    .dataframe tbody tr th {\n",
              "        vertical-align: top;\n",
              "    }\n",
              "\n",
              "    .dataframe thead th {\n",
              "        text-align: right;\n",
              "    }\n",
              "</style>\n",
              "<table border=\"1\" class=\"dataframe\">\n",
              "  <thead>\n",
              "    <tr style=\"text-align: right;\">\n",
              "      <th></th>\n",
              "      <th>0</th>\n",
              "      <th>1</th>\n",
              "      <th>2</th>\n",
              "      <th>3</th>\n",
              "      <th>4</th>\n",
              "    </tr>\n",
              "  </thead>\n",
              "  <tbody>\n",
              "    <tr>\n",
              "      <th>summary</th>\n",
              "      <td>count</td>\n",
              "      <td>mean</td>\n",
              "      <td>stddev</td>\n",
              "      <td>min</td>\n",
              "      <td>max</td>\n",
              "    </tr>\n",
              "    <tr>\n",
              "      <th>annual_inc</th>\n",
              "      <td>736754</td>\n",
              "      <td>79498.4926439083</td>\n",
              "      <td>78094.7518701319</td>\n",
              "      <td>0</td>\n",
              "      <td>99999.84</td>\n",
              "    </tr>\n",
              "    <tr>\n",
              "      <th>bc_util</th>\n",
              "      <td>727864</td>\n",
              "      <td>55.10990899398759</td>\n",
              "      <td>28.903095321098565</td>\n",
              "      <td>0</td>\n",
              "      <td>99.9</td>\n",
              "    </tr>\n",
              "    <tr>\n",
              "      <th>inq_fi</th>\n",
              "      <td>736698</td>\n",
              "      <td>1.0650497218670336</td>\n",
              "      <td>5.890278008272024</td>\n",
              "      <td>0</td>\n",
              "      <td>9</td>\n",
              "    </tr>\n",
              "    <tr>\n",
              "      <th>inq_last_12m</th>\n",
              "      <td>736697</td>\n",
              "      <td>2.2510679424512383</td>\n",
              "      <td>21.116503762814474</td>\n",
              "      <td>0</td>\n",
              "      <td>9</td>\n",
              "    </tr>\n",
              "    <tr>\n",
              "      <th>home_ownership</th>\n",
              "      <td>736754</td>\n",
              "      <td>None</td>\n",
              "      <td>None</td>\n",
              "      <td>ANY</td>\n",
              "      <td>RENT</td>\n",
              "    </tr>\n",
              "    <tr>\n",
              "      <th>purpose</th>\n",
              "      <td>736754</td>\n",
              "      <td>None</td>\n",
              "      <td>None</td>\n",
              "      <td>and also pay off some credit card debt.  I wi...</td>\n",
              "      <td>wedding</td>\n",
              "    </tr>\n",
              "    <tr>\n",
              "      <th>emp_length</th>\n",
              "      <td>736754</td>\n",
              "      <td>None</td>\n",
              "      <td>None</td>\n",
              "      <td>1 year</td>\n",
              "      <td>n/a</td>\n",
              "    </tr>\n",
              "    <tr>\n",
              "      <th>revol_bal</th>\n",
              "      <td>736753</td>\n",
              "      <td>16101.816257280256</td>\n",
              "      <td>22819.366258659797</td>\n",
              "      <td>0</td>\n",
              "      <td>99991</td>\n",
              "    </tr>\n",
              "    <tr>\n",
              "      <th>dti</th>\n",
              "      <td>736282</td>\n",
              "      <td>18.711086881231356</td>\n",
              "      <td>13.79426027607045</td>\n",
              "      <td>-1</td>\n",
              "      <td>Debt consolidation</td>\n",
              "    </tr>\n",
              "    <tr>\n",
              "      <th>delinq_2yrs</th>\n",
              "      <td>736754</td>\n",
              "      <td>0.3277299176250385</td>\n",
              "      <td>0.9008942673149016</td>\n",
              "      <td>0</td>\n",
              "      <td>9</td>\n",
              "    </tr>\n",
              "    <tr>\n",
              "      <th>pub_rec_bankruptcies</th>\n",
              "      <td>736754</td>\n",
              "      <td>0.15136531325245606</td>\n",
              "      <td>0.40046869470735874</td>\n",
              "      <td>0</td>\n",
              "      <td>9</td>\n",
              "    </tr>\n",
              "    <tr>\n",
              "      <th>pub_rec</th>\n",
              "      <td>736753</td>\n",
              "      <td>0.2478686886921397</td>\n",
              "      <td>0.6645595580653079</td>\n",
              "      <td>0</td>\n",
              "      <td>9</td>\n",
              "    </tr>\n",
              "    <tr>\n",
              "      <th>open_rv_24m</th>\n",
              "      <td>736698</td>\n",
              "      <td>3.147330385042446</td>\n",
              "      <td>184.46645339083832</td>\n",
              "      <td>0</td>\n",
              "      <td>9</td>\n",
              "    </tr>\n",
              "    <tr>\n",
              "      <th>mort_acc</th>\n",
              "      <td>736754</td>\n",
              "      <td>1.5373462512589005</td>\n",
              "      <td>1.8460867346396737</td>\n",
              "      <td>0</td>\n",
              "      <td>9</td>\n",
              "    </tr>\n",
              "    <tr>\n",
              "      <th>num_actv_bc_tl</th>\n",
              "      <td>736754</td>\n",
              "      <td>3.6019689068535765</td>\n",
              "      <td>2.3258322008312255</td>\n",
              "      <td>0</td>\n",
              "      <td>9</td>\n",
              "    </tr>\n",
              "    <tr>\n",
              "      <th>num_actv_rev_tl</th>\n",
              "      <td>736753</td>\n",
              "      <td>5.53152956282499</td>\n",
              "      <td>3.4098121016495155</td>\n",
              "      <td>0</td>\n",
              "      <td>9</td>\n",
              "    </tr>\n",
              "    <tr>\n",
              "      <th>num_il_tl</th>\n",
              "      <td>736754</td>\n",
              "      <td>8.690485562345097</td>\n",
              "      <td>7.531763336203967</td>\n",
              "      <td>0</td>\n",
              "      <td>99</td>\n",
              "    </tr>\n",
              "    <tr>\n",
              "      <th>num_tl_90g_dpd_24m</th>\n",
              "      <td>736754</td>\n",
              "      <td>0.08723671673312938</td>\n",
              "      <td>0.512466021951747</td>\n",
              "      <td>0</td>\n",
              "      <td>9</td>\n",
              "    </tr>\n",
              "    <tr>\n",
              "      <th>int_rate</th>\n",
              "      <td>736754</td>\n",
              "      <td>None</td>\n",
              "      <td>None</td>\n",
              "      <td>5.31%</td>\n",
              "      <td>30.99%</td>\n",
              "    </tr>\n",
              "    <tr>\n",
              "      <th>inq_last_6mths</th>\n",
              "      <td>736753</td>\n",
              "      <td>0.5593736842605324</td>\n",
              "      <td>0.8481089701604774</td>\n",
              "      <td>0</td>\n",
              "      <td>5</td>\n",
              "    </tr>\n",
              "    <tr>\n",
              "      <th>term</th>\n",
              "      <td>736754</td>\n",
              "      <td>None</td>\n",
              "      <td>None</td>\n",
              "      <td>36 months</td>\n",
              "      <td>60 months</td>\n",
              "    </tr>\n",
              "    <tr>\n",
              "      <th>installment</th>\n",
              "      <td>736754</td>\n",
              "      <td>446.5760839845886</td>\n",
              "      <td>282.946409748525</td>\n",
              "      <td>100.01</td>\n",
              "      <td>999.98</td>\n",
              "    </tr>\n",
              "    <tr>\n",
              "      <th>total_rev_hi_lim</th>\n",
              "      <td>736754</td>\n",
              "      <td>34845.23013108853</td>\n",
              "      <td>35308.55756631299</td>\n",
              "      <td>0</td>\n",
              "      <td>99979</td>\n",
              "    </tr>\n",
              "    <tr>\n",
              "      <th>total_bal_il</th>\n",
              "      <td>736698</td>\n",
              "      <td>35679.087370944406</td>\n",
              "      <td>43231.85282435506</td>\n",
              "      <td>0</td>\n",
              "      <td>99999</td>\n",
              "    </tr>\n",
              "    <tr>\n",
              "      <th>total_bal_ex_mort</th>\n",
              "      <td>736754</td>\n",
              "      <td>51900.10984534865</td>\n",
              "      <td>50510.56664878886</td>\n",
              "      <td>0</td>\n",
              "      <td>99999</td>\n",
              "    </tr>\n",
              "    <tr>\n",
              "      <th>total_acc</th>\n",
              "      <td>736754</td>\n",
              "      <td>24.40336258778371</td>\n",
              "      <td>12.166053562068655</td>\n",
              "      <td>0</td>\n",
              "      <td>99</td>\n",
              "    </tr>\n",
              "    <tr>\n",
              "      <th>tot_cur_bal</th>\n",
              "      <td>736753</td>\n",
              "      <td>145813.89097024375</td>\n",
              "      <td>163521.43581930472</td>\n",
              "      <td>0</td>\n",
              "      <td>99998</td>\n",
              "    </tr>\n",
              "    <tr>\n",
              "      <th>loan_amnt</th>\n",
              "      <td>736754</td>\n",
              "      <td>14504.612088974067</td>\n",
              "      <td>9243.765872132288</td>\n",
              "      <td>1000</td>\n",
              "      <td>9975</td>\n",
              "    </tr>\n",
              "    <tr>\n",
              "      <th>loan_status</th>\n",
              "      <td>736754</td>\n",
              "      <td>None</td>\n",
              "      <td>None</td>\n",
              "      <td>Charged Off</td>\n",
              "      <td>Fully Paid</td>\n",
              "    </tr>\n",
              "    <tr>\n",
              "      <th>verification_status</th>\n",
              "      <td>736754</td>\n",
              "      <td>None</td>\n",
              "      <td>None</td>\n",
              "      <td>Not Verified</td>\n",
              "      <td>Verified</td>\n",
              "    </tr>\n",
              "    <tr>\n",
              "      <th>collections_12_mths_ex_med</th>\n",
              "      <td>736754</td>\n",
              "      <td>0.02159408703583557</td>\n",
              "      <td>0.41026950209823226</td>\n",
              "      <td>0</td>\n",
              "      <td>9</td>\n",
              "    </tr>\n",
              "    <tr>\n",
              "      <th>chargeoff_within_12_mths</th>\n",
              "      <td>736754</td>\n",
              "      <td>0.021477996726179973</td>\n",
              "      <td>10.611711126845611</td>\n",
              "      <td>0</td>\n",
              "      <td>9108</td>\n",
              "    </tr>\n",
              "    <tr>\n",
              "      <th>il_util</th>\n",
              "      <td>635834</td>\n",
              "      <td>70.88114036053436</td>\n",
              "      <td>23.050670970258608</td>\n",
              "      <td>0</td>\n",
              "      <td>99</td>\n",
              "    </tr>\n",
              "    <tr>\n",
              "      <th>last_pymnt_amnt</th>\n",
              "      <td>736754</td>\n",
              "      <td>6200.009523925275</td>\n",
              "      <td>7739.748602440898</td>\n",
              "      <td>0.0</td>\n",
              "      <td>9999.89</td>\n",
              "    </tr>\n",
              "    <tr>\n",
              "      <th>out_prncp_inv</th>\n",
              "      <td>736754</td>\n",
              "      <td>3.52899339535313E-5</td>\n",
              "      <td>0.03029089438745283</td>\n",
              "      <td>0.00</td>\n",
              "      <td>26</td>\n",
              "    </tr>\n",
              "    <tr>\n",
              "      <th>out_prncp</th>\n",
              "      <td>736754</td>\n",
              "      <td>0.0</td>\n",
              "      <td>0.0</td>\n",
              "      <td>0.00</td>\n",
              "      <td>81.9%</td>\n",
              "    </tr>\n",
              "    <tr>\n",
              "      <th>total_pymnt_inv</th>\n",
              "      <td>736754</td>\n",
              "      <td>14302.047306536568</td>\n",
              "      <td>10416.15833705623</td>\n",
              "      <td>0.00</td>\n",
              "      <td>9999.95</td>\n",
              "    </tr>\n",
              "    <tr>\n",
              "      <th>total_pymnt</th>\n",
              "      <td>736754</td>\n",
              "      <td>14307.439003572941</td>\n",
              "      <td>10419.143476019915</td>\n",
              "      <td>0.0</td>\n",
              "      <td>w</td>\n",
              "    </tr>\n",
              "    <tr>\n",
              "      <th>grade</th>\n",
              "      <td>736754</td>\n",
              "      <td>None</td>\n",
              "      <td>None</td>\n",
              "      <td>A</td>\n",
              "      <td>G</td>\n",
              "    </tr>\n",
              "  </tbody>\n",
              "</table>\n",
              "</div>\n",
              "      <button class=\"colab-df-convert\" onclick=\"convertToInteractive('df-9265d188-2d78-481e-8e14-cfb95c2ea79a')\"\n",
              "              title=\"Convert this dataframe to an interactive table.\"\n",
              "              style=\"display:none;\">\n",
              "        \n",
              "  <svg xmlns=\"http://www.w3.org/2000/svg\" height=\"24px\"viewBox=\"0 0 24 24\"\n",
              "       width=\"24px\">\n",
              "    <path d=\"M0 0h24v24H0V0z\" fill=\"none\"/>\n",
              "    <path d=\"M18.56 5.44l.94 2.06.94-2.06 2.06-.94-2.06-.94-.94-2.06-.94 2.06-2.06.94zm-11 1L8.5 8.5l.94-2.06 2.06-.94-2.06-.94L8.5 2.5l-.94 2.06-2.06.94zm10 10l.94 2.06.94-2.06 2.06-.94-2.06-.94-.94-2.06-.94 2.06-2.06.94z\"/><path d=\"M17.41 7.96l-1.37-1.37c-.4-.4-.92-.59-1.43-.59-.52 0-1.04.2-1.43.59L10.3 9.45l-7.72 7.72c-.78.78-.78 2.05 0 2.83L4 21.41c.39.39.9.59 1.41.59.51 0 1.02-.2 1.41-.59l7.78-7.78 2.81-2.81c.8-.78.8-2.07 0-2.86zM5.41 20L4 18.59l7.72-7.72 1.47 1.35L5.41 20z\"/>\n",
              "  </svg>\n",
              "      </button>\n",
              "      \n",
              "  <style>\n",
              "    .colab-df-container {\n",
              "      display:flex;\n",
              "      flex-wrap:wrap;\n",
              "      gap: 12px;\n",
              "    }\n",
              "\n",
              "    .colab-df-convert {\n",
              "      background-color: #E8F0FE;\n",
              "      border: none;\n",
              "      border-radius: 50%;\n",
              "      cursor: pointer;\n",
              "      display: none;\n",
              "      fill: #1967D2;\n",
              "      height: 32px;\n",
              "      padding: 0 0 0 0;\n",
              "      width: 32px;\n",
              "    }\n",
              "\n",
              "    .colab-df-convert:hover {\n",
              "      background-color: #E2EBFA;\n",
              "      box-shadow: 0px 1px 2px rgba(60, 64, 67, 0.3), 0px 1px 3px 1px rgba(60, 64, 67, 0.15);\n",
              "      fill: #174EA6;\n",
              "    }\n",
              "\n",
              "    [theme=dark] .colab-df-convert {\n",
              "      background-color: #3B4455;\n",
              "      fill: #D2E3FC;\n",
              "    }\n",
              "\n",
              "    [theme=dark] .colab-df-convert:hover {\n",
              "      background-color: #434B5C;\n",
              "      box-shadow: 0px 1px 3px 1px rgba(0, 0, 0, 0.15);\n",
              "      filter: drop-shadow(0px 1px 2px rgba(0, 0, 0, 0.3));\n",
              "      fill: #FFFFFF;\n",
              "    }\n",
              "  </style>\n",
              "\n",
              "      <script>\n",
              "        const buttonEl =\n",
              "          document.querySelector('#df-9265d188-2d78-481e-8e14-cfb95c2ea79a button.colab-df-convert');\n",
              "        buttonEl.style.display =\n",
              "          google.colab.kernel.accessAllowed ? 'block' : 'none';\n",
              "\n",
              "        async function convertToInteractive(key) {\n",
              "          const element = document.querySelector('#df-9265d188-2d78-481e-8e14-cfb95c2ea79a');\n",
              "          const dataTable =\n",
              "            await google.colab.kernel.invokeFunction('convertToInteractive',\n",
              "                                                     [key], {});\n",
              "          if (!dataTable) return;\n",
              "\n",
              "          const docLinkHtml = 'Like what you see? Visit the ' +\n",
              "            '<a target=\"_blank\" href=https://colab.research.google.com/notebooks/data_table.ipynb>data table notebook</a>'\n",
              "            + ' to learn more about interactive tables.';\n",
              "          element.innerHTML = '';\n",
              "          dataTable['output_type'] = 'display_data';\n",
              "          await google.colab.output.renderOutput(dataTable, element);\n",
              "          const docLink = document.createElement('div');\n",
              "          docLink.innerHTML = docLinkHtml;\n",
              "          element.appendChild(docLink);\n",
              "        }\n",
              "      </script>\n",
              "    </div>\n",
              "  </div>\n",
              "  "
            ]
          },
          "metadata": {},
          "execution_count": 22
        }
      ],
      "source": [
        "## Get Missing, Dispersion and Range (Validity)\n",
        "import pandas as pd\n",
        "business_df.describe().toPandas().transpose()"
      ]
    },
    {
      "cell_type": "markdown",
      "metadata": {
        "id": "h7o4ZC9qDQcI"
      },
      "source": [
        "### สรุปการดำเนินงานของ Data Understanding: เลือกเฉพาะบาง Attributes และ Row ที่เป็น Charge Off/Fully Charge"
      ]
    },
    {
      "cell_type": "markdown",
      "metadata": {
        "collapsed": true,
        "id": "LP-Cb0ZTDQcJ"
      },
      "source": [
        "# 3. Data Preparation"
      ]
    },
    {
      "cell_type": "code",
      "execution_count": 23,
      "metadata": {
        "id": "TajMPB_-DQcJ"
      },
      "outputs": [],
      "source": [
        "## Get Data with No Null\n",
        "no_null_df = business_df.dropna(how='any')"
      ]
    },
    {
      "cell_type": "code",
      "execution_count": 24,
      "metadata": {
        "id": "_5cNThEuDQcK"
      },
      "outputs": [],
      "source": [
        "### from pyspark.sql.functions import *"
      ]
    },
    {
      "cell_type": "code",
      "execution_count": 25,
      "metadata": {
        "id": "YBh__f6IDQcK"
      },
      "outputs": [],
      "source": [
        "## Get Data with No \"wedding\"\n",
        "no_wedding_df = no_null_df.filter(F.col('purpose') != 'wedding')"
      ]
    },
    {
      "cell_type": "code",
      "execution_count": 26,
      "metadata": {
        "id": "cHfqCtw8DQcK"
      },
      "outputs": [],
      "source": [
        "fitmem_no_null_df = no_wedding_df.repartition(60)"
      ]
    },
    {
      "cell_type": "code",
      "execution_count": 27,
      "metadata": {
        "id": "UQEF-mGnDQcL"
      },
      "outputs": [],
      "source": [
        "cached_no_null_df = fitmem_no_null_df.cache()"
      ]
    },
    {
      "cell_type": "code",
      "execution_count": 28,
      "metadata": {
        "id": "d6VAbiS7DQcL",
        "outputId": "caa848c8-cf22-4984-cfd9-90d66f577567",
        "colab": {
          "base_uri": "https://localhost:8080/"
        }
      },
      "outputs": [
        {
          "output_type": "execute_result",
          "data": {
            "text/plain": [
              "627709"
            ]
          },
          "metadata": {},
          "execution_count": 28
        }
      ],
      "source": [
        "## นับจำนวนข้อมูลหลัง Cleansing ค่า 'Null'\n",
        "cached_no_null_df.count()"
      ]
    },
    {
      "cell_type": "markdown",
      "metadata": {
        "collapsed": true,
        "id": "b5pWGUxyDQcM"
      },
      "source": [
        "### Remove '%' และ Extract Month"
      ]
    },
    {
      "cell_type": "code",
      "execution_count": 29,
      "metadata": {
        "id": "djrKtL3cDQcM"
      },
      "outputs": [],
      "source": [
        "from pyspark.sql.functions import udf\n",
        "from pyspark.sql.types import *"
      ]
    },
    {
      "cell_type": "markdown",
      "metadata": {
        "collapsed": true,
        "id": "dJFHSBpKDQcM"
      },
      "source": [
        "### Remove '%' "
      ]
    },
    {
      "cell_type": "code",
      "execution_count": 30,
      "metadata": {
        "id": "czIN4hwVDQcM"
      },
      "outputs": [],
      "source": [
        "def f_removepercent(origin):\n",
        "    return origin.rstrip('%')"
      ]
    },
    {
      "cell_type": "code",
      "execution_count": 31,
      "metadata": {
        "id": "MSWzWllzDQcN"
      },
      "outputs": [],
      "source": [
        "removepercent = udf(lambda x: f_removepercent(x),StringType())"
      ]
    },
    {
      "cell_type": "markdown",
      "metadata": {
        "collapsed": true,
        "id": "6-A9lFmFDQcN"
      },
      "source": [
        "### Extract Month"
      ]
    },
    {
      "cell_type": "code",
      "execution_count": 32,
      "metadata": {
        "id": "6pr3C-VKDQcO"
      },
      "outputs": [],
      "source": [
        "def f_exrtractmonth(origin):\n",
        "    return origin.split('-')[0]"
      ]
    },
    {
      "cell_type": "code",
      "execution_count": 33,
      "metadata": {
        "id": "HIMvDpKuDQcO"
      },
      "outputs": [],
      "source": [
        "exrtractmonth = udf(lambda x: f_exrtractmonth(x),StringType())"
      ]
    },
    {
      "cell_type": "markdown",
      "metadata": {
        "id": "7WY9YH52DQcO"
      },
      "source": [
        "### Replace'n/a' ใน Field 'emp_length' ด้วย 'Notemployed'"
      ]
    },
    {
      "cell_type": "code",
      "execution_count": 34,
      "metadata": {
        "id": "7VGjG7lxDQcO"
      },
      "outputs": [],
      "source": [
        "def python_treatNA(origin):\n",
        "    if origin == 'n/a':\n",
        "        new = 'NotEmployed'\n",
        "    else:\n",
        "        new = origin\n",
        "    return new"
      ]
    },
    {
      "cell_type": "code",
      "execution_count": 35,
      "metadata": {
        "id": "Rb_yzY-RDQcP"
      },
      "outputs": [],
      "source": [
        "treatNA = udf(lambda x: python_treatNA(x),StringType())"
      ]
    },
    {
      "cell_type": "markdown",
      "metadata": {
        "collapsed": true,
        "id": "XR936pkHDQcP"
      },
      "source": [
        "### เปลี่ยนแปลง Type ของข้อมูล"
      ]
    },
    {
      "cell_type": "code",
      "execution_count": 36,
      "metadata": {
        "id": "-re0JL7VDQcP"
      },
      "outputs": [],
      "source": [
        "from pyspark.sql.functions import col"
      ]
    },
    {
      "cell_type": "code",
      "execution_count": 37,
      "metadata": {
        "id": "yimxByXqDQcP"
      },
      "outputs": [],
      "source": [
        "crunched_df = cached_no_null_df.\\\n",
        "withColumn('emp_length',treatNA(cached_no_null_df['emp_length'])).\\\n",
        "withColumn('int_rate',removepercent(cached_no_null_df['int_rate']).cast(DoubleType())).\\\n",
        "withColumn('dti',cached_no_null_df['dti'].cast(DoubleType())).\\\n",
        "withColumn('revol_bal',cached_no_null_df['revol_bal'].cast(DoubleType())).\\\n",
        "withColumn('pub_rec',cached_no_null_df['pub_rec'].cast(DoubleType())).\\\n",
        "withColumn('total_bal_il',cached_no_null_df['total_bal_il'].cast(DoubleType())).\\\n",
        "withColumn('tot_cur_bal',cached_no_null_df['tot_cur_bal'].cast(DoubleType())).\\\n",
        "withColumn('total_acc',cached_no_null_df['total_acc'].cast(DoubleType())).\\\n",
        "withColumn('total_bal_ex_mort',cached_no_null_df['total_bal_ex_mort'].cast(DoubleType())).\\\n",
        "withColumn('total_rev_hi_lim',cached_no_null_df['total_rev_hi_lim'].cast(DoubleType())).\\\n",
        "withColumn('num_actv_rev_tl',cached_no_null_df['num_actv_rev_tl'].cast(DoubleType())).\\\n",
        "withColumn('num_actv_bc_tl',cached_no_null_df['num_actv_bc_tl'].cast(DoubleType())).\\\n",
        "withColumn('num_il_tl',cached_no_null_df['num_il_tl'].cast(DoubleType())).\\\n",
        "withColumn('pub_rec_bankruptcies',cached_no_null_df['pub_rec_bankruptcies'].cast(DoubleType())).\\\n",
        "withColumn('delinq_2yrs',cached_no_null_df['delinq_2yrs'].cast(DoubleType())).\\\n",
        "withColumn('open_rv_24m',cached_no_null_df['open_rv_24m'].cast(DoubleType())).\\\n",
        "withColumn('num_tl_90g_dpd_24m',cached_no_null_df['num_tl_90g_dpd_24m'].cast(DoubleType())).\\\n",
        "withColumn('inq_last_6mths',cached_no_null_df['inq_last_6mths'].cast(DoubleType())).\\\n",
        "withColumn('bc_util',cached_no_null_df['bc_util'].cast(DoubleType())).\\\n",
        "withColumn('mort_acc',cached_no_null_df['mort_acc'].cast(DoubleType())).\\\n",
        "withColumn('inq_fi',cached_no_null_df['inq_fi'].cast(DoubleType())).\\\n",
        "withColumn('last_pymnt_amnt',cached_no_null_df['last_pymnt_amnt'].cast(DoubleType())).\\\n",
        "withColumn('out_prncp_inv',cached_no_null_df['out_prncp_inv'].cast(DoubleType())).\\\n",
        "withColumn('out_prncp',cached_no_null_df['out_prncp'].cast(DoubleType())).\\\n",
        "withColumn('total_pymnt_inv',cached_no_null_df['total_pymnt_inv'].cast(DoubleType())).\\\n",
        "withColumn('total_pymnt',cached_no_null_df['total_pymnt'].cast(DoubleType())).\\\n",
        "withColumn('il_util',cached_no_null_df['il_util'].cast(DoubleType())).\\\n",
        "withColumn('chargeoff_within_12_mths',cached_no_null_df['chargeoff_within_12_mths'].cast(DoubleType())).\\\n",
        "withColumn('collections_12_mths_ex_med',cached_no_null_df['collections_12_mths_ex_med'].cast(DoubleType())).\\\n",
        "withColumn('loan_amnt',cached_no_null_df['loan_amnt'].cast(DoubleType())).\\\n",
        "withColumn('inq_last_12m',cached_no_null_df['inq_last_12m'].cast(DoubleType())).\\\n",
        "withColumn('installment',cached_no_null_df['installment'].cast(DoubleType())).\\\n",
        "withColumn('annual_inc',cached_no_null_df['annual_inc'].cast(DoubleType()))"
      ]
    },
    {
      "cell_type": "code",
      "execution_count": 38,
      "metadata": {
        "id": "cWZxMuQYDQcQ",
        "outputId": "845067db-c94b-4b8b-8c42-cab00ad98143",
        "colab": {
          "base_uri": "https://localhost:8080/"
        }
      },
      "outputs": [
        {
          "output_type": "stream",
          "name": "stdout",
          "text": [
            "root\n",
            " |-- annual_inc: double (nullable = true)\n",
            " |-- bc_util: double (nullable = true)\n",
            " |-- inq_fi: double (nullable = true)\n",
            " |-- inq_last_12m: double (nullable = true)\n",
            " |-- home_ownership: string (nullable = true)\n",
            " |-- purpose: string (nullable = true)\n",
            " |-- emp_length: string (nullable = true)\n",
            " |-- revol_bal: double (nullable = true)\n",
            " |-- dti: double (nullable = true)\n",
            " |-- delinq_2yrs: double (nullable = true)\n",
            " |-- pub_rec_bankruptcies: double (nullable = true)\n",
            " |-- pub_rec: double (nullable = true)\n",
            " |-- open_rv_24m: double (nullable = true)\n",
            " |-- mort_acc: double (nullable = true)\n",
            " |-- num_actv_bc_tl: double (nullable = true)\n",
            " |-- num_actv_rev_tl: double (nullable = true)\n",
            " |-- num_il_tl: double (nullable = true)\n",
            " |-- num_tl_90g_dpd_24m: double (nullable = true)\n",
            " |-- int_rate: double (nullable = true)\n",
            " |-- inq_last_6mths: double (nullable = true)\n",
            " |-- term: string (nullable = true)\n",
            " |-- installment: double (nullable = true)\n",
            " |-- total_rev_hi_lim: double (nullable = true)\n",
            " |-- total_bal_il: double (nullable = true)\n",
            " |-- total_bal_ex_mort: double (nullable = true)\n",
            " |-- total_acc: double (nullable = true)\n",
            " |-- tot_cur_bal: double (nullable = true)\n",
            " |-- loan_amnt: double (nullable = true)\n",
            " |-- loan_status: string (nullable = true)\n",
            " |-- verification_status: string (nullable = true)\n",
            " |-- collections_12_mths_ex_med: double (nullable = true)\n",
            " |-- chargeoff_within_12_mths: double (nullable = true)\n",
            " |-- il_util: double (nullable = true)\n",
            " |-- last_pymnt_amnt: double (nullable = true)\n",
            " |-- out_prncp_inv: double (nullable = true)\n",
            " |-- out_prncp: double (nullable = true)\n",
            " |-- total_pymnt_inv: double (nullable = true)\n",
            " |-- total_pymnt: double (nullable = true)\n",
            " |-- grade: string (nullable = true)\n",
            "\n"
          ]
        }
      ],
      "source": [
        "crunched_df.printSchema()"
      ]
    },
    {
      "cell_type": "code",
      "execution_count": 39,
      "metadata": {
        "id": "L-ox6kcEDQcQ",
        "outputId": "30336cd0-0f05-4db8-ea61-215cd0e5e68b",
        "colab": {
          "base_uri": "https://localhost:8080/"
        }
      },
      "outputs": [
        {
          "output_type": "stream",
          "name": "stdout",
          "text": [
            "+-----------+\n",
            "| emp_length|\n",
            "+-----------+\n",
            "|    5 years|\n",
            "|    9 years|\n",
            "|     1 year|\n",
            "|NotEmployed|\n",
            "|    2 years|\n",
            "|    7 years|\n",
            "|    8 years|\n",
            "|    4 years|\n",
            "|    6 years|\n",
            "|    3 years|\n",
            "|  10+ years|\n",
            "|   < 1 year|\n",
            "+-----------+\n",
            "\n"
          ]
        }
      ],
      "source": [
        "## ทดลองความถูกต้องของ 'emp_length' หลังจาก Replacement แล้ว\n",
        "crunched_df.select(crunched_df['emp_length']).distinct().show()"
      ]
    },
    {
      "cell_type": "code",
      "execution_count": 40,
      "metadata": {
        "id": "wz4BqURHDQcR",
        "outputId": "81587267-2d1d-49e9-dead-cd2f31e41ef7",
        "colab": {
          "base_uri": "https://localhost:8080/"
        }
      },
      "outputs": [
        {
          "output_type": "stream",
          "name": "stdout",
          "text": [
            "+------------------+\n",
            "|           purpose|\n",
            "+------------------+\n",
            "|             other|\n",
            "|    small_business|\n",
            "|debt_consolidation|\n",
            "|       credit_card|\n",
            "|            moving|\n",
            "|          vacation|\n",
            "|  renewable_energy|\n",
            "|             house|\n",
            "|               car|\n",
            "|    major_purchase|\n",
            "|           medical|\n",
            "|  home_improvement|\n",
            "+------------------+\n",
            "\n"
          ]
        }
      ],
      "source": [
        "crunched_df.select(crunched_df['purpose']).distinct().show()"
      ]
    },
    {
      "cell_type": "markdown",
      "metadata": {
        "collapsed": true,
        "id": "uuGbytlIDQcR"
      },
      "source": [
        "### Normalization 'annual_inc'"
      ]
    },
    {
      "cell_type": "code",
      "execution_count": 41,
      "metadata": {
        "id": "xJKASO2cDQcR"
      },
      "outputs": [],
      "source": [
        "from pyspark.sql.functions import *\n",
        "max_annual_inc = crunched_df.select(max('annual_inc')).collect()[0][0]\n",
        "min_annual_inc = crunched_df.select(min('annual_inc')).collect()[0][0]"
      ]
    },
    {
      "cell_type": "code",
      "execution_count": 42,
      "metadata": {
        "id": "5C5EYFaWDQcS"
      },
      "outputs": [],
      "source": [
        "def t_annual_inc(origin):\n",
        "    return ((origin-min_annual_inc)/(max_annual_inc-min_annual_inc))"
      ]
    },
    {
      "cell_type": "code",
      "execution_count": 43,
      "metadata": {
        "id": "Xf2vFlKIDQcS"
      },
      "outputs": [],
      "source": [
        "n_annual_inc = udf(lambda x: t_annual_inc(x),DoubleType())"
      ]
    },
    {
      "cell_type": "markdown",
      "metadata": {
        "collapsed": true,
        "id": "0wMEJg5wDQcT"
      },
      "source": [
        "### Normalization 'revol_bal'"
      ]
    },
    {
      "cell_type": "code",
      "execution_count": 44,
      "metadata": {
        "id": "sdE_XUe4DQcT"
      },
      "outputs": [],
      "source": [
        "max_revol_bal = crunched_df.select(max('revol_bal')).collect()[0][0]\n",
        "min_revol_bal = crunched_df.select(min('revol_bal')).collect()[0][0]"
      ]
    },
    {
      "cell_type": "code",
      "execution_count": 45,
      "metadata": {
        "id": "ShIAsMiaDQcT"
      },
      "outputs": [],
      "source": [
        "def t_revol_bal(origin):\n",
        "    return ((origin-min_revol_bal)/(max_revol_bal-min_revol_bal))"
      ]
    },
    {
      "cell_type": "code",
      "execution_count": 46,
      "metadata": {
        "id": "ml7gwyb-DQcT"
      },
      "outputs": [],
      "source": [
        "n_revol_bal = udf(lambda x: t_revol_bal(x),DoubleType())"
      ]
    },
    {
      "cell_type": "markdown",
      "metadata": {
        "collapsed": true,
        "id": "uQW5ujhKDQcU"
      },
      "source": [
        "### Normalization 'tot_cur_bal'"
      ]
    },
    {
      "cell_type": "code",
      "execution_count": 47,
      "metadata": {
        "id": "18Mi52FeDQcU"
      },
      "outputs": [],
      "source": [
        "max_tot_cur_bal = crunched_df.select(max('tot_cur_bal')).collect()[0][0]\n",
        "min_tot_cur_bal = crunched_df.select(min('tot_cur_bal')).collect()[0][0]"
      ]
    },
    {
      "cell_type": "code",
      "execution_count": 48,
      "metadata": {
        "id": "E37KQNQsDQcU"
      },
      "outputs": [],
      "source": [
        "def t_tot_cur_bal(origin):\n",
        "    return ((origin-min_tot_cur_bal)/(max_tot_cur_bal-min_tot_cur_bal))"
      ]
    },
    {
      "cell_type": "code",
      "execution_count": 49,
      "metadata": {
        "id": "kZHzTJ4PDQcV"
      },
      "outputs": [],
      "source": [
        "n_tot_cur_bal = udf(lambda x: t_tot_cur_bal(x),DoubleType())"
      ]
    },
    {
      "cell_type": "markdown",
      "metadata": {
        "collapsed": true,
        "id": "gT36nrzPDQcV"
      },
      "source": [
        "### Normalization 'total_rev_hi_lim'"
      ]
    },
    {
      "cell_type": "code",
      "execution_count": 50,
      "metadata": {
        "id": "nQaiarz9DQcV"
      },
      "outputs": [],
      "source": [
        "max_total_rev_hi_lim = crunched_df.select(max('total_rev_hi_lim')).collect()[0][0]\n",
        "min_total_rev_hi_lim = crunched_df.select(min('total_rev_hi_lim')).collect()[0][0]"
      ]
    },
    {
      "cell_type": "code",
      "execution_count": 51,
      "metadata": {
        "id": "jQsILcl8DQcV"
      },
      "outputs": [],
      "source": [
        "def t_total_rev_hi_lim(origin):\n",
        "    return ((origin-min_total_rev_hi_lim)/(max_total_rev_hi_lim-min_total_rev_hi_lim))"
      ]
    },
    {
      "cell_type": "code",
      "execution_count": 52,
      "metadata": {
        "id": "Q3uECTSYDQcW"
      },
      "outputs": [],
      "source": [
        "n_total_rev_hi_lim = udf(lambda x: t_total_rev_hi_lim(x),DoubleType())"
      ]
    },
    {
      "cell_type": "markdown",
      "metadata": {
        "id": "rgQd6O6GDQcW"
      },
      "source": [
        "### Normalization 'total_bal_ex_mort'"
      ]
    },
    {
      "cell_type": "code",
      "execution_count": 53,
      "metadata": {
        "id": "e_NUaVAgDQcW"
      },
      "outputs": [],
      "source": [
        "max_total_bal_ex_mort = crunched_df.select(max('total_bal_ex_mort')).collect()[0][0]\n",
        "min_total_bal_ex_mort = crunched_df.select(min('total_bal_ex_mort')).collect()[0][0]"
      ]
    },
    {
      "cell_type": "code",
      "execution_count": 54,
      "metadata": {
        "id": "IZJn3B16DQcX"
      },
      "outputs": [],
      "source": [
        "def t_total_bal_ex_mort(origin):\n",
        "    return ((origin-min_total_bal_ex_mort)/(max_total_bal_ex_mort-min_total_bal_ex_mort))"
      ]
    },
    {
      "cell_type": "code",
      "execution_count": 55,
      "metadata": {
        "id": "GO0Nr4gfDQcX"
      },
      "outputs": [],
      "source": [
        "n_total_bal_ex_mort = udf(lambda x: t_total_bal_ex_mort(x),DoubleType())"
      ]
    },
    {
      "cell_type": "markdown",
      "metadata": {
        "id": "0Qc1bB-fDQcX"
      },
      "source": [
        "### Normalization 'total_bal_il'"
      ]
    },
    {
      "cell_type": "code",
      "execution_count": 56,
      "metadata": {
        "id": "5s0FQmTyDQcX"
      },
      "outputs": [],
      "source": [
        "max_total_bal_il = crunched_df.select(max('total_bal_il')).collect()[0][0]\n",
        "min_total_bal_il = crunched_df.select(min('total_bal_il')).collect()[0][0]"
      ]
    },
    {
      "cell_type": "code",
      "execution_count": 57,
      "metadata": {
        "id": "F119hhi0DQcY"
      },
      "outputs": [],
      "source": [
        "def t_total_bal_il(origin):\n",
        "    return ((origin-min_total_bal_il)/(max_total_bal_il-min_total_bal_il))"
      ]
    },
    {
      "cell_type": "code",
      "execution_count": 58,
      "metadata": {
        "id": "8GH7h_xwDQcY"
      },
      "outputs": [],
      "source": [
        "n_total_bal_il = udf(lambda x: t_total_bal_il(x),DoubleType())"
      ]
    },
    {
      "cell_type": "code",
      "execution_count": 58,
      "metadata": {
        "id": "_sE7cm4NDQcY"
      },
      "outputs": [],
      "source": []
    },
    {
      "cell_type": "code",
      "execution_count": 59,
      "metadata": {
        "id": "nEyS-xpWDQcY"
      },
      "outputs": [],
      "source": [
        "## Call functions of data normalization\n",
        "normalized_df = crunched_df.\\\n",
        "withColumn('annual_inc',n_annual_inc(crunched_df['annual_inc'])).\\\n",
        "withColumn('revol_bal',n_revol_bal(crunched_df['revol_bal'])).\\\n",
        "withColumn('tot_cur_bal',n_tot_cur_bal(crunched_df['tot_cur_bal'])).\\\n",
        "withColumn('total_rev_hi_lim',n_total_rev_hi_lim(crunched_df['total_rev_hi_lim'])).\\\n",
        "withColumn('total_bal_il',n_total_bal_il(crunched_df['total_bal_il'])).\\\n",
        "withColumn('total_bal_ex_mort',n_total_bal_ex_mort(crunched_df['total_bal_ex_mort']))\n",
        "\n",
        "#withColumn('loan_amnt',n_loan_amt(crunched_df['loan_amnt'])).\\"
      ]
    },
    {
      "cell_type": "code",
      "execution_count": 60,
      "metadata": {
        "id": "tkOSR6eFDQcZ",
        "outputId": "816a3a23-092d-46ed-c6e2-b699b7c7e82a",
        "colab": {
          "base_uri": "https://localhost:8080/"
        }
      },
      "outputs": [
        {
          "output_type": "execute_result",
          "data": {
            "text/plain": [
              "627709"
            ]
          },
          "metadata": {},
          "execution_count": 60
        }
      ],
      "source": [
        "normalized_df.count()"
      ]
    },
    {
      "cell_type": "code",
      "execution_count": 61,
      "metadata": {
        "id": "o7p1miUlDQcZ"
      },
      "outputs": [],
      "source": [
        "normalized_filtered_df = normalized_df"
      ]
    },
    {
      "cell_type": "code",
      "execution_count": null,
      "metadata": {
        "id": "96hhT_GuDQca"
      },
      "outputs": [],
      "source": [
        "## ตรวจดู Null, Dispersion และ Range (Validity)\n",
        "normalized_df.describe().toPandas().transpose()"
      ]
    },
    {
      "cell_type": "markdown",
      "metadata": {
        "collapsed": true,
        "id": "O3bIUxN4DQca"
      },
      "source": [
        "### กำจัดค่า 'Null' จากการทำ Data Prep"
      ]
    },
    {
      "cell_type": "code",
      "execution_count": null,
      "metadata": {
        "id": "zQ-2Uvt1DQca"
      },
      "outputs": [],
      "source": [
        "data_no_missing_df = normalized_filtered_df.dropna(how='any')"
      ]
    },
    {
      "cell_type": "code",
      "execution_count": null,
      "metadata": {
        "id": "0v3xPxxbDQcb"
      },
      "outputs": [],
      "source": [
        "data_no_missing_df.count()"
      ]
    },
    {
      "cell_type": "code",
      "execution_count": null,
      "metadata": {
        "id": "s7QlhYpaDQcb"
      },
      "outputs": [],
      "source": [
        "data_no_missing_df.printSchema()"
      ]
    },
    {
      "cell_type": "markdown",
      "metadata": {
        "collapsed": true,
        "id": "X0D91tABDQcc"
      },
      "source": [
        "# 4. Modeling"
      ]
    },
    {
      "cell_type": "markdown",
      "metadata": {
        "id": "lWeVyjdoDQcc"
      },
      "source": [
        "### แบ่งข้อมูลเป็น Training และ Testing"
      ]
    },
    {
      "cell_type": "code",
      "execution_count": null,
      "metadata": {
        "id": "YDfDyEipDQcc"
      },
      "outputs": [],
      "source": [
        "#แบ่งข้อมูลเป็น Training และ Testing (ุ60% - 40%) โดย Random จากข้อมูลที่เหลืออยู่"
      ]
    },
    {
      "cell_type": "code",
      "execution_count": null,
      "metadata": {
        "id": "zSihKFUwDQcd"
      },
      "outputs": [],
      "source": [
        "training_dt, test_dt = normalized_df.randomSplit([0.6,0.4], seed = 13)"
      ]
    },
    {
      "cell_type": "code",
      "execution_count": null,
      "metadata": {
        "id": "KaiyOnTqDQcd"
      },
      "outputs": [],
      "source": [
        "import pyspark\n",
        "from pyspark.sql import SQLContext\n",
        "from pyspark.sql.types import *\n",
        "from pyspark.ml.feature import OneHotEncoder, StringIndexer\n",
        "from pyspark.ml.feature import VectorAssembler\n",
        "from pyspark.mllib.clustering import KMeans, KMeansModel\n",
        "from pyspark.ml.feature import StringIndexer, VectorAssembler, \\\n",
        "OneHotEncoder, VectorIndexer\n",
        "from pyspark.ml.tuning import ParamGridBuilder, CrossValidator\n",
        "from pyspark.ml.evaluation import MulticlassClassificationEvaluator, \\\n",
        "BinaryClassificationEvaluator\n",
        "from pyspark.ml.classification import LogisticRegression, GBTClassifier, \\\n",
        "NaiveBayes, RandomForestClassifier, DecisionTreeClassifier\n",
        "from pyspark.ml import Pipeline\n",
        "from pyspark.ml.clustering import *"
      ]
    },
    {
      "cell_type": "markdown",
      "metadata": {
        "id": "Wkk3EFd5DQcd"
      },
      "source": [
        "### Feature Transformation - Convert from Categorical Vars to Numerical ones"
      ]
    },
    {
      "cell_type": "code",
      "execution_count": null,
      "metadata": {
        "id": "7m7h1I6wDQce"
      },
      "outputs": [],
      "source": [
        "labelIndexer = StringIndexer(inputCol='loan_status',outputCol='indexedLabel')"
      ]
    },
    {
      "cell_type": "code",
      "execution_count": null,
      "metadata": {
        "id": "_5GClc8eDQce"
      },
      "outputs": [],
      "source": [
        "gradeIndexer = StringIndexer(inputCol='grade',outputCol='gradeIndexed')\n",
        "gradeOneHotEncoder = OneHotEncoder(dropLast=False,inputCol='gradeIndexed',\\\n",
        "                                  outputCol='gradeVec')"
      ]
    },
    {
      "cell_type": "code",
      "execution_count": null,
      "metadata": {
        "id": "4iNhPAqBDQce"
      },
      "outputs": [],
      "source": [
        "homeIndexer = StringIndexer(inputCol='home_ownership',outputCol='homeIndexed')\n",
        "homeOneHotEncoder = OneHotEncoder(dropLast=False,inputCol='homeIndexed',\\\n",
        "                                  outputCol='homeVec')"
      ]
    },
    {
      "cell_type": "code",
      "execution_count": null,
      "metadata": {
        "id": "poq5BJioDQce"
      },
      "outputs": [],
      "source": [
        "purposeIndexer = StringIndexer(inputCol='purpose',outputCol='purposeIndexed')\n",
        "purposeOneHotEncoder = OneHotEncoder(dropLast=False,inputCol='purposeIndexed',\\\n",
        "                                  outputCol='purposeVec')"
      ]
    },
    {
      "cell_type": "code",
      "execution_count": null,
      "metadata": {
        "id": "d8ed45HtDQcf"
      },
      "outputs": [],
      "source": [
        "emp_lengthIndexer = StringIndexer(inputCol='emp_length',outputCol='emp_lengthIndexed')\n",
        "emp_lengthOneHotEncoder = OneHotEncoder(dropLast=False,inputCol='emp_lengthIndexed',\\\n",
        "                                  outputCol='emp_lengthVec')"
      ]
    },
    {
      "cell_type": "code",
      "execution_count": null,
      "metadata": {
        "id": "Ls6JzoCCDQcf"
      },
      "outputs": [],
      "source": [
        "verification_statusIndexer = StringIndexer(inputCol='verification_status',outputCol='verification_statusIndexed')\n",
        "verification_statusOneHotEncoder = OneHotEncoder(dropLast=False,inputCol='verification_statusIndexed',\\\n",
        "                                  outputCol='verification_statusVec')"
      ]
    },
    {
      "cell_type": "markdown",
      "metadata": {
        "collapsed": true,
        "id": "GDEbfJkSDQcf"
      },
      "source": [
        "### [FINAL] Feature Selection "
      ]
    },
    {
      "cell_type": "code",
      "execution_count": null,
      "metadata": {
        "id": "8SIOgsZ2DQcg"
      },
      "outputs": [],
      "source": [
        "featureAssembler = VectorAssembler(inputCols=['annual_inc'\\\n",
        "                                              #,'bc_util'\\\n",
        "                                              #,'inq_fi'\\\n",
        "                                              #,'inq_last_12m'\\\n",
        "                                              #,'home_ownership'\\\n",
        "                                              #,'purpose'\\\n",
        "                                              #,'emp_length'\\\n",
        "                                              ,'installment'\\\n",
        "                                              #,'total_rev_hi_lim'\\\n",
        "                                              ,'loan_amnt'\\\n",
        "                                              #,'loan_status'\\\n",
        "                                              #,'verification_status'\\\n",
        "                                              ,'total_pymnt'\\\n",
        "                                              ,'gradeVec'\\\n",
        "                                              ,'homeVec'\\\n",
        "                                              ,'emp_lengthVec'\\\n",
        "                                              ,'purposeVec'\\\n",
        "                                              ,'verification_statusVec']\\\n",
        "                                   ,outputCol='***features')"
      ]
    },
    {
      "cell_type": "code",
      "execution_count": null,
      "metadata": {
        "id": "uFYWfYgkDQcg"
      },
      "outputs": [],
      "source": [
        "selected_attr_list = ['annual_inc'\\\n",
        "                                              #,'bc_util'\\\n",
        "                                              #,'inq_fi'\\\n",
        "                                              #,'inq_last_12m'\\\n",
        "                                              #,'home_ownership'\\\n",
        "                                              #,'purpose'\\\n",
        "                                              #,'emp_length'\\\n",
        "                                              ,'installment'\\\n",
        "                                              #,'total_rev_hi_lim'\\\n",
        "                                              ,'loan_amnt'\\\n",
        "                                              #,'loan_status'\\\n",
        "                                              #,'verification_status'\\\n",
        "                                              ,'total_pymnt'\\\n",
        "                                              ,'grade'\\\n",
        "                                              ,'home'\\\n",
        "                                              ,'emp_length'\\\n",
        "                                              ,'purpose'\\\n",
        "                                              ,'verification_status']"
      ]
    },
    {
      "cell_type": "markdown",
      "metadata": {
        "id": "Lg9MrmPODQch"
      },
      "source": [
        "### Training with DecisionTree"
      ]
    },
    {
      "cell_type": "code",
      "execution_count": null,
      "metadata": {
        "id": "ZHIuJnq-DQch"
      },
      "outputs": [],
      "source": [
        "dt = DecisionTreeClassifier(featuresCol='***features',labelCol='indexedLabel')"
      ]
    },
    {
      "cell_type": "code",
      "execution_count": null,
      "metadata": {
        "id": "X_pjFESGDQch"
      },
      "outputs": [],
      "source": [
        "pipeline_dt = Pipeline().setStages([gradeIndexer,gradeOneHotEncoder,\\\n",
        "                                    homeIndexer,homeOneHotEncoder,\\\n",
        "                                    emp_lengthIndexer,emp_lengthOneHotEncoder,\\\n",
        "                                    purposeIndexer,purposeOneHotEncoder,\\\n",
        "                                    verification_statusIndexer,verification_statusOneHotEncoder,\\\n",
        "                                    labelIndexer,\\\n",
        "                                    featureAssembler,\\\n",
        "                                    dt])"
      ]
    },
    {
      "cell_type": "code",
      "execution_count": null,
      "metadata": {
        "id": "-88tzVSSDQci"
      },
      "outputs": [],
      "source": [
        "## Check for Imbalance Class\n",
        "training_dt.groupBy('loan_status').count().orderBy(['loan_status']).show()"
      ]
    },
    {
      "cell_type": "code",
      "execution_count": null,
      "metadata": {
        "id": "l-7tp2yyDQci"
      },
      "outputs": [],
      "source": [
        "training_dt.count()"
      ]
    },
    {
      "cell_type": "code",
      "execution_count": null,
      "metadata": {
        "id": "22AW2L3tDQcj"
      },
      "outputs": [],
      "source": [
        "start_time_dt = t.time()"
      ]
    },
    {
      "cell_type": "code",
      "execution_count": null,
      "metadata": {
        "id": "OhfDidB7DQcj"
      },
      "outputs": [],
      "source": [
        "model_dt = pipeline_dt.fit(training_dt)"
      ]
    },
    {
      "cell_type": "code",
      "execution_count": null,
      "metadata": {
        "id": "IHB2o3VfDQck"
      },
      "outputs": [],
      "source": [
        "duration_dt = t.time() - start_time_dt"
      ]
    },
    {
      "cell_type": "code",
      "execution_count": null,
      "metadata": {
        "id": "jWnSJFaIDQcl"
      },
      "outputs": [],
      "source": [
        "print('ใช้เวลา Distributed Training {0} วินาที'.format(duration_dt))"
      ]
    },
    {
      "cell_type": "code",
      "execution_count": null,
      "metadata": {
        "id": "KqFOT0nFDQcl"
      },
      "outputs": [],
      "source": [
        "spark_fullLabel_func = udf(lambda x: \"Fully Paid\" if x == 0.0 else \"Charged Off\")"
      ]
    },
    {
      "cell_type": "code",
      "execution_count": null,
      "metadata": {
        "id": "k-7JNwTpDQcl"
      },
      "outputs": [],
      "source": [
        "result_dt = model_dt.transform(test_dt.dropna())\\\n",
        ".withColumn('full_prediction',spark_fullLabel_func(F.col('prediction')))"
      ]
    },
    {
      "cell_type": "code",
      "execution_count": null,
      "metadata": {
        "id": "0RIsCOicDQcm"
      },
      "outputs": [],
      "source": [
        "## Check for Imbalance Class\n",
        "result_dt.groupBy(['loan_status','indexedLabel']).count().show()"
      ]
    },
    {
      "cell_type": "code",
      "execution_count": null,
      "metadata": {
        "id": "AYbF47anDQcm"
      },
      "outputs": [],
      "source": [
        "result_dt.count()"
      ]
    },
    {
      "cell_type": "code",
      "execution_count": null,
      "metadata": {
        "id": "v38E-xSxDQcn"
      },
      "outputs": [],
      "source": [
        "NUM_ALL_TESTING = result_dt.count()"
      ]
    },
    {
      "cell_type": "markdown",
      "metadata": {
        "id": "SApbILckDQcn"
      },
      "source": [
        "### การประเมิน Charge-Off: TPR, FNR (Recall, Miss rate) "
      ]
    },
    {
      "cell_type": "code",
      "execution_count": null,
      "metadata": {
        "id": "qgxK0escDQcn"
      },
      "outputs": [],
      "source": [
        "result_dt.select('loan_status','indexedLabel','prediction','full_prediction').\\\n",
        "filter(F.col('loan_status') == 'Charged Off').show()"
      ]
    },
    {
      "cell_type": "code",
      "execution_count": null,
      "metadata": {
        "id": "QtowBrnSDQco"
      },
      "outputs": [],
      "source": [
        "NUM_ACTUAL_POSITIVE = result_dt.select('loan_status','indexedLabel','prediction','full_prediction').\\\n",
        "filter(F.col('loan_status') == 'Charged Off').count()"
      ]
    },
    {
      "cell_type": "code",
      "execution_count": null,
      "metadata": {
        "id": "gx505hdqDQco"
      },
      "outputs": [],
      "source": [
        "NUM_ACTUAL_POSITIVE"
      ]
    },
    {
      "cell_type": "code",
      "execution_count": null,
      "metadata": {
        "id": "tmJDMRlaDQcp"
      },
      "outputs": [],
      "source": [
        "#ตรวจสอบความถูกต้องจากการ Predict ตรงกับข้อมูลที่เป็น IndexLabel หรือไม่ (เนื่องจากมีการทำ indexer ค่าที่ได้จึงเป็น Numerical)"
      ]
    },
    {
      "cell_type": "markdown",
      "metadata": {
        "id": "ypmhUG1UDQcp"
      },
      "source": [
        "### Positive = Charged Off"
      ]
    },
    {
      "cell_type": "code",
      "execution_count": null,
      "metadata": {
        "id": "CaSD1rkNDQcp"
      },
      "outputs": [],
      "source": [
        "result_dt.select('loan_status','indexedLabel','prediction','full_prediction').\\\n",
        "filter((F.col('indexedLabel') != col('prediction'))).filter(F.col('loan_status') == 'Charged Off').show()"
      ]
    },
    {
      "cell_type": "code",
      "execution_count": null,
      "metadata": {
        "id": "_AlKao5KDQcq"
      },
      "outputs": [],
      "source": [
        "FN = result_dt.select('loan_status','indexedLabel','prediction','full_prediction').\\\n",
        "filter((F.col('indexedLabel') != col('prediction'))).filter(F.col('loan_status') == 'Charged Off').count()"
      ]
    },
    {
      "cell_type": "code",
      "execution_count": null,
      "metadata": {
        "id": "uP3x1AgODQcq"
      },
      "outputs": [],
      "source": [
        "(FN/NUM_ACTUAL_POSITIVE)*100"
      ]
    },
    {
      "cell_type": "code",
      "execution_count": null,
      "metadata": {
        "id": "IpPLkaphDQcr"
      },
      "outputs": [],
      "source": [
        "result_dt.select('loan_status','indexedLabel','prediction','full_prediction').\\\n",
        "filter((F.col('indexedLabel') == col('prediction'))).filter(F.col('loan_status') == 'Charged Off').show()"
      ]
    },
    {
      "cell_type": "code",
      "execution_count": null,
      "metadata": {
        "id": "decqfQ7YDQcr"
      },
      "outputs": [],
      "source": [
        "TP = result_dt.select('loan_status','indexedLabel','prediction','full_prediction').\\\n",
        "filter((F.col('indexedLabel') == col('prediction'))).filter(F.col('loan_status') == 'Charged Off').count()"
      ]
    },
    {
      "cell_type": "code",
      "execution_count": null,
      "metadata": {
        "id": "4-_YPMs2DQcs"
      },
      "outputs": [],
      "source": [
        "(TP/NUM_ACTUAL_POSITIVE)*100"
      ]
    },
    {
      "cell_type": "markdown",
      "metadata": {
        "id": "Od7DhAijDQcs"
      },
      "source": [
        "### การประเมิน Fully Paid: TNR, FPR (Specificity, Fall-out) "
      ]
    },
    {
      "cell_type": "code",
      "execution_count": null,
      "metadata": {
        "id": "99dtJPopDQcs"
      },
      "outputs": [],
      "source": [
        "result_dt.select('loan_status','indexedLabel','prediction','full_prediction').\\\n",
        "filter(F.col('loan_status') == 'Fully Paid').show()"
      ]
    },
    {
      "cell_type": "code",
      "execution_count": null,
      "metadata": {
        "id": "9NR_HH1fDQcs"
      },
      "outputs": [],
      "source": [
        "NUM_ACTUAL_NEGATIVE = result_dt.select('loan_status','indexedLabel','prediction','full_prediction').\\\n",
        "filter(F.col('loan_status') == 'Fully Paid').count()"
      ]
    },
    {
      "cell_type": "code",
      "execution_count": null,
      "metadata": {
        "id": "Ai4e8RvgDQct"
      },
      "outputs": [],
      "source": [
        "NUM_ACTUAL_NEGATIVE"
      ]
    },
    {
      "cell_type": "markdown",
      "metadata": {
        "id": "KWH5zbAUDQct"
      },
      "source": [
        "### Negative = Fully Paid"
      ]
    },
    {
      "cell_type": "code",
      "execution_count": null,
      "metadata": {
        "id": "cW6GLSvqDQct"
      },
      "outputs": [],
      "source": [
        "result_dt.select('loan_status','indexedLabel','prediction','full_prediction').\\\n",
        "filter((F.col('indexedLabel') != col('prediction'))).filter(F.col('loan_status') == 'Fully Paid').show()"
      ]
    },
    {
      "cell_type": "code",
      "execution_count": null,
      "metadata": {
        "id": "T9Df-ZU-DQcu"
      },
      "outputs": [],
      "source": [
        "FP = result_dt.select('loan_status','indexedLabel','prediction','full_prediction').\\\n",
        "filter((F.col('indexedLabel') != col('prediction'))).filter(F.col('loan_status') == 'Fully Paid').count()"
      ]
    },
    {
      "cell_type": "code",
      "execution_count": null,
      "metadata": {
        "id": "AOhhlg7ODQcu"
      },
      "outputs": [],
      "source": [
        "(FP/NUM_ACTUAL_NEGATIVE)*100"
      ]
    },
    {
      "cell_type": "code",
      "execution_count": null,
      "metadata": {
        "id": "kt1wWO6ZDQcu"
      },
      "outputs": [],
      "source": [
        "result_dt.select('loan_status','indexedLabel','prediction','full_prediction').\\\n",
        "filter((F.col('indexedLabel') == col('prediction'))).filter(F.col('loan_status') == 'Fully Paid').show()"
      ]
    },
    {
      "cell_type": "code",
      "execution_count": null,
      "metadata": {
        "id": "n9odF9JPDQcv"
      },
      "outputs": [],
      "source": [
        "TN = result_dt.select('loan_status','indexedLabel','prediction','full_prediction').\\\n",
        "filter((F.col('indexedLabel') == col('prediction'))).filter(F.col('loan_status') == 'Fully Paid').count()"
      ]
    },
    {
      "cell_type": "code",
      "execution_count": null,
      "metadata": {
        "id": "VgKNCCjKDQcv"
      },
      "outputs": [],
      "source": [
        "(TN/NUM_ACTUAL_NEGATIVE)*100"
      ]
    },
    {
      "cell_type": "markdown",
      "metadata": {
        "id": "HfTtHr4JDQcv"
      },
      "source": [
        "### การประเมิน Accuracy"
      ]
    },
    {
      "cell_type": "code",
      "execution_count": null,
      "metadata": {
        "id": "yFqqScGPDQcw"
      },
      "outputs": [],
      "source": [
        "NUM_ACTUAL_NEGATIVE + NUM_ACTUAL_POSITIVE"
      ]
    },
    {
      "cell_type": "code",
      "execution_count": null,
      "metadata": {
        "id": "DtbTTSn-DQcw"
      },
      "outputs": [],
      "source": [
        "(TN+TP)/(NUM_ACTUAL_NEGATIVE + NUM_ACTUAL_POSITIVE)"
      ]
    },
    {
      "cell_type": "code",
      "execution_count": null,
      "metadata": {
        "id": "cZhIQME-DQcw"
      },
      "outputs": [],
      "source": [
        "from pyspark.ml.evaluation import MulticlassClassificationEvaluator"
      ]
    },
    {
      "cell_type": "code",
      "execution_count": null,
      "metadata": {
        "id": "rjDBuClMDQcw"
      },
      "outputs": [],
      "source": [
        "evaluator_DT = MulticlassClassificationEvaluator(predictionCol=\"prediction\",\\\n",
        "                                              labelCol='indexedLabel', metricName='accuracy')\n",
        "evaluator_DT.evaluate(result_dt)*100"
      ]
    },
    {
      "cell_type": "code",
      "execution_count": null,
      "metadata": {
        "id": "_AiQsNe-DQcx"
      },
      "outputs": [],
      "source": [
        "#model_dt.write().overwrite().save('gs://grizzy-lab/loanpayment_dtModel')"
      ]
    },
    {
      "cell_type": "markdown",
      "metadata": {
        "id": "5ki38i1IDQcx"
      },
      "source": [
        "### ------------- สิ้นสุด Decision Tree ---------------------------"
      ]
    },
    {
      "cell_type": "code",
      "execution_count": null,
      "metadata": {
        "id": "gTHo9nbXDQcx"
      },
      "outputs": [],
      "source": []
    },
    {
      "cell_type": "markdown",
      "metadata": {
        "collapsed": true,
        "id": "JtsXmfP5DQcx"
      },
      "source": [
        "### Training with RandomForest"
      ]
    },
    {
      "cell_type": "code",
      "execution_count": null,
      "metadata": {
        "id": "OHacLUzJDQcy"
      },
      "outputs": [],
      "source": [
        "RF = RandomForestClassifier(featuresCol='***features',labelCol='indexedLabel')"
      ]
    },
    {
      "cell_type": "code",
      "execution_count": null,
      "metadata": {
        "id": "NSN9AjovDQcy"
      },
      "outputs": [],
      "source": [
        "pipeline_RF = Pipeline().setStages([gradeIndexer,gradeOneHotEncoder,\\\n",
        "                                    homeIndexer,homeOneHotEncoder,\\\n",
        "                                    emp_lengthIndexer,emp_lengthOneHotEncoder,\\\n",
        "                                    purposeIndexer,purposeOneHotEncoder,\\\n",
        "                                    verification_statusIndexer,verification_statusOneHotEncoder,\\\n",
        "                                    labelIndexer,\\\n",
        "                                    featureAssembler,\\\n",
        "                                    RF])"
      ]
    },
    {
      "cell_type": "code",
      "execution_count": null,
      "metadata": {
        "id": "3oIpcoWuDQcy"
      },
      "outputs": [],
      "source": [
        "#training_RF, test_RF = normalized_df.randomSplit([0.6,0.4])"
      ]
    },
    {
      "cell_type": "code",
      "execution_count": null,
      "metadata": {
        "id": "9_jGSZ9rDQcy"
      },
      "outputs": [],
      "source": [
        "training_RF = training_dt"
      ]
    },
    {
      "cell_type": "code",
      "execution_count": null,
      "metadata": {
        "id": "gfY7yerEDQcy"
      },
      "outputs": [],
      "source": [
        "test_RF = test_dt"
      ]
    },
    {
      "cell_type": "code",
      "execution_count": null,
      "metadata": {
        "id": "4VCkq52tDQcz"
      },
      "outputs": [],
      "source": [
        "training_RF.groupBy('loan_status').count().orderBy(['loan_status']).show()"
      ]
    },
    {
      "cell_type": "code",
      "execution_count": null,
      "metadata": {
        "id": "guKtW3UYDQcz"
      },
      "outputs": [],
      "source": [
        "training_RF.count()"
      ]
    },
    {
      "cell_type": "code",
      "execution_count": null,
      "metadata": {
        "id": "gEUk1UzRDQcz"
      },
      "outputs": [],
      "source": [
        "start_time_rf = t.time()"
      ]
    },
    {
      "cell_type": "code",
      "execution_count": null,
      "metadata": {
        "id": "HNgnVBM4DQcz"
      },
      "outputs": [],
      "source": [
        "model_RF = pipeline_RF.fit(training_RF)"
      ]
    },
    {
      "cell_type": "code",
      "execution_count": null,
      "metadata": {
        "id": "bd546VKlDQc0"
      },
      "outputs": [],
      "source": [
        "duration_rf = t.time() - start_time_rf"
      ]
    },
    {
      "cell_type": "code",
      "execution_count": null,
      "metadata": {
        "id": "IlhxdBfJDQc0"
      },
      "outputs": [],
      "source": [
        "print('ใช้เวลา Distributed Training {0} วินาที'.format(duration_rf))"
      ]
    },
    {
      "cell_type": "code",
      "execution_count": null,
      "metadata": {
        "id": "GmEqrD2YDQc0"
      },
      "outputs": [],
      "source": [
        "result_RF = model_RF.transform(test_RF.dropna()).withColumn('full_prediction',spark_fullLabel_func(F.col('prediction')))"
      ]
    },
    {
      "cell_type": "code",
      "execution_count": null,
      "metadata": {
        "id": "kjrF_yV3DQc0"
      },
      "outputs": [],
      "source": [
        "result_RF.groupBy('loan_status').count().show()"
      ]
    },
    {
      "cell_type": "code",
      "execution_count": null,
      "metadata": {
        "id": "POGVmYOYDQc0"
      },
      "outputs": [],
      "source": [
        "result_RF.count()"
      ]
    },
    {
      "cell_type": "code",
      "execution_count": null,
      "metadata": {
        "id": "Kr_5jDRWDQc1"
      },
      "outputs": [],
      "source": [
        "result_RF"
      ]
    },
    {
      "cell_type": "markdown",
      "metadata": {
        "id": "mff27weFDQc1"
      },
      "source": [
        "### การประเมิน Charge-Off: TPR, FNR (Recall, Miss rate) "
      ]
    },
    {
      "cell_type": "code",
      "execution_count": null,
      "metadata": {
        "id": "mj9bZwDeDQc1"
      },
      "outputs": [],
      "source": [
        "result_RF.select('loan_status','indexedLabel','prediction','full_prediction').\\\n",
        "filter(F.col('loan_status') == 'Charged Off').show()"
      ]
    },
    {
      "cell_type": "code",
      "execution_count": null,
      "metadata": {
        "id": "qTfVgj3EDQc1"
      },
      "outputs": [],
      "source": [
        "NUM_ACTUAL_POSITIVE = result_RF.select('loan_status','indexedLabel','prediction','full_prediction').\\\n",
        "filter(F.col('loan_status') == 'Charged Off').count()"
      ]
    },
    {
      "cell_type": "code",
      "execution_count": null,
      "metadata": {
        "id": "_Bz88_OWDQc2"
      },
      "outputs": [],
      "source": [
        "NUM_ACTUAL_POSITIVE"
      ]
    },
    {
      "cell_type": "code",
      "execution_count": null,
      "metadata": {
        "id": "rv1md1inDQc2"
      },
      "outputs": [],
      "source": [
        "#ตรวจสอบความถูกต้องจากการ Predict ตรงกับข้อมูลที่เป็น IndexLabel หรือไม่ (เนื่องจากมีการทำ indexer ค่าที่ได้จึงเป็น Numerical)"
      ]
    },
    {
      "cell_type": "markdown",
      "metadata": {
        "id": "bmHSOZnZDQc2"
      },
      "source": [
        "### Positive = Charged Off"
      ]
    },
    {
      "cell_type": "code",
      "execution_count": null,
      "metadata": {
        "id": "9wCGQ0lGDQc2"
      },
      "outputs": [],
      "source": [
        "result_RF.select('loan_status','indexedLabel','prediction','full_prediction').\\\n",
        "filter((F.col('indexedLabel') != col('prediction'))).filter(F.col('loan_status') == 'Charged Off').show()"
      ]
    },
    {
      "cell_type": "code",
      "execution_count": null,
      "metadata": {
        "id": "cgt8L2LpDQc3"
      },
      "outputs": [],
      "source": [
        "FN = result_RF.select('loan_status','indexedLabel','prediction','full_prediction').\\\n",
        "filter((F.col('indexedLabel') != col('prediction'))).filter(F.col('loan_status') == 'Charged Off').count()"
      ]
    },
    {
      "cell_type": "code",
      "execution_count": null,
      "metadata": {
        "id": "Fdx9__N8DQc3"
      },
      "outputs": [],
      "source": [
        "FN"
      ]
    },
    {
      "cell_type": "code",
      "execution_count": null,
      "metadata": {
        "id": "iU-4cF_ADQc3"
      },
      "outputs": [],
      "source": [
        "(FN/NUM_ACTUAL_POSITIVE)*100"
      ]
    },
    {
      "cell_type": "code",
      "execution_count": null,
      "metadata": {
        "id": "rdLXa5UXDQc4"
      },
      "outputs": [],
      "source": [
        "result_RF.select('loan_status','indexedLabel','prediction','full_prediction').\\\n",
        "filter((F.col('indexedLabel') == col('prediction'))).filter(F.col('loan_status') == 'Charged Off').show()"
      ]
    },
    {
      "cell_type": "code",
      "execution_count": null,
      "metadata": {
        "id": "YdP0oGklDQc4"
      },
      "outputs": [],
      "source": [
        "TP = result_RF.select('loan_status','indexedLabel','prediction','full_prediction').\\\n",
        "filter((F.col('indexedLabel') == col('prediction'))).filter(F.col('loan_status') == 'Charged Off').count()"
      ]
    },
    {
      "cell_type": "code",
      "execution_count": null,
      "metadata": {
        "id": "RgLN9bRyDQc4"
      },
      "outputs": [],
      "source": [
        "(TP/NUM_ACTUAL_POSITIVE)*100"
      ]
    },
    {
      "cell_type": "markdown",
      "metadata": {
        "id": "sCkDst1pDQc4"
      },
      "source": [
        "### การประเมิน Fully Paid: TNR, FPR (Specificity, Fall-out) "
      ]
    },
    {
      "cell_type": "code",
      "execution_count": null,
      "metadata": {
        "id": "xHNBqFW6DQc5"
      },
      "outputs": [],
      "source": [
        "result_RF.select('loan_status','indexedLabel','prediction','full_prediction').\\\n",
        "filter(F.col('loan_status') == 'Fully Paid').show()"
      ]
    },
    {
      "cell_type": "code",
      "execution_count": null,
      "metadata": {
        "id": "1NJHagNIDQc5"
      },
      "outputs": [],
      "source": [
        "NUM_ACTUAL_NEGATIVE = result_RF.select('loan_status','indexedLabel','prediction','full_prediction').\\\n",
        "filter(F.col('loan_status') == 'Fully Paid').count()"
      ]
    },
    {
      "cell_type": "code",
      "execution_count": null,
      "metadata": {
        "id": "T4ReZWfRDQc5"
      },
      "outputs": [],
      "source": [
        "NUM_ACTUAL_NEGATIVE"
      ]
    },
    {
      "cell_type": "code",
      "execution_count": null,
      "metadata": {
        "id": "ta-3ma9WDQc5"
      },
      "outputs": [],
      "source": [
        "#ตรวจสอบความถูกต้องจากการ Predict ตรงกับข้อมูลที่เป็น IndexLabel หรือไม่ (เนื่องจากมีการทำ indexer ค่าที่ได้จึงเป็น Numerical)"
      ]
    },
    {
      "cell_type": "markdown",
      "metadata": {
        "id": "vspfD2XEDQc5"
      },
      "source": [
        "### Negative = Fully Paid"
      ]
    },
    {
      "cell_type": "code",
      "execution_count": null,
      "metadata": {
        "id": "BfB7ozfnDQc6"
      },
      "outputs": [],
      "source": [
        "result_RF.select('loan_status','indexedLabel','prediction','full_prediction').\\\n",
        "filter((F.col('indexedLabel') != col('prediction'))).filter(F.col('loan_status') == 'Fully Paid').show()"
      ]
    },
    {
      "cell_type": "code",
      "execution_count": null,
      "metadata": {
        "id": "rzahZELRDQc6"
      },
      "outputs": [],
      "source": [
        "FP = result_RF.select('loan_status','indexedLabel','prediction','full_prediction').\\\n",
        "filter((F.col('indexedLabel') != col('prediction'))).filter(F.col('loan_status') == 'Fully Paid').count()"
      ]
    },
    {
      "cell_type": "code",
      "execution_count": null,
      "metadata": {
        "id": "Gvza2UkaDQc6"
      },
      "outputs": [],
      "source": [
        "(FP/NUM_ACTUAL_NEGATIVE)*100"
      ]
    },
    {
      "cell_type": "code",
      "execution_count": null,
      "metadata": {
        "id": "ERWpRzvqDQc6"
      },
      "outputs": [],
      "source": [
        "result_RF.select('loan_status','indexedLabel','prediction','full_prediction').\\\n",
        "filter((F.col('indexedLabel') == col('prediction'))).filter(F.col('loan_status') == 'Fully Paid').show()"
      ]
    },
    {
      "cell_type": "code",
      "execution_count": null,
      "metadata": {
        "id": "WZmKRx_kDQc7"
      },
      "outputs": [],
      "source": [
        "TN = result_RF.select('loan_status','indexedLabel','prediction','full_prediction').\\\n",
        "filter((F.col('indexedLabel') == col('prediction'))).filter(F.col('loan_status') == 'Fully Paid').count()"
      ]
    },
    {
      "cell_type": "code",
      "execution_count": null,
      "metadata": {
        "id": "ukiXX96VDQc7"
      },
      "outputs": [],
      "source": [
        "(TN/NUM_ACTUAL_NEGATIVE)*100"
      ]
    },
    {
      "cell_type": "markdown",
      "metadata": {
        "id": "PomguDSiDQc7"
      },
      "source": [
        "### การประเมิน Accuracy"
      ]
    },
    {
      "cell_type": "code",
      "execution_count": null,
      "metadata": {
        "id": "NmHRemkDDQc7"
      },
      "outputs": [],
      "source": [
        "NUM_ACTUAL_NEGATIVE + NUM_ACTUAL_POSITIVE"
      ]
    },
    {
      "cell_type": "code",
      "execution_count": null,
      "metadata": {
        "id": "W1rD_KRkDQc8"
      },
      "outputs": [],
      "source": [
        "(TN+TP)/(NUM_ACTUAL_NEGATIVE + NUM_ACTUAL_POSITIVE)"
      ]
    },
    {
      "cell_type": "code",
      "execution_count": null,
      "metadata": {
        "id": "1vyrxKbRDQc8"
      },
      "outputs": [],
      "source": [
        "from pyspark.ml.evaluation import MulticlassClassificationEvaluator"
      ]
    },
    {
      "cell_type": "code",
      "execution_count": null,
      "metadata": {
        "id": "c9vKne6SDQc8"
      },
      "outputs": [],
      "source": [
        "evaluator_RF = MulticlassClassificationEvaluator(predictionCol=\"prediction\",\\\n",
        "                                              labelCol='indexedLabel', metricName='accuracy')\n",
        "evaluator_RF.evaluate(result_RF)*100"
      ]
    },
    {
      "cell_type": "markdown",
      "metadata": {
        "id": "DkZHpLguDQc8"
      },
      "source": [
        "### ------------- สิ้นสุด Random Forest ---------------------------"
      ]
    },
    {
      "cell_type": "markdown",
      "metadata": {
        "collapsed": true,
        "id": "J6Bhko0bDQc9"
      },
      "source": [
        "### Training with Multi layer Perceptron (ANN)"
      ]
    },
    {
      "cell_type": "code",
      "execution_count": null,
      "metadata": {
        "id": "cpjSC1YHDQc9"
      },
      "outputs": [],
      "source": [
        "from pyspark.ml.classification import MultilayerPerceptronClassifier"
      ]
    },
    {
      "cell_type": "code",
      "execution_count": null,
      "metadata": {
        "id": "HLtGYIDjDQc9"
      },
      "outputs": [],
      "source": [
        "pipeline_mlp = Pipeline(stages=[gradeIndexer,gradeOneHotEncoder,\\\n",
        "                                    homeIndexer,homeOneHotEncoder,\\\n",
        "                                    emp_lengthIndexer,emp_lengthOneHotEncoder,\\\n",
        "                                    purposeIndexer,purposeOneHotEncoder,\\\n",
        "                                    verification_statusIndexer,verification_statusOneHotEncoder,\\\n",
        "                                    labelIndexer,\\\n",
        "                                    featureAssembler])"
      ]
    },
    {
      "cell_type": "code",
      "execution_count": null,
      "metadata": {
        "id": "VKIMo7KjDQc9"
      },
      "outputs": [],
      "source": [
        "#training_mlp, test_mlp = normalized_df.randomSplit([0.6,0.4])"
      ]
    },
    {
      "cell_type": "code",
      "execution_count": null,
      "metadata": {
        "id": "iSFLR95eDQc-"
      },
      "outputs": [],
      "source": [
        "training_mlp = training_dt"
      ]
    },
    {
      "cell_type": "code",
      "execution_count": null,
      "metadata": {
        "id": "WdoTTZleDQc-"
      },
      "outputs": [],
      "source": [
        "test_mlp = test_dt"
      ]
    },
    {
      "cell_type": "code",
      "execution_count": null,
      "metadata": {
        "id": "9Is6bPqkDQc-"
      },
      "outputs": [],
      "source": [
        "train_df_features = pipeline_mlp.fit(training_mlp).transform(training_mlp)"
      ]
    },
    {
      "cell_type": "code",
      "execution_count": null,
      "metadata": {
        "id": "kdC5BJmMDQc-"
      },
      "outputs": [],
      "source": [
        "layers = [train_df_features.schema[\"***features\"].metadata[\"ml_attr\"][\"num_attrs\"],20 ,10, 2]"
      ]
    },
    {
      "cell_type": "code",
      "execution_count": null,
      "metadata": {
        "id": "-oT_131DDQc-"
      },
      "outputs": [],
      "source": [
        "layers"
      ]
    },
    {
      "cell_type": "markdown",
      "metadata": {
        "id": "2l-CkdYaDQc-"
      },
      "source": [
        "### Implementation of MLP"
      ]
    },
    {
      "cell_type": "code",
      "execution_count": null,
      "metadata": {
        "id": "W6wxAUpiDQc_"
      },
      "outputs": [],
      "source": [
        "clf = MultilayerPerceptronClassifier(labelCol='indexedLabel'\\\n",
        "                                    ,featuresCol='***features'\\\n",
        "                                    ,layers = layers)"
      ]
    },
    {
      "cell_type": "code",
      "execution_count": null,
      "metadata": {
        "id": "gjh_8mk5DQc_"
      },
      "outputs": [],
      "source": [
        "from pyspark.ml.classification import MultilayerPerceptronClassifier"
      ]
    },
    {
      "cell_type": "code",
      "execution_count": null,
      "metadata": {
        "id": "MEYvDBWpDQc_"
      },
      "outputs": [],
      "source": [
        "pipeline_mlp_test = Pipeline(stages=[gradeIndexer,gradeOneHotEncoder,\\\n",
        "                                    homeIndexer,homeOneHotEncoder,\\\n",
        "                                    emp_lengthIndexer,emp_lengthOneHotEncoder,\\\n",
        "                                    purposeIndexer,purposeOneHotEncoder,\\\n",
        "                                    verification_statusIndexer,verification_statusOneHotEncoder,\\\n",
        "                                    labelIndexer,\\\n",
        "                                    featureAssembler,\n",
        "                                    clf])"
      ]
    },
    {
      "cell_type": "code",
      "execution_count": null,
      "metadata": {
        "id": "IkxYQTyCDQc_"
      },
      "outputs": [],
      "source": [
        "#training_mlp_test, test_mlp_test = normalized_df.randomSplit([0.6,0.4])"
      ]
    },
    {
      "cell_type": "code",
      "execution_count": null,
      "metadata": {
        "id": "KdOWY1rZDQdA"
      },
      "outputs": [],
      "source": [
        "training_mlp.groupBy('loan_status').count().orderBy(['loan_status']).show()"
      ]
    },
    {
      "cell_type": "code",
      "execution_count": null,
      "metadata": {
        "id": "Q4fGCvSUDQdA"
      },
      "outputs": [],
      "source": [
        "training_mlp.count()"
      ]
    },
    {
      "cell_type": "code",
      "execution_count": null,
      "metadata": {
        "id": "LhhJRPdCDQdA"
      },
      "outputs": [],
      "source": [
        "start_time_mlp = t.time()"
      ]
    },
    {
      "cell_type": "code",
      "execution_count": null,
      "metadata": {
        "id": "adU2dQpDDQdA"
      },
      "outputs": [],
      "source": [
        "model_mlp = pipeline_mlp_test.fit(training_mlp)"
      ]
    },
    {
      "cell_type": "code",
      "execution_count": null,
      "metadata": {
        "id": "XTzpCksrDQdA"
      },
      "outputs": [],
      "source": [
        "duration_mlp = t.time() - start_time_mlp"
      ]
    },
    {
      "cell_type": "code",
      "execution_count": null,
      "metadata": {
        "id": "jfgQ0KMADQdA"
      },
      "outputs": [],
      "source": [
        "print('ใช้เวลา Distributed Training {0} วินาที'.format(duration_mlp))"
      ]
    },
    {
      "cell_type": "code",
      "execution_count": null,
      "metadata": {
        "id": "goLgm7pQDQdB"
      },
      "outputs": [],
      "source": [
        "result_mlp = model_mlp.transform(test_mlp.dropna())\\\n",
        ".withColumn('full_prediction',spark_fullLabel_func(F.col('prediction')))"
      ]
    },
    {
      "cell_type": "code",
      "execution_count": null,
      "metadata": {
        "id": "uLCxwxonDQdB"
      },
      "outputs": [],
      "source": [
        "result_mlp.groupBy('loan_status').count().show()"
      ]
    },
    {
      "cell_type": "code",
      "execution_count": null,
      "metadata": {
        "id": "5F0wAXBCDQdB"
      },
      "outputs": [],
      "source": [
        "result_mlp.count()"
      ]
    },
    {
      "cell_type": "code",
      "execution_count": null,
      "metadata": {
        "id": "kKt6d3I8DQdC"
      },
      "outputs": [],
      "source": [
        "result_mlp"
      ]
    },
    {
      "cell_type": "markdown",
      "metadata": {
        "id": "RQMtePHODQdC"
      },
      "source": [
        "### การประเมิน Charge-Off: TPR, FNR (Recall, Miss rate) "
      ]
    },
    {
      "cell_type": "code",
      "execution_count": null,
      "metadata": {
        "id": "jWJdKvD9DQdC"
      },
      "outputs": [],
      "source": [
        "result_mlp.select('loan_status','indexedLabel','prediction','full_prediction').\\\n",
        "filter(F.col('loan_status') == 'Charged Off').show()"
      ]
    },
    {
      "cell_type": "code",
      "execution_count": null,
      "metadata": {
        "id": "bOud8INqDQdC"
      },
      "outputs": [],
      "source": [
        "NUM_ACTUAL_POSITIVE = result_mlp.select('loan_status','indexedLabel','prediction','full_prediction').\\\n",
        "filter(F.col('loan_status') == 'Charged Off').count()"
      ]
    },
    {
      "cell_type": "code",
      "execution_count": null,
      "metadata": {
        "id": "GeDdeYwQDQdC"
      },
      "outputs": [],
      "source": [
        "NUM_ACTUAL_POSITIVE"
      ]
    },
    {
      "cell_type": "code",
      "execution_count": null,
      "metadata": {
        "id": "tgJT3tMUDQdD"
      },
      "outputs": [],
      "source": [
        "#ตรวจสอบความถูกต้องจากการ Predict ตรงกับข้อมูลที่เป็น IndexLabel หรือไม่ (เนื่องจากมีการทำ indexer ค่าที่ได้จึงเป็น Numerical)"
      ]
    },
    {
      "cell_type": "markdown",
      "metadata": {
        "id": "i0UqKoj5DQdD"
      },
      "source": [
        "### Positive = Charged Off"
      ]
    },
    {
      "cell_type": "code",
      "execution_count": null,
      "metadata": {
        "id": "jbobWPE_DQdD"
      },
      "outputs": [],
      "source": [
        "result_mlp.select('loan_status','indexedLabel','prediction','full_prediction').\\\n",
        "filter((F.col('indexedLabel') != col('prediction'))).filter(F.col('loan_status') == 'Charged Off').show()"
      ]
    },
    {
      "cell_type": "code",
      "execution_count": null,
      "metadata": {
        "id": "5bzzTSDlDQdD"
      },
      "outputs": [],
      "source": [
        "FN = result_mlp.select('loan_status','indexedLabel','prediction','full_prediction').\\\n",
        "filter((F.col('indexedLabel') != col('prediction'))).filter(F.col('loan_status') == 'Charged Off').count()"
      ]
    },
    {
      "cell_type": "code",
      "execution_count": null,
      "metadata": {
        "id": "a19pxlsIDQdD"
      },
      "outputs": [],
      "source": [
        "FN"
      ]
    },
    {
      "cell_type": "code",
      "execution_count": null,
      "metadata": {
        "id": "rORt8y3UDQdE"
      },
      "outputs": [],
      "source": [
        "(FN/NUM_ACTUAL_POSITIVE)*100"
      ]
    },
    {
      "cell_type": "code",
      "execution_count": null,
      "metadata": {
        "id": "F-8MRS2gDQdE"
      },
      "outputs": [],
      "source": [
        "result_mlp.select('loan_status','indexedLabel','prediction','full_prediction').\\\n",
        "filter((F.col('indexedLabel') == col('prediction'))).filter(F.col('loan_status') == 'Charged Off').show()"
      ]
    },
    {
      "cell_type": "code",
      "execution_count": null,
      "metadata": {
        "id": "GkVsu6GNDQdE"
      },
      "outputs": [],
      "source": [
        "TP = result_mlp.select('loan_status','indexedLabel','prediction','full_prediction').\\\n",
        "filter((F.col('indexedLabel') == col('prediction'))).filter(F.col('loan_status') == 'Charged Off').count()"
      ]
    },
    {
      "cell_type": "code",
      "execution_count": null,
      "metadata": {
        "id": "WVnxEff-DQdE"
      },
      "outputs": [],
      "source": [
        "(TP/NUM_ACTUAL_POSITIVE)*100"
      ]
    },
    {
      "cell_type": "markdown",
      "metadata": {
        "id": "4tp_WzGuDQdF"
      },
      "source": [
        "### การประเมิน Fully Paid: TNR, FPR (Specificity, Fall-out) "
      ]
    },
    {
      "cell_type": "code",
      "execution_count": null,
      "metadata": {
        "id": "lZnE-DUiDQdF"
      },
      "outputs": [],
      "source": [
        "result_mlp.select('loan_status','indexedLabel','prediction','full_prediction').\\\n",
        "filter(F.col('loan_status') == 'Fully Paid').show()"
      ]
    },
    {
      "cell_type": "code",
      "execution_count": null,
      "metadata": {
        "id": "YNKMo61CDQdF"
      },
      "outputs": [],
      "source": [
        "NUM_ACTUAL_NEGATIVE = result_mlp.select('loan_status','indexedLabel','prediction','full_prediction').\\\n",
        "filter(F.col('loan_status') == 'Fully Paid').count()"
      ]
    },
    {
      "cell_type": "code",
      "execution_count": null,
      "metadata": {
        "id": "T9cozpZZDQdF"
      },
      "outputs": [],
      "source": [
        "NUM_ACTUAL_NEGATIVE"
      ]
    },
    {
      "cell_type": "code",
      "execution_count": null,
      "metadata": {
        "id": "B2GpqhD1DQdF"
      },
      "outputs": [],
      "source": [
        "#ตรวจสอบความถูกต้องจากการ Predict ตรงกับข้อมูลที่เป็น IndexLabel หรือไม่ (เนื่องจากมีการทำ indexer ค่าที่ได้จึงเป็น Numerical)"
      ]
    },
    {
      "cell_type": "markdown",
      "metadata": {
        "id": "U2tkUI5zDQdG"
      },
      "source": [
        "### Negative = Fully Paid"
      ]
    },
    {
      "cell_type": "code",
      "execution_count": null,
      "metadata": {
        "id": "Ha0hLp-RDQdG"
      },
      "outputs": [],
      "source": [
        "result_mlp.select('loan_status','indexedLabel','prediction','full_prediction').\\\n",
        "filter((F.col('indexedLabel') != col('prediction'))).filter(F.col('loan_status') == 'Fully Paid').show()"
      ]
    },
    {
      "cell_type": "code",
      "execution_count": null,
      "metadata": {
        "id": "KXQMZQOdDQdG"
      },
      "outputs": [],
      "source": [
        "FP = result_mlp.select('loan_status','indexedLabel','prediction','full_prediction').\\\n",
        "filter((F.col('indexedLabel') != col('prediction'))).filter(F.col('loan_status') == 'Fully Paid').count()"
      ]
    },
    {
      "cell_type": "code",
      "execution_count": null,
      "metadata": {
        "id": "K8AU-N23DQdG"
      },
      "outputs": [],
      "source": [
        "(FP/NUM_ACTUAL_NEGATIVE)*100"
      ]
    },
    {
      "cell_type": "code",
      "execution_count": null,
      "metadata": {
        "id": "pcGBViZxDQdG"
      },
      "outputs": [],
      "source": [
        "result_mlp.select('loan_status','indexedLabel','prediction','full_prediction').\\\n",
        "filter((F.col('indexedLabel') == col('prediction'))).filter(F.col('loan_status') == 'Fully Paid').show()"
      ]
    },
    {
      "cell_type": "code",
      "execution_count": null,
      "metadata": {
        "id": "Jrh0H7zqDQdH"
      },
      "outputs": [],
      "source": [
        "TN = result_mlp.select('loan_status','indexedLabel','prediction','full_prediction').\\\n",
        "filter((F.col('indexedLabel') == col('prediction'))).filter(F.col('loan_status') == 'Fully Paid').count()"
      ]
    },
    {
      "cell_type": "code",
      "execution_count": null,
      "metadata": {
        "id": "QFVDLZiyDQdH"
      },
      "outputs": [],
      "source": [
        "(TN/NUM_ACTUAL_NEGATIVE)*100"
      ]
    },
    {
      "cell_type": "markdown",
      "metadata": {
        "id": "TYRn9UIMDQdH"
      },
      "source": [
        "### การประเมิน Accuracy"
      ]
    },
    {
      "cell_type": "code",
      "execution_count": null,
      "metadata": {
        "id": "5gPrHfxJDQdH"
      },
      "outputs": [],
      "source": [
        "NUM_ACTUAL_NEGATIVE + NUM_ACTUAL_POSITIVE"
      ]
    },
    {
      "cell_type": "code",
      "execution_count": null,
      "metadata": {
        "id": "7coHantjDQdH"
      },
      "outputs": [],
      "source": [
        "(TN+TP)/(NUM_ACTUAL_NEGATIVE + NUM_ACTUAL_POSITIVE)"
      ]
    },
    {
      "cell_type": "code",
      "execution_count": null,
      "metadata": {
        "id": "UE74Tpn5DQdI"
      },
      "outputs": [],
      "source": [
        "from pyspark.ml.evaluation import MulticlassClassificationEvaluator"
      ]
    },
    {
      "cell_type": "code",
      "execution_count": null,
      "metadata": {
        "id": "Y9A5TO2bDQdI"
      },
      "outputs": [],
      "source": [
        "evaluator_RF = MulticlassClassificationEvaluator(predictionCol=\"prediction\",\\\n",
        "                                              labelCol='indexedLabel', metricName='accuracy')\n",
        "evaluator_RF.evaluate(result_mlp)*100"
      ]
    },
    {
      "cell_type": "markdown",
      "metadata": {
        "id": "FGiHt6F2DQdI"
      },
      "source": [
        "### ------------- สิ้นสุด MLP ---------------------------"
      ]
    },
    {
      "cell_type": "code",
      "execution_count": null,
      "metadata": {
        "id": "AZoAKypfDQdI"
      },
      "outputs": [],
      "source": [
        "#model_mlp.save('./modelMLP_bestloanpayment')"
      ]
    },
    {
      "cell_type": "raw",
      "metadata": {
        "id": "yS4liWSfDQdI"
      },
      "source": [
        "gcloud dataproc clusters create aekanun-29jun2022-high --enable-component-gateway --region us-central1 --zone us-central1-b --master-machine-type n2-standard-4 --master-boot-disk-size 80 --num-workers 2 --worker-machine-type n2-highmem-4 --worker-boot-disk-size 80 --image-version 1.5-debian10 --optional-components ANACONDA,JUPYTER --project bigdatainpractice1 --bucket grizzly-bucket"
      ]
    },
    {
      "cell_type": "code",
      "execution_count": null,
      "metadata": {
        "id": "jFnNwQCFDQdJ"
      },
      "outputs": [],
      "source": []
    },
    {
      "cell_type": "code",
      "execution_count": null,
      "metadata": {
        "id": "UQjtLXtRDQdJ"
      },
      "outputs": [],
      "source": []
    },
    {
      "cell_type": "code",
      "execution_count": null,
      "metadata": {
        "id": "H3njnzYiDQdJ"
      },
      "outputs": [],
      "source": []
    },
    {
      "cell_type": "code",
      "execution_count": null,
      "metadata": {
        "id": "GpFcFjtUDQdJ"
      },
      "outputs": [],
      "source": []
    },
    {
      "cell_type": "code",
      "execution_count": null,
      "metadata": {
        "id": "WfKC_SI_DQdJ"
      },
      "outputs": [],
      "source": []
    },
    {
      "cell_type": "code",
      "execution_count": null,
      "metadata": {
        "id": "HweE33eYDQdJ"
      },
      "outputs": [],
      "source": []
    },
    {
      "cell_type": "code",
      "execution_count": null,
      "metadata": {
        "id": "azHeUo6rDQdJ"
      },
      "outputs": [],
      "source": []
    },
    {
      "cell_type": "code",
      "execution_count": null,
      "metadata": {
        "id": "T9aQ9l9FDQdJ"
      },
      "outputs": [],
      "source": []
    },
    {
      "cell_type": "code",
      "execution_count": null,
      "metadata": {
        "id": "EUf3f9XBDQdK"
      },
      "outputs": [],
      "source": []
    },
    {
      "cell_type": "code",
      "execution_count": null,
      "metadata": {
        "id": "dXtxG1rADQdK"
      },
      "outputs": [],
      "source": []
    },
    {
      "cell_type": "code",
      "execution_count": null,
      "metadata": {
        "id": "JXCYaZKGDQdK"
      },
      "outputs": [],
      "source": []
    },
    {
      "cell_type": "code",
      "execution_count": null,
      "metadata": {
        "id": "vJsqvyWWDQdK"
      },
      "outputs": [],
      "source": []
    },
    {
      "cell_type": "code",
      "execution_count": null,
      "metadata": {
        "id": "wEeNZUtnDQdK"
      },
      "outputs": [],
      "source": []
    },
    {
      "cell_type": "code",
      "execution_count": null,
      "metadata": {
        "id": "hSZk9UgBDQdK"
      },
      "outputs": [],
      "source": []
    },
    {
      "cell_type": "code",
      "execution_count": null,
      "metadata": {
        "id": "yV9mu6EeDQdK"
      },
      "outputs": [],
      "source": []
    },
    {
      "cell_type": "code",
      "execution_count": null,
      "metadata": {
        "id": "O5ryuu6fDQdK"
      },
      "outputs": [],
      "source": []
    },
    {
      "cell_type": "code",
      "execution_count": null,
      "metadata": {
        "id": "mtk2LSMWDQdK"
      },
      "outputs": [],
      "source": []
    },
    {
      "cell_type": "code",
      "execution_count": null,
      "metadata": {
        "id": "aiE8zjdmDQdK"
      },
      "outputs": [],
      "source": []
    },
    {
      "cell_type": "code",
      "execution_count": null,
      "metadata": {
        "id": "Y4g9cDUxDQdL"
      },
      "outputs": [],
      "source": []
    },
    {
      "cell_type": "code",
      "execution_count": null,
      "metadata": {
        "id": "O9nwU2nSDQdL"
      },
      "outputs": [],
      "source": []
    },
    {
      "cell_type": "code",
      "execution_count": null,
      "metadata": {
        "id": "g_oYDz2UDQdL"
      },
      "outputs": [],
      "source": []
    },
    {
      "cell_type": "code",
      "execution_count": null,
      "metadata": {
        "id": "AbmXWRENDQdL"
      },
      "outputs": [],
      "source": []
    },
    {
      "cell_type": "code",
      "execution_count": null,
      "metadata": {
        "id": "dpUa9x_aDQdL"
      },
      "outputs": [],
      "source": []
    },
    {
      "cell_type": "code",
      "execution_count": null,
      "metadata": {
        "id": "9j8TXPwNDQdL"
      },
      "outputs": [],
      "source": []
    },
    {
      "cell_type": "code",
      "execution_count": null,
      "metadata": {
        "id": "Fi9nyEU4DQdL"
      },
      "outputs": [],
      "source": []
    },
    {
      "cell_type": "code",
      "execution_count": null,
      "metadata": {
        "id": "-B-NyBh3DQdL"
      },
      "outputs": [],
      "source": []
    },
    {
      "cell_type": "code",
      "execution_count": null,
      "metadata": {
        "id": "VG-mAqMHDQdL"
      },
      "outputs": [],
      "source": []
    },
    {
      "cell_type": "code",
      "execution_count": null,
      "metadata": {
        "id": "uF7rNBO8DQdM"
      },
      "outputs": [],
      "source": []
    },
    {
      "cell_type": "code",
      "execution_count": null,
      "metadata": {
        "id": "beP5eeGFDQdM"
      },
      "outputs": [],
      "source": []
    },
    {
      "cell_type": "code",
      "execution_count": null,
      "metadata": {
        "id": "tlMo8rfWDQdM"
      },
      "outputs": [],
      "source": []
    },
    {
      "cell_type": "code",
      "execution_count": null,
      "metadata": {
        "id": "19JAF3qiDQdM"
      },
      "outputs": [],
      "source": []
    },
    {
      "cell_type": "code",
      "execution_count": null,
      "metadata": {
        "id": "FyNXCKajDQdM"
      },
      "outputs": [],
      "source": []
    },
    {
      "cell_type": "code",
      "execution_count": null,
      "metadata": {
        "id": "wtv0wvNSDQdM"
      },
      "outputs": [],
      "source": []
    },
    {
      "cell_type": "code",
      "execution_count": null,
      "metadata": {
        "id": "Ieo2pDGgDQdM"
      },
      "outputs": [],
      "source": []
    },
    {
      "cell_type": "code",
      "execution_count": null,
      "metadata": {
        "id": "Z0R2KoSDDQdM"
      },
      "outputs": [],
      "source": []
    },
    {
      "cell_type": "code",
      "execution_count": null,
      "metadata": {
        "id": "RYMZk2ZLDQdM"
      },
      "outputs": [],
      "source": []
    },
    {
      "cell_type": "code",
      "execution_count": null,
      "metadata": {
        "id": "k-TuhJCPDQdM"
      },
      "outputs": [],
      "source": []
    },
    {
      "cell_type": "code",
      "execution_count": null,
      "metadata": {
        "id": "5ymyRRRqDQdM"
      },
      "outputs": [],
      "source": []
    },
    {
      "cell_type": "code",
      "execution_count": null,
      "metadata": {
        "id": "zvwlMSIgDQdN"
      },
      "outputs": [],
      "source": []
    },
    {
      "cell_type": "code",
      "execution_count": null,
      "metadata": {
        "id": "2cRfqbEdDQdN"
      },
      "outputs": [],
      "source": []
    },
    {
      "cell_type": "code",
      "execution_count": null,
      "metadata": {
        "id": "Nccu7iaRDQdN"
      },
      "outputs": [],
      "source": []
    },
    {
      "cell_type": "code",
      "execution_count": null,
      "metadata": {
        "id": "LWMVQ853DQdN"
      },
      "outputs": [],
      "source": []
    },
    {
      "cell_type": "code",
      "execution_count": null,
      "metadata": {
        "id": "5VbvCnnzDQdN"
      },
      "outputs": [],
      "source": []
    },
    {
      "cell_type": "code",
      "execution_count": null,
      "metadata": {
        "id": "_gdyKsdEDQdN"
      },
      "outputs": [],
      "source": []
    },
    {
      "cell_type": "code",
      "execution_count": null,
      "metadata": {
        "id": "G6AepVN4DQdN"
      },
      "outputs": [],
      "source": []
    },
    {
      "cell_type": "code",
      "execution_count": null,
      "metadata": {
        "id": "2iN85HOVDQdN"
      },
      "outputs": [],
      "source": []
    },
    {
      "cell_type": "code",
      "execution_count": null,
      "metadata": {
        "id": "Zjnb2kYmDQdN"
      },
      "outputs": [],
      "source": []
    },
    {
      "cell_type": "code",
      "execution_count": null,
      "metadata": {
        "id": "ek1yso1vDQdN"
      },
      "outputs": [],
      "source": []
    },
    {
      "cell_type": "code",
      "execution_count": null,
      "metadata": {
        "id": "8pPXowFyDQdO"
      },
      "outputs": [],
      "source": []
    },
    {
      "cell_type": "code",
      "execution_count": null,
      "metadata": {
        "id": "gS0LpdgXDQdO"
      },
      "outputs": [],
      "source": []
    },
    {
      "cell_type": "code",
      "execution_count": null,
      "metadata": {
        "id": "pwP-kRG4DQdO"
      },
      "outputs": [],
      "source": []
    },
    {
      "cell_type": "code",
      "execution_count": null,
      "metadata": {
        "id": "zplfiDcUDQdO"
      },
      "outputs": [],
      "source": []
    },
    {
      "cell_type": "code",
      "execution_count": null,
      "metadata": {
        "id": "5ZFMihv4DQdO"
      },
      "outputs": [],
      "source": []
    },
    {
      "cell_type": "code",
      "execution_count": null,
      "metadata": {
        "id": "yMFyXcAyDQdO"
      },
      "outputs": [],
      "source": []
    },
    {
      "cell_type": "code",
      "execution_count": null,
      "metadata": {
        "id": "AkJUYkGJDQdO"
      },
      "outputs": [],
      "source": []
    },
    {
      "cell_type": "code",
      "execution_count": null,
      "metadata": {
        "id": "9rBOrikpDQdO"
      },
      "outputs": [],
      "source": []
    },
    {
      "cell_type": "code",
      "execution_count": null,
      "metadata": {
        "id": "5m-WpUhNDQdO"
      },
      "outputs": [],
      "source": []
    },
    {
      "cell_type": "code",
      "execution_count": null,
      "metadata": {
        "id": "AnDVi19_DQdO"
      },
      "outputs": [],
      "source": []
    },
    {
      "cell_type": "code",
      "execution_count": null,
      "metadata": {
        "id": "Dx-aSX_wDQdO"
      },
      "outputs": [],
      "source": []
    }
  ],
  "metadata": {
    "kernelspec": {
      "display_name": "PySpark",
      "language": "python",
      "name": "pyspark"
    },
    "language_info": {
      "codemirror_mode": {
        "name": "ipython",
        "version": 3
      },
      "file_extension": ".py",
      "mimetype": "text/x-python",
      "name": "python",
      "nbconvert_exporter": "python",
      "pygments_lexer": "ipython3",
      "version": "3.7.4"
    },
    "colab": {
      "provenance": [],
      "collapsed_sections": [
        "VPODUw4ODQb8",
        "FGni38QnDQb9",
        "h7o4ZC9qDQcI",
        "b5pWGUxyDQcM",
        "dJFHSBpKDQcM",
        "6-A9lFmFDQcN",
        "7WY9YH52DQcO",
        "XR936pkHDQcP",
        "uuGbytlIDQcR",
        "0wMEJg5wDQcT",
        "uQW5ujhKDQcU",
        "gT36nrzPDQcV",
        "rgQd6O6GDQcW",
        "5ki38i1IDQcx",
        "JtsXmfP5DQcx",
        "mff27weFDQc1",
        "bmHSOZnZDQc2",
        "sCkDst1pDQc4",
        "vspfD2XEDQc5",
        "PomguDSiDQc7",
        "DkZHpLguDQc8",
        "J6Bhko0bDQc9",
        "2l-CkdYaDQc-",
        "RQMtePHODQdC",
        "i0UqKoj5DQdD",
        "4tp_WzGuDQdF",
        "U2tkUI5zDQdG",
        "TYRn9UIMDQdH",
        "FGiHt6F2DQdI"
      ],
      "include_colab_link": true
    }
  },
  "nbformat": 4,
  "nbformat_minor": 0
}