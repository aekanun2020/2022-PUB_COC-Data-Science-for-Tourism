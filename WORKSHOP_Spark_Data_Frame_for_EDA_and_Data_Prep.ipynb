{
  "nbformat": 4,
  "nbformat_minor": 0,
  "metadata": {
    "kernelspec": {
      "display_name": "Python 3",
      "language": "python",
      "name": "python3"
    },
    "language_info": {
      "codemirror_mode": {
        "name": "ipython",
        "version": 3
      },
      "file_extension": ".py",
      "mimetype": "text/x-python",
      "name": "python",
      "nbconvert_exporter": "python",
      "pygments_lexer": "ipython3",
      "version": "3.6.1"
    },
    "colab": {
      "provenance": [],
      "collapsed_sections": [],
      "include_colab_link": true
    }
  },
  "cells": [
    {
      "cell_type": "markdown",
      "metadata": {
        "id": "view-in-github",
        "colab_type": "text"
      },
      "source": [
        "<a href=\"https://colab.research.google.com/github/aekanun2020/2022-PUB_COC-Data-Science-for-Tourism/blob/main/WORKSHOP_Spark_Data_Frame_for_EDA_and_Data_Prep.ipynb\" target=\"_parent\"><img src=\"https://colab.research.google.com/assets/colab-badge.svg\" alt=\"Open In Colab\"/></a>"
      ]
    },
    {
      "cell_type": "code",
      "metadata": {
        "id": "0dTkA-bDa5bm",
        "colab": {
          "base_uri": "https://localhost:8080/",
          "height": 193
        },
        "outputId": "dfdc51c7-d660-4a88-c5ef-92c672b1d1ae"
      },
      "source": [
        "!apt-get install openjdk-8-jdk-headless -qq > /dev/null\n",
        "!wget -q https://archive.apache.org/dist/spark/spark-2.4.1/spark-2.4.1-bin-hadoop2.7.tgz\n",
        "!tar xf spark-2.4.1-bin-hadoop2.7.tgz\n",
        "!pip install -q findspark\n",
        "import os\n",
        "os.environ[\"JAVA_HOME\"] = \"/usr/lib/jvm/java-8-openjdk-amd64\"\n",
        "os.environ[\"SPARK_HOME\"] = \"/content/spark-2.4.1-bin-hadoop2.7\"\n",
        "import findspark\n",
        "findspark.init()\n",
        "from pyspark.sql import SparkSession\n",
        "spark = SparkSession.builder.master(\"local[*]\").getOrCreate()\n",
        "from pyspark.sql import SparkSession\n",
        "spark = SparkSession.builder \\\n",
        "   .appName(\"Neural Network Model\") \\\n",
        "   .config(\"spark.executor.memory\", \"3gb\") \\\n",
        "   .getOrCreate()\n",
        "   \n",
        "sc = spark.sparkContext\n",
        "sc"
      ],
      "execution_count": 1,
      "outputs": [
        {
          "output_type": "execute_result",
          "data": {
            "text/plain": [
              "<SparkContext master=local[*] appName=pyspark-shell>"
            ],
            "text/html": [
              "\n",
              "        <div>\n",
              "            <p><b>SparkContext</b></p>\n",
              "\n",
              "            <p><a href=\"http://3bcf0adf3ce5:4040\">Spark UI</a></p>\n",
              "\n",
              "            <dl>\n",
              "              <dt>Version</dt>\n",
              "                <dd><code>v2.4.1</code></dd>\n",
              "              <dt>Master</dt>\n",
              "                <dd><code>local[*]</code></dd>\n",
              "              <dt>AppName</dt>\n",
              "                <dd><code>pyspark-shell</code></dd>\n",
              "            </dl>\n",
              "        </div>\n",
              "        "
            ]
          },
          "metadata": {},
          "execution_count": 1
        }
      ]
    },
    {
      "cell_type": "code",
      "source": [
        "from pyspark.sql import functions as sparkf\n",
        "\n",
        "# Define a dataset.\n",
        "\n",
        "df = sc.parallelize([\n",
        "    (10, '', 10000), (20, 'Female', 30000), (None, 'Male', 80000), (None, 'Male', 5000)\n",
        "]).toDF([\"age\", \"gender\", \"income\"])\n",
        "\n",
        "df.show()\n"
      ],
      "metadata": {
        "id": "M3f3enA8rGBe",
        "colab": {
          "base_uri": "https://localhost:8080/"
        },
        "outputId": "60b31444-8d0f-45af-cbc9-92947ab6d904"
      },
      "execution_count": 2,
      "outputs": [
        {
          "output_type": "stream",
          "name": "stdout",
          "text": [
            "+----+------+------+\n",
            "| age|gender|income|\n",
            "+----+------+------+\n",
            "|  10|      | 10000|\n",
            "|  20|Female| 30000|\n",
            "|null|  Male| 80000|\n",
            "|null|  Male|  5000|\n",
            "+----+------+------+\n",
            "\n"
          ]
        }
      ]
    },
    {
      "cell_type": "code",
      "source": [
        "df.describe().show()"
      ],
      "metadata": {
        "colab": {
          "base_uri": "https://localhost:8080/"
        },
        "id": "Lr4pOmRgsXVP",
        "outputId": "835e7820-b4e0-4bff-cf47-58351f56b1d9"
      },
      "execution_count": 3,
      "outputs": [
        {
          "output_type": "stream",
          "name": "stdout",
          "text": [
            "+-------+------------------+------+-----------------+\n",
            "|summary|               age|gender|           income|\n",
            "+-------+------------------+------+-----------------+\n",
            "|  count|                 2|     4|                4|\n",
            "|   mean|              15.0|  null|          31250.0|\n",
            "| stddev|7.0710678118654755|  null|34247.87098005753|\n",
            "|    min|                10|      |             5000|\n",
            "|    max|                20|  Male|            80000|\n",
            "+-------+------------------+------+-----------------+\n",
            "\n"
          ]
        }
      ]
    },
    {
      "cell_type": "code",
      "source": [
        "df.summary().take(10)"
      ],
      "metadata": {
        "colab": {
          "base_uri": "https://localhost:8080/"
        },
        "id": "nr5ZInqq_BGg",
        "outputId": "1d679e0e-5baf-42f2-fe05-60836c71052f"
      },
      "execution_count": 4,
      "outputs": [
        {
          "output_type": "execute_result",
          "data": {
            "text/plain": [
              "[Row(summary='count', age='2', gender='4', income='4'),\n",
              " Row(summary='mean', age='15.0', gender=None, income='31250.0'),\n",
              " Row(summary='stddev', age='7.0710678118654755', gender=None, income='34247.87098005753'),\n",
              " Row(summary='min', age='10', gender='', income='5000'),\n",
              " Row(summary='25%', age='10', gender=None, income='5000'),\n",
              " Row(summary='50%', age='10', gender=None, income='10000'),\n",
              " Row(summary='75%', age='20', gender=None, income='30000'),\n",
              " Row(summary='max', age='20', gender='Male', income='80000')]"
            ]
          },
          "metadata": {},
          "execution_count": 4
        }
      ]
    },
    {
      "cell_type": "code",
      "source": [
        "median_age = float(df.summary().take(10)[5]['age'])"
      ],
      "metadata": {
        "id": "fui5HxOH_BCl"
      },
      "execution_count": 5,
      "outputs": []
    },
    {
      "cell_type": "code",
      "source": [
        "median_age"
      ],
      "metadata": {
        "colab": {
          "base_uri": "https://localhost:8080/"
        },
        "id": "h2_fRRsl_A-p",
        "outputId": "4106ee11-e884-46ff-fdb8-15cf49b2f0bc"
      },
      "execution_count": 6,
      "outputs": [
        {
          "output_type": "execute_result",
          "data": {
            "text/plain": [
              "10.0"
            ]
          },
          "metadata": {},
          "execution_count": 6
        }
      ]
    },
    {
      "cell_type": "code",
      "source": [
        "mean_age = float(df.summary().take(10)[1]['age'])"
      ],
      "metadata": {
        "id": "1UK0ArT9_A6w"
      },
      "execution_count": 7,
      "outputs": []
    },
    {
      "cell_type": "code",
      "source": [
        "mean_age"
      ],
      "metadata": {
        "colab": {
          "base_uri": "https://localhost:8080/"
        },
        "id": "2QzvWmD3_A3L",
        "outputId": "c72fa5fe-d7ca-427d-d506-1da118e8e36c"
      },
      "execution_count": 8,
      "outputs": [
        {
          "output_type": "execute_result",
          "data": {
            "text/plain": [
              "15.0"
            ]
          },
          "metadata": {},
          "execution_count": 8
        }
      ]
    },
    {
      "cell_type": "code",
      "source": [
        "df.select(sparkf.avg(sparkf.col('age'))).take(10)"
      ],
      "metadata": {
        "colab": {
          "base_uri": "https://localhost:8080/"
        },
        "id": "EuI6pSyqGDkf",
        "outputId": "a23d6977-2e1e-4571-c7d7-60a3480dd5d4"
      },
      "execution_count": 9,
      "outputs": [
        {
          "output_type": "execute_result",
          "data": {
            "text/plain": [
              "[Row(avg(age)=15.0)]"
            ]
          },
          "metadata": {},
          "execution_count": 9
        }
      ]
    },
    {
      "cell_type": "code",
      "source": [
        "df.select(sparkf.avg(sparkf.col('age'))).take(1)[0]['avg(age)']"
      ],
      "metadata": {
        "colab": {
          "base_uri": "https://localhost:8080/"
        },
        "id": "qIQJ39ZgFezO",
        "outputId": "513acd92-aff8-455f-e2dd-a4e8a6323103"
      },
      "execution_count": 10,
      "outputs": [
        {
          "output_type": "execute_result",
          "data": {
            "text/plain": [
              "15.0"
            ]
          },
          "metadata": {},
          "execution_count": 10
        }
      ]
    },
    {
      "cell_type": "code",
      "source": [
        "mode_gender = df.groupBy('gender').count().orderBy('count',ascending=False).first()['gender']"
      ],
      "metadata": {
        "id": "eifodQWmGP25"
      },
      "execution_count": 11,
      "outputs": []
    },
    {
      "cell_type": "code",
      "source": [
        "# Treat Null Value (None) with Average one.\n",
        "\n",
        "df.withColumn('age',sparkf.when(sparkf.col('age').isNull(),mean_age).otherwise(sparkf.col('age'))).show()"
      ],
      "metadata": {
        "colab": {
          "base_uri": "https://localhost:8080/"
        },
        "id": "64MmHQ9i_Az7",
        "outputId": "02146193-b8b9-445c-c820-7910fa339d9c"
      },
      "execution_count": 12,
      "outputs": [
        {
          "output_type": "stream",
          "name": "stdout",
          "text": [
            "+----+------+------+\n",
            "| age|gender|income|\n",
            "+----+------+------+\n",
            "|10.0|      | 10000|\n",
            "|20.0|Female| 30000|\n",
            "|15.0|  Male| 80000|\n",
            "|15.0|  Male|  5000|\n",
            "+----+------+------+\n",
            "\n"
          ]
        }
      ]
    },
    {
      "cell_type": "code",
      "source": [
        "# Treat Empty Value with Defined Values.\n",
        "\n",
        "\n",
        "df.withColumn('gender',sparkf.when(sparkf.col('gender')=='',mode_gender).otherwise(sparkf.col('gender'))).show()\n",
        "\n"
      ],
      "metadata": {
        "colab": {
          "base_uri": "https://localhost:8080/"
        },
        "id": "gMtZIxCaFHQW",
        "outputId": "66e133a8-96e6-4837-b5ea-0ad6fb0c3b83"
      },
      "execution_count": 13,
      "outputs": [
        {
          "output_type": "stream",
          "name": "stdout",
          "text": [
            "+----+------+------+\n",
            "| age|gender|income|\n",
            "+----+------+------+\n",
            "|  10|  Male| 10000|\n",
            "|  20|Female| 30000|\n",
            "|null|  Male| 80000|\n",
            "|null|  Male|  5000|\n",
            "+----+------+------+\n",
            "\n"
          ]
        }
      ]
    },
    {
      "cell_type": "code",
      "source": [
        "# Treat Null Value (None) with Average one.\n",
        "\n",
        "avg_age = df.na.drop().agg(sparkf.avg(\"age\")).collect()[0][0]\n",
        "\n",
        "sparkf_replaceNull = sparkf.udf(lambda x: avg_age if x == None else x)\n",
        "\n",
        "no_null_df = df.withColumn('age', sparkf_replaceNull(sparkf.col('age')))\n",
        "\n",
        "no_null_df.show()\n"
      ],
      "metadata": {
        "colab": {
          "base_uri": "https://localhost:8080/"
        },
        "id": "jSXHC9XGsd7M",
        "outputId": "4e30882e-450a-4665-ff56-47a2bd078ddc"
      },
      "execution_count": 14,
      "outputs": [
        {
          "output_type": "stream",
          "name": "stdout",
          "text": [
            "+----+------+------+\n",
            "| age|gender|income|\n",
            "+----+------+------+\n",
            "|  10|      | 10000|\n",
            "|  20|Female| 30000|\n",
            "|15.0|  Male| 80000|\n",
            "|15.0|  Male|  5000|\n",
            "+----+------+------+\n",
            "\n"
          ]
        }
      ]
    },
    {
      "cell_type": "code",
      "source": [
        "# Treat Empty Value with Defined Values.\n",
        "treat_missing = sparkf.udf(lambda x: \"Male_Assume\" if x == \"\" else x)\n",
        "\n",
        "no_missing_df = no_null_df.withColumn('new_gender',treat_missing(no_null_df.gender))\n",
        "\n",
        "no_missing_df.show()\n"
      ],
      "metadata": {
        "colab": {
          "base_uri": "https://localhost:8080/"
        },
        "id": "zTj2tXnnsiue",
        "outputId": "4596e134-9d5e-42d0-e303-8ba221ce71b8"
      },
      "execution_count": 15,
      "outputs": [
        {
          "output_type": "stream",
          "name": "stdout",
          "text": [
            "+----+------+------+-----------+\n",
            "| age|gender|income| new_gender|\n",
            "+----+------+------+-----------+\n",
            "|  10|      | 10000|Male_Assume|\n",
            "|  20|Female| 30000|     Female|\n",
            "|15.0|  Male| 80000|       Male|\n",
            "|15.0|  Male|  5000|       Male|\n",
            "+----+------+------+-----------+\n",
            "\n"
          ]
        }
      ]
    },
    {
      "cell_type": "code",
      "source": [
        "# Treat Outliner with Remove one.\n",
        "\n",
        "no_outlier_df = no_missing_df.filter(sparkf.col('income') >= 10000)\n",
        "\n",
        "no_outlier_df .show()\n"
      ],
      "metadata": {
        "colab": {
          "base_uri": "https://localhost:8080/"
        },
        "id": "gtYmhLYbstV9",
        "outputId": "57a4134f-087b-428f-8fec-a16f8d932191"
      },
      "execution_count": 16,
      "outputs": [
        {
          "output_type": "stream",
          "name": "stdout",
          "text": [
            "+----+------+------+-----------+\n",
            "| age|gender|income| new_gender|\n",
            "+----+------+------+-----------+\n",
            "|  10|      | 10000|Male_Assume|\n",
            "|  20|Female| 30000|     Female|\n",
            "|15.0|  Male| 80000|       Male|\n",
            "+----+------+------+-----------+\n",
            "\n"
          ]
        }
      ]
    },
    {
      "cell_type": "code",
      "source": [
        "# Treat Empty Value with Defined Values.\n",
        "\n",
        "treat_missing = sparkf.udf(lambda x: \"Male_Assume\" if x == \"\" else x)\n",
        "\n",
        "no_missing_df = no_null_df.withColumn('new_gender',treat_missing(no_null_df.gender))\n",
        "no_missing_df = no_null_df.withColumn('target_variable',treat_missing(no_null_df.gender))\n",
        "\n",
        "no_missing_df.show()"
      ],
      "metadata": {
        "id": "m9R9UdH6syer",
        "colab": {
          "base_uri": "https://localhost:8080/"
        },
        "outputId": "2289e9f1-797c-40fc-fce4-c94824dd7925"
      },
      "execution_count": 17,
      "outputs": [
        {
          "output_type": "stream",
          "name": "stdout",
          "text": [
            "+----+------+------+---------------+\n",
            "| age|gender|income|target_variable|\n",
            "+----+------+------+---------------+\n",
            "|  10|      | 10000|    Male_Assume|\n",
            "|  20|Female| 30000|         Female|\n",
            "|15.0|  Male| 80000|           Male|\n",
            "|15.0|  Male|  5000|           Male|\n",
            "+----+------+------+---------------+\n",
            "\n"
          ]
        }
      ]
    },
    {
      "cell_type": "code",
      "source": [],
      "metadata": {
        "id": "LxYRw1sdE_nS"
      },
      "execution_count": 17,
      "outputs": []
    }
  ]
}