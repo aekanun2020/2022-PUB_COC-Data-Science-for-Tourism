{
  "nbformat": 4,
  "nbformat_minor": 0,
  "metadata": {
    "kernelspec": {
      "display_name": "Python 3",
      "language": "python",
      "name": "python3"
    },
    "language_info": {
      "codemirror_mode": {
        "name": "ipython",
        "version": 3
      },
      "file_extension": ".py",
      "mimetype": "text/x-python",
      "name": "python",
      "nbconvert_exporter": "python",
      "pygments_lexer": "ipython3",
      "version": "3.6.1"
    },
    "colab": {
      "provenance": [],
      "collapsed_sections": [],
      "include_colab_link": true
    }
  },
  "cells": [
    {
      "cell_type": "markdown",
      "metadata": {
        "id": "view-in-github",
        "colab_type": "text"
      },
      "source": [
        "<a href=\"https://colab.research.google.com/github/aekanun2020/2022-PUB_COC-Data-Science-for-Tourism/blob/main/_LAB_Spark_Data_Frame_Operations.ipynb\" target=\"_parent\"><img src=\"https://colab.research.google.com/assets/colab-badge.svg\" alt=\"Open In Colab\"/></a>"
      ]
    },
    {
      "cell_type": "code",
      "metadata": {
        "id": "0dTkA-bDa5bm",
        "colab": {
          "base_uri": "https://localhost:8080/",
          "height": 193
        },
        "outputId": "c9ba2d26-2da7-491e-dac7-4f4185e65464"
      },
      "source": [
        "!apt-get install openjdk-8-jdk-headless -qq > /dev/null\n",
        "!wget -q https://archive.apache.org/dist/spark/spark-2.4.1/spark-2.4.1-bin-hadoop2.7.tgz\n",
        "!tar xf spark-2.4.1-bin-hadoop2.7.tgz\n",
        "!pip install -q findspark\n",
        "import os\n",
        "os.environ[\"JAVA_HOME\"] = \"/usr/lib/jvm/java-8-openjdk-amd64\"\n",
        "os.environ[\"SPARK_HOME\"] = \"/content/spark-2.4.1-bin-hadoop2.7\"\n",
        "import findspark\n",
        "findspark.init()\n",
        "from pyspark.sql import SparkSession\n",
        "spark = SparkSession.builder.master(\"local[*]\").getOrCreate()\n",
        "from pyspark.sql import SparkSession\n",
        "spark = SparkSession.builder \\\n",
        "   .appName(\"Neural Network Model\") \\\n",
        "   .config(\"spark.executor.memory\", \"3gb\") \\\n",
        "   .getOrCreate()\n",
        "   \n",
        "sc = spark.sparkContext\n",
        "sc"
      ],
      "execution_count": 1,
      "outputs": [
        {
          "output_type": "execute_result",
          "data": {
            "text/plain": [
              "<SparkContext master=local[*] appName=pyspark-shell>"
            ],
            "text/html": [
              "\n",
              "        <div>\n",
              "            <p><b>SparkContext</b></p>\n",
              "\n",
              "            <p><a href=\"http://ee4e5cc6ecbf:4040\">Spark UI</a></p>\n",
              "\n",
              "            <dl>\n",
              "              <dt>Version</dt>\n",
              "                <dd><code>v2.4.1</code></dd>\n",
              "              <dt>Master</dt>\n",
              "                <dd><code>local[*]</code></dd>\n",
              "              <dt>AppName</dt>\n",
              "                <dd><code>pyspark-shell</code></dd>\n",
              "            </dl>\n",
              "        </div>\n",
              "        "
            ]
          },
          "metadata": {},
          "execution_count": 1
        }
      ]
    },
    {
      "cell_type": "code",
      "metadata": {
        "id": "I7c5vxPNAPVi"
      },
      "source": [
        "colors = ['white','green','yellow','red','brown','pink']"
      ],
      "execution_count": 2,
      "outputs": []
    },
    {
      "cell_type": "code",
      "source": [
        "color_df = sc.parallelize(colors).map(lambda x:(x,len(x))).toDF(['color','length'])"
      ],
      "metadata": {
        "id": "BYHLFg8Nqhxv"
      },
      "execution_count": 3,
      "outputs": []
    },
    {
      "cell_type": "code",
      "source": [
        "color_df"
      ],
      "metadata": {
        "colab": {
          "base_uri": "https://localhost:8080/"
        },
        "id": "SoGxkHv7qjeN",
        "outputId": "e57f9c50-9220-499a-d29f-e8b027d02392"
      },
      "execution_count": 4,
      "outputs": [
        {
          "output_type": "execute_result",
          "data": {
            "text/plain": [
              "DataFrame[color: string, length: bigint]"
            ]
          },
          "metadata": {},
          "execution_count": 4
        }
      ]
    },
    {
      "cell_type": "code",
      "source": [
        "color_df.printSchema()"
      ],
      "metadata": {
        "colab": {
          "base_uri": "https://localhost:8080/"
        },
        "id": "VDukqqOAqlHr",
        "outputId": "08c9c5e0-0e91-4cbc-8263-8f5c3c9a349d"
      },
      "execution_count": 5,
      "outputs": [
        {
          "output_type": "stream",
          "name": "stdout",
          "text": [
            "root\n",
            " |-- color: string (nullable = true)\n",
            " |-- length: long (nullable = true)\n",
            "\n"
          ]
        }
      ]
    },
    {
      "cell_type": "code",
      "source": [
        "color_df.count()"
      ],
      "metadata": {
        "colab": {
          "base_uri": "https://localhost:8080/"
        },
        "id": "7LbzVlIcqm_2",
        "outputId": "7b10b928-09fb-4588-9266-7aa369dac9f4"
      },
      "execution_count": 6,
      "outputs": [
        {
          "output_type": "execute_result",
          "data": {
            "text/plain": [
              "6"
            ]
          },
          "metadata": {},
          "execution_count": 6
        }
      ]
    },
    {
      "cell_type": "code",
      "source": [
        "color_df.show(2)"
      ],
      "metadata": {
        "colab": {
          "base_uri": "https://localhost:8080/"
        },
        "id": "ccHb3HWCqoPq",
        "outputId": "7aed4c8f-e41e-48de-cac4-904dfedb29c8"
      },
      "execution_count": 7,
      "outputs": [
        {
          "output_type": "stream",
          "name": "stdout",
          "text": [
            "+-----+------+\n",
            "|color|length|\n",
            "+-----+------+\n",
            "|white|     5|\n",
            "|green|     5|\n",
            "+-----+------+\n",
            "only showing top 2 rows\n",
            "\n"
          ]
        }
      ]
    },
    {
      "cell_type": "code",
      "source": [
        "color_df.columns"
      ],
      "metadata": {
        "colab": {
          "base_uri": "https://localhost:8080/"
        },
        "id": "r9J_8CNbqqFa",
        "outputId": "b8da2840-0add-4b4a-f2c4-9e0cfaa47090"
      },
      "execution_count": 8,
      "outputs": [
        {
          "output_type": "execute_result",
          "data": {
            "text/plain": [
              "['color', 'length']"
            ]
          },
          "metadata": {},
          "execution_count": 8
        }
      ]
    },
    {
      "cell_type": "code",
      "source": [
        "color_df.drop('length').show()"
      ],
      "metadata": {
        "colab": {
          "base_uri": "https://localhost:8080/"
        },
        "id": "VmGJFQdcqs93",
        "outputId": "0aec076a-e202-4d28-e114-217001974d90"
      },
      "execution_count": 9,
      "outputs": [
        {
          "output_type": "stream",
          "name": "stdout",
          "text": [
            "+------+\n",
            "| color|\n",
            "+------+\n",
            "| white|\n",
            "| green|\n",
            "|yellow|\n",
            "|   red|\n",
            "| brown|\n",
            "|  pink|\n",
            "+------+\n",
            "\n"
          ]
        }
      ]
    },
    {
      "cell_type": "code",
      "source": [
        "color_df.filter(color_df.length.between(4,5)).select(color_df.color.alias(\"mid_length\")).show()\n"
      ],
      "metadata": {
        "colab": {
          "base_uri": "https://localhost:8080/"
        },
        "id": "GBnsNmjaquhK",
        "outputId": "ce24ac63-02df-48b0-81eb-4dc0689e0d78"
      },
      "execution_count": 10,
      "outputs": [
        {
          "output_type": "stream",
          "name": "stdout",
          "text": [
            "+----------+\n",
            "|mid_length|\n",
            "+----------+\n",
            "|     white|\n",
            "|     green|\n",
            "|     brown|\n",
            "|      pink|\n",
            "+----------+\n",
            "\n"
          ]
        }
      ]
    },
    {
      "cell_type": "code",
      "source": [
        "color_df.filter(color_df.length > 4) .filter(color_df[0]!=\"white\").show()"
      ],
      "metadata": {
        "colab": {
          "base_uri": "https://localhost:8080/"
        },
        "id": "uiTWLK1HqxCi",
        "outputId": "4cdee823-83ad-4ecd-c469-bc9d094dfbfc"
      },
      "execution_count": 11,
      "outputs": [
        {
          "output_type": "stream",
          "name": "stdout",
          "text": [
            "+------+------+\n",
            "| color|length|\n",
            "+------+------+\n",
            "| green|     5|\n",
            "|yellow|     6|\n",
            "| brown|     5|\n",
            "+------+------+\n",
            "\n"
          ]
        }
      ]
    },
    {
      "cell_type": "code",
      "source": [
        "color_df.drop('length').show()"
      ],
      "metadata": {
        "colab": {
          "base_uri": "https://localhost:8080/"
        },
        "id": "fVGqleB3q3cx",
        "outputId": "271386af-fd63-4bc3-cb5b-9ba99e5ddf49"
      },
      "execution_count": 12,
      "outputs": [
        {
          "output_type": "stream",
          "name": "stdout",
          "text": [
            "+------+\n",
            "| color|\n",
            "+------+\n",
            "| white|\n",
            "| green|\n",
            "|yellow|\n",
            "|   red|\n",
            "| brown|\n",
            "|  pink|\n",
            "+------+\n",
            "\n"
          ]
        }
      ]
    },
    {
      "cell_type": "code",
      "source": [
        "color_df.filter(color_df['length']>=4).sort(\"length\", 'color',ascending=False).show()"
      ],
      "metadata": {
        "colab": {
          "base_uri": "https://localhost:8080/"
        },
        "id": "skWef2Rxq5w1",
        "outputId": "4911466d-34fa-441a-ea57-c3658849a2b0"
      },
      "execution_count": 13,
      "outputs": [
        {
          "output_type": "stream",
          "name": "stdout",
          "text": [
            "+------+------+\n",
            "| color|length|\n",
            "+------+------+\n",
            "|yellow|     6|\n",
            "| white|     5|\n",
            "| green|     5|\n",
            "| brown|     5|\n",
            "|  pink|     4|\n",
            "+------+------+\n",
            "\n"
          ]
        }
      ]
    },
    {
      "cell_type": "code",
      "source": [
        "color_df.orderBy('length','color').take(4)"
      ],
      "metadata": {
        "colab": {
          "base_uri": "https://localhost:8080/"
        },
        "id": "otmzJZ--q8hm",
        "outputId": "f5eb20ae-cfb6-445c-fe41-bf2ebfc8ea48"
      },
      "execution_count": 14,
      "outputs": [
        {
          "output_type": "execute_result",
          "data": {
            "text/plain": [
              "[Row(color='red', length=3),\n",
              " Row(color='pink', length=4),\n",
              " Row(color='brown', length=5),\n",
              " Row(color='green', length=5)]"
            ]
          },
          "metadata": {},
          "execution_count": 14
        }
      ]
    },
    {
      "cell_type": "code",
      "source": [
        "color_df.sort(color_df.length.desc(),   color_df.color.asc()).show()"
      ],
      "metadata": {
        "colab": {
          "base_uri": "https://localhost:8080/"
        },
        "id": "gUZX3fRwq_Do",
        "outputId": "c339ea9a-c6dd-4b50-f5fb-3d79fdebb567"
      },
      "execution_count": 15,
      "outputs": [
        {
          "output_type": "stream",
          "name": "stdout",
          "text": [
            "+------+------+\n",
            "| color|length|\n",
            "+------+------+\n",
            "|yellow|     6|\n",
            "| brown|     5|\n",
            "| green|     5|\n",
            "| white|     5|\n",
            "|  pink|     4|\n",
            "|   red|     3|\n",
            "+------+------+\n",
            "\n"
          ]
        }
      ]
    },
    {
      "cell_type": "code",
      "source": [
        "color_df.groupBy('length').count().show()"
      ],
      "metadata": {
        "colab": {
          "base_uri": "https://localhost:8080/"
        },
        "id": "S-Dxajl8rBVn",
        "outputId": "46f69db2-6582-4a26-fa10-8648efd468b6"
      },
      "execution_count": 16,
      "outputs": [
        {
          "output_type": "stream",
          "name": "stdout",
          "text": [
            "+------+-----+\n",
            "|length|count|\n",
            "+------+-----+\n",
            "|     6|    1|\n",
            "|     5|    3|\n",
            "|     3|    1|\n",
            "|     4|    1|\n",
            "+------+-----+\n",
            "\n"
          ]
        }
      ]
    },
    {
      "cell_type": "code",
      "source": [
        "color_df.describe().show()"
      ],
      "metadata": {
        "colab": {
          "base_uri": "https://localhost:8080/"
        },
        "id": "EmliV9e7rEPb",
        "outputId": "5c3e020e-bfd6-40be-f668-55ad79a3bf4c"
      },
      "execution_count": 17,
      "outputs": [
        {
          "output_type": "stream",
          "name": "stdout",
          "text": [
            "+-------+------+------------------+\n",
            "|summary| color|            length|\n",
            "+-------+------+------------------+\n",
            "|  count|     6|                 6|\n",
            "|   mean|  null| 4.666666666666667|\n",
            "| stddev|  null|1.0327955589886444|\n",
            "|    min| brown|                 3|\n",
            "|    max|yellow|                 6|\n",
            "+-------+------+------------------+\n",
            "\n"
          ]
        }
      ]
    },
    {
      "cell_type": "code",
      "source": [
        "color_df.show()"
      ],
      "metadata": {
        "id": "M3f3enA8rGBe",
        "colab": {
          "base_uri": "https://localhost:8080/"
        },
        "outputId": "dea35f66-7902-45a9-c8bc-502147c451ba"
      },
      "execution_count": 18,
      "outputs": [
        {
          "output_type": "stream",
          "name": "stdout",
          "text": [
            "+------+------+\n",
            "| color|length|\n",
            "+------+------+\n",
            "| white|     5|\n",
            "| green|     5|\n",
            "|yellow|     6|\n",
            "|   red|     3|\n",
            "| brown|     5|\n",
            "|  pink|     4|\n",
            "+------+------+\n",
            "\n"
          ]
        }
      ]
    },
    {
      "cell_type": "code",
      "source": [
        "from pyspark.sql import functions as sparkf"
      ],
      "metadata": {
        "id": "SIJ-56IrQV7P"
      },
      "execution_count": 19,
      "outputs": []
    },
    {
      "cell_type": "code",
      "source": [
        "max_length = color_df.select(sparkf.max(sparkf.col('length'))).collect()[0][0]"
      ],
      "metadata": {
        "id": "r5UFt-77QxNC"
      },
      "execution_count": 20,
      "outputs": []
    },
    {
      "cell_type": "code",
      "source": [
        "max_length"
      ],
      "metadata": {
        "colab": {
          "base_uri": "https://localhost:8080/"
        },
        "id": "chv70LKmQ3Y2",
        "outputId": "38bf201c-5c0c-42bc-f90f-77c3f82b2b51"
      },
      "execution_count": 21,
      "outputs": [
        {
          "output_type": "execute_result",
          "data": {
            "text/plain": [
              "6"
            ]
          },
          "metadata": {},
          "execution_count": 21
        }
      ]
    },
    {
      "cell_type": "code",
      "source": [
        "min_length = color_df.select(sparkf.min(sparkf.col('length'))).collect()[0][0]"
      ],
      "metadata": {
        "id": "gis4p18QQ4gi"
      },
      "execution_count": 22,
      "outputs": []
    },
    {
      "cell_type": "code",
      "source": [
        "min_length"
      ],
      "metadata": {
        "colab": {
          "base_uri": "https://localhost:8080/"
        },
        "id": "AgHrzkYZRDeO",
        "outputId": "62574eb6-c6ac-47c0-ce0e-384132a75e43"
      },
      "execution_count": 23,
      "outputs": [
        {
          "output_type": "execute_result",
          "data": {
            "text/plain": [
              "3"
            ]
          },
          "metadata": {},
          "execution_count": 23
        }
      ]
    },
    {
      "cell_type": "code",
      "source": [
        "sparkf_normalized = sparkf.udf(lambda x: ((x-min_length)/(max_length-min_length)))"
      ],
      "metadata": {
        "id": "6yywWCbIREQ2"
      },
      "execution_count": 24,
      "outputs": []
    },
    {
      "cell_type": "code",
      "source": [
        "color_df.withColumn('new_length',sparkf_normalized(sparkf.col('length'))).show()"
      ],
      "metadata": {
        "colab": {
          "base_uri": "https://localhost:8080/"
        },
        "id": "Ha47TiRuRPa_",
        "outputId": "d8ba2d50-9d47-47ed-861b-6f285f78b4de"
      },
      "execution_count": 25,
      "outputs": [
        {
          "output_type": "stream",
          "name": "stdout",
          "text": [
            "+------+------+------------------+\n",
            "| color|length|        new_length|\n",
            "+------+------+------------------+\n",
            "| white|     5|0.6666666666666666|\n",
            "| green|     5|0.6666666666666666|\n",
            "|yellow|     6|               1.0|\n",
            "|   red|     3|               0.0|\n",
            "| brown|     5|0.6666666666666666|\n",
            "|  pink|     4|0.3333333333333333|\n",
            "+------+------+------------------+\n",
            "\n"
          ]
        }
      ]
    }
  ]
}