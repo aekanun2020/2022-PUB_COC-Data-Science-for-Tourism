{
  "nbformat": 4,
  "nbformat_minor": 0,
  "metadata": {
    "kernelspec": {
      "display_name": "Python 3",
      "language": "python",
      "name": "python3"
    },
    "language_info": {
      "codemirror_mode": {
        "name": "ipython",
        "version": 3
      },
      "file_extension": ".py",
      "mimetype": "text/x-python",
      "name": "python",
      "nbconvert_exporter": "python",
      "pygments_lexer": "ipython3",
      "version": "3.6.1"
    },
    "colab": {
      "provenance": [],
      "collapsed_sections": [],
      "machine_shape": "hm",
      "include_colab_link": true
    }
  },
  "cells": [
    {
      "cell_type": "markdown",
      "metadata": {
        "id": "view-in-github",
        "colab_type": "text"
      },
      "source": [
        "<a href=\"https://colab.research.google.com/github/aekanun2020/2022-PUB_COC-Data-Science-for-Tourism/blob/main/_PredictionofArrivalDelay_PySpark_onColab.ipynb\" target=\"_parent\"><img src=\"https://colab.research.google.com/assets/colab-badge.svg\" alt=\"Open In Colab\"/></a>"
      ]
    },
    {
      "cell_type": "code",
      "source": [
        "import time as t\n",
        "start_time = t.time()"
      ],
      "metadata": {
        "id": "CAwE4JXpvmh7"
      },
      "execution_count": 1,
      "outputs": []
    },
    {
      "cell_type": "code",
      "source": [
        "!apt-get install openjdk-8-jdk-headless -qq > /dev/null\n",
        "!wget -q https://archive.apache.org/dist/spark/spark-2.4.1/spark-2.4.1-bin-hadoop2.7.tgz\n",
        "!tar xf spark-2.4.1-bin-hadoop2.7.tgz\n",
        "!pip install -q findspark\n",
        "\n",
        "import os\n",
        "os.environ[\"JAVA_HOME\"] = \"/usr/lib/jvm/java-8-openjdk-amd64\"\n",
        "os.environ[\"SPARK_HOME\"] = \"/content/spark-2.4.1-bin-hadoop2.7\"\n",
        "\n",
        "import findspark\n",
        "findspark.init()\n",
        "from pyspark.sql import SparkSession\n",
        "spark = SparkSession.builder.master(\"local[*]\").getOrCreate()\n",
        "\n",
        "from pyspark.sql import SparkSession\n",
        "\n",
        "spark = SparkSession.builder \\\n",
        "   .appName(\"Neural Network Model\") \\\n",
        "   .config(\"spark.executor.memory\", \"3gb\") \\\n",
        "   .getOrCreate()\n",
        "   \n",
        "sc = spark.sparkContext\n",
        "\n",
        "sc"
      ],
      "metadata": {
        "colab": {
          "base_uri": "https://localhost:8080/",
          "height": 193
        },
        "id": "2OZAmVlIrsKH",
        "outputId": "77dda759-0c4e-4b43-afbf-5064abc805d9"
      },
      "execution_count": 2,
      "outputs": [
        {
          "output_type": "execute_result",
          "data": {
            "text/plain": [
              "<SparkContext master=local[*] appName=pyspark-shell>"
            ],
            "text/html": [
              "\n",
              "        <div>\n",
              "            <p><b>SparkContext</b></p>\n",
              "\n",
              "            <p><a href=\"http://38cdf8b57afd:4040\">Spark UI</a></p>\n",
              "\n",
              "            <dl>\n",
              "              <dt>Version</dt>\n",
              "                <dd><code>v2.4.1</code></dd>\n",
              "              <dt>Master</dt>\n",
              "                <dd><code>local[*]</code></dd>\n",
              "              <dt>AppName</dt>\n",
              "                <dd><code>pyspark-shell</code></dd>\n",
              "            </dl>\n",
              "        </div>\n",
              "        "
            ]
          },
          "metadata": {},
          "execution_count": 2
        }
      ]
    },
    {
      "cell_type": "markdown",
      "source": [
        "**2. Data Understanding using SparkSQL**"
      ],
      "metadata": {
        "id": "TLDou9Hoh7d6"
      }
    },
    {
      "cell_type": "code",
      "metadata": {
        "id": "I7c5vxPNAPVi",
        "outputId": "a425424c-cf48-40e8-87ed-f289f4f24423",
        "colab": {
          "base_uri": "https://localhost:8080/"
        }
      },
      "source": [
        "! wget https://storage.googleapis.com/5-7sep2022/data/2008.csv"
      ],
      "execution_count": 3,
      "outputs": [
        {
          "output_type": "stream",
          "name": "stdout",
          "text": [
            "--2022-09-24 13:46:59--  https://storage.googleapis.com/5-7sep2022/data/2008.csv\n",
            "Resolving storage.googleapis.com (storage.googleapis.com)... 74.125.23.128, 74.125.203.128, 64.233.189.128, ...\n",
            "Connecting to storage.googleapis.com (storage.googleapis.com)|74.125.23.128|:443... connected.\n",
            "HTTP request sent, awaiting response... 200 OK\n",
            "Length: 689413344 (657M) [text/csv]\n",
            "Saving to: ‘2008.csv.1’\n",
            "\n",
            "2008.csv.1          100%[===================>] 657.48M   118MB/s    in 5.6s    \n",
            "\n",
            "2022-09-24 13:47:05 (117 MB/s) - ‘2008.csv.1’ saved [689413344/689413344]\n",
            "\n"
          ]
        }
      ]
    },
    {
      "cell_type": "code",
      "source": [
        "! wc -l ./2008.csv"
      ],
      "metadata": {
        "id": "uojN1MQGiAvK",
        "outputId": "b931a523-e553-4500-9105-4b64ad584751",
        "colab": {
          "base_uri": "https://localhost:8080/"
        }
      },
      "execution_count": 4,
      "outputs": [
        {
          "output_type": "stream",
          "name": "stdout",
          "text": [
            "7009729 ./2008.csv\n"
          ]
        }
      ]
    },
    {
      "cell_type": "code",
      "source": [
        "! head -3 2008.csv"
      ],
      "metadata": {
        "id": "zqqblQ21lwMY",
        "outputId": "6d6ae42a-e531-49d2-f220-97ac5dc00299",
        "colab": {
          "base_uri": "https://localhost:8080/"
        }
      },
      "execution_count": 5,
      "outputs": [
        {
          "output_type": "stream",
          "name": "stdout",
          "text": [
            "Year,Month,DayofMonth,DayOfWeek,DepTime,CRSDepTime,ArrTime,CRSArrTime,UniqueCarrier,FlightNum,TailNum,ActualElapsedTime,CRSElapsedTime,AirTime,ArrDelay,DepDelay,Origin,Dest,Distance,TaxiIn,TaxiOut,Cancelled,CancellationCode,Diverted,CarrierDelay,WeatherDelay,NASDelay,SecurityDelay,LateAircraftDelay\n",
            "2008,1,3,4,2003,1955,2211,2225,WN,335,N712SW,128,150,116,-14,8,IAD,TPA,810,4,8,0,,0,NA,NA,NA,NA,NA\n",
            "2008,1,3,4,754,735,1002,1000,WN,3231,N772SW,128,145,113,2,19,IAD,TPA,810,5,10,0,,0,NA,NA,NA,NA,NA\n"
          ]
        }
      ]
    },
    {
      "cell_type": "code",
      "source": [
        "raw_df = spark.read.format('csv').\\\n",
        "option('header','true').option('mode','DROPMALFORMED')\\\n",
        ".load('2008.csv')"
      ],
      "metadata": {
        "id": "cDq69I8Mlx7a"
      },
      "execution_count": 6,
      "outputs": []
    },
    {
      "cell_type": "code",
      "source": [
        "raw_df.count()"
      ],
      "metadata": {
        "id": "TB9PI8WFl5n7",
        "outputId": "dad2fea8-11bb-4d53-d551-7c2b4417bd44",
        "colab": {
          "base_uri": "https://localhost:8080/"
        }
      },
      "execution_count": 7,
      "outputs": [
        {
          "output_type": "execute_result",
          "data": {
            "text/plain": [
              "7009728"
            ]
          },
          "metadata": {},
          "execution_count": 7
        }
      ]
    },
    {
      "cell_type": "code",
      "source": [
        "raw_df.printSchema()"
      ],
      "metadata": {
        "id": "_VNu0r3nl9wj",
        "outputId": "9dcca4a5-f36e-40b9-c4ac-0b0d6f5135ae",
        "colab": {
          "base_uri": "https://localhost:8080/"
        }
      },
      "execution_count": 8,
      "outputs": [
        {
          "output_type": "stream",
          "name": "stdout",
          "text": [
            "root\n",
            " |-- Year: string (nullable = true)\n",
            " |-- Month: string (nullable = true)\n",
            " |-- DayofMonth: string (nullable = true)\n",
            " |-- DayOfWeek: string (nullable = true)\n",
            " |-- DepTime: string (nullable = true)\n",
            " |-- CRSDepTime: string (nullable = true)\n",
            " |-- ArrTime: string (nullable = true)\n",
            " |-- CRSArrTime: string (nullable = true)\n",
            " |-- UniqueCarrier: string (nullable = true)\n",
            " |-- FlightNum: string (nullable = true)\n",
            " |-- TailNum: string (nullable = true)\n",
            " |-- ActualElapsedTime: string (nullable = true)\n",
            " |-- CRSElapsedTime: string (nullable = true)\n",
            " |-- AirTime: string (nullable = true)\n",
            " |-- ArrDelay: string (nullable = true)\n",
            " |-- DepDelay: string (nullable = true)\n",
            " |-- Origin: string (nullable = true)\n",
            " |-- Dest: string (nullable = true)\n",
            " |-- Distance: string (nullable = true)\n",
            " |-- TaxiIn: string (nullable = true)\n",
            " |-- TaxiOut: string (nullable = true)\n",
            " |-- Cancelled: string (nullable = true)\n",
            " |-- CancellationCode: string (nullable = true)\n",
            " |-- Diverted: string (nullable = true)\n",
            " |-- CarrierDelay: string (nullable = true)\n",
            " |-- WeatherDelay: string (nullable = true)\n",
            " |-- NASDelay: string (nullable = true)\n",
            " |-- SecurityDelay: string (nullable = true)\n",
            " |-- LateAircraftDelay: string (nullable = true)\n",
            "\n"
          ]
        }
      ]
    },
    {
      "cell_type": "markdown",
      "source": [
        "**3. Data Preparation using SparkSQL**"
      ],
      "metadata": {
        "id": "3AT7c8SDmj48"
      }
    },
    {
      "cell_type": "code",
      "source": [
        "from pyspark.sql.types import *\n",
        "from pyspark.sql.functions import *"
      ],
      "metadata": {
        "id": "qXGmS8p_nE-u"
      },
      "execution_count": 9,
      "outputs": []
    },
    {
      "cell_type": "code",
      "source": [
        "crunched_df = raw_df.\\\n",
        "withColumn('DepTime',col('DepTime').\\\n",
        "           cast(DoubleType())).\\\n",
        "withColumn('TaxiOut',col('TaxiOut').\\\n",
        "           cast(DoubleType())).\\\n",
        "withColumn('TaxiIn',col('TaxiIn').\\\n",
        "           cast(DoubleType())).\\\n",
        "withColumn('DepDelay',col('DepDelay').\\\n",
        "           cast(DoubleType())).\\\n",
        "withColumn('DayOfWeek',col('DayOfWeek').\\\n",
        "           cast(DoubleType())).\\\n",
        "withColumn('Distance',col('Distance').\\\n",
        "           cast(DoubleType())).\\\n",
        "withColumn('ArrDelay',col('ArrDelay').\\\n",
        "           cast(DoubleType()))"
      ],
      "metadata": {
        "id": "aUZhCIL9mIrk"
      },
      "execution_count": 10,
      "outputs": []
    },
    {
      "cell_type": "code",
      "source": [
        "crunched_df.printSchema()"
      ],
      "metadata": {
        "id": "qUhtjJoOngGK",
        "colab": {
          "base_uri": "https://localhost:8080/"
        },
        "outputId": "9ba67f04-ef07-48fb-d486-612a9254fb80"
      },
      "execution_count": 11,
      "outputs": [
        {
          "output_type": "stream",
          "name": "stdout",
          "text": [
            "root\n",
            " |-- Year: string (nullable = true)\n",
            " |-- Month: string (nullable = true)\n",
            " |-- DayofMonth: string (nullable = true)\n",
            " |-- DayOfWeek: double (nullable = true)\n",
            " |-- DepTime: double (nullable = true)\n",
            " |-- CRSDepTime: string (nullable = true)\n",
            " |-- ArrTime: string (nullable = true)\n",
            " |-- CRSArrTime: string (nullable = true)\n",
            " |-- UniqueCarrier: string (nullable = true)\n",
            " |-- FlightNum: string (nullable = true)\n",
            " |-- TailNum: string (nullable = true)\n",
            " |-- ActualElapsedTime: string (nullable = true)\n",
            " |-- CRSElapsedTime: string (nullable = true)\n",
            " |-- AirTime: string (nullable = true)\n",
            " |-- ArrDelay: double (nullable = true)\n",
            " |-- DepDelay: double (nullable = true)\n",
            " |-- Origin: string (nullable = true)\n",
            " |-- Dest: string (nullable = true)\n",
            " |-- Distance: double (nullable = true)\n",
            " |-- TaxiIn: double (nullable = true)\n",
            " |-- TaxiOut: double (nullable = true)\n",
            " |-- Cancelled: string (nullable = true)\n",
            " |-- CancellationCode: string (nullable = true)\n",
            " |-- Diverted: string (nullable = true)\n",
            " |-- CarrierDelay: string (nullable = true)\n",
            " |-- WeatherDelay: string (nullable = true)\n",
            " |-- NASDelay: string (nullable = true)\n",
            " |-- SecurityDelay: string (nullable = true)\n",
            " |-- LateAircraftDelay: string (nullable = true)\n",
            "\n"
          ]
        }
      ]
    },
    {
      "cell_type": "code",
      "source": [
        "crunched_df\\\n",
        ".select(['DepTime','TaxiOut','TaxiIn',\\\n",
        "                     'DayOfWeek','Distance','ArrDelay'])\\\n",
        "                     .describe().toPandas().transpose()"
      ],
      "metadata": {
        "id": "rOBkhRLxocNQ",
        "colab": {
          "base_uri": "https://localhost:8080/",
          "height": 266
        },
        "outputId": "c00e17e4-6b58-41bd-b07a-bdcdca81cd29"
      },
      "execution_count": 12,
      "outputs": [
        {
          "output_type": "execute_result",
          "data": {
            "text/plain": [
              "                 0                   1                   2       3       4\n",
              "summary      count                mean              stddev     min     max\n",
              "DepTime    6873482  1333.8300461105448  478.06889486630547     1.0  2400.0\n",
              "TaxiOut    6872670  16.453045177492882  11.332798654231949     0.0   429.0\n",
              "TaxiIn     6858079   6.860851704974527   4.933649371300439     0.0   308.0\n",
              "DayOfWeek  7009728  3.9241815088973495  1.9882589459851117     1.0     7.0\n",
              "Distance   7009728   726.3870294253928   562.1018034840342    11.0  4962.0\n",
              "ArrDelay   6855029    8.16845238729114  38.501936948828586  -519.0  2461.0"
            ],
            "text/html": [
              "\n",
              "  <div id=\"df-58edca25-e5d1-4472-83a4-427aba602381\">\n",
              "    <div class=\"colab-df-container\">\n",
              "      <div>\n",
              "<style scoped>\n",
              "    .dataframe tbody tr th:only-of-type {\n",
              "        vertical-align: middle;\n",
              "    }\n",
              "\n",
              "    .dataframe tbody tr th {\n",
              "        vertical-align: top;\n",
              "    }\n",
              "\n",
              "    .dataframe thead th {\n",
              "        text-align: right;\n",
              "    }\n",
              "</style>\n",
              "<table border=\"1\" class=\"dataframe\">\n",
              "  <thead>\n",
              "    <tr style=\"text-align: right;\">\n",
              "      <th></th>\n",
              "      <th>0</th>\n",
              "      <th>1</th>\n",
              "      <th>2</th>\n",
              "      <th>3</th>\n",
              "      <th>4</th>\n",
              "    </tr>\n",
              "  </thead>\n",
              "  <tbody>\n",
              "    <tr>\n",
              "      <th>summary</th>\n",
              "      <td>count</td>\n",
              "      <td>mean</td>\n",
              "      <td>stddev</td>\n",
              "      <td>min</td>\n",
              "      <td>max</td>\n",
              "    </tr>\n",
              "    <tr>\n",
              "      <th>DepTime</th>\n",
              "      <td>6873482</td>\n",
              "      <td>1333.8300461105448</td>\n",
              "      <td>478.06889486630547</td>\n",
              "      <td>1.0</td>\n",
              "      <td>2400.0</td>\n",
              "    </tr>\n",
              "    <tr>\n",
              "      <th>TaxiOut</th>\n",
              "      <td>6872670</td>\n",
              "      <td>16.453045177492882</td>\n",
              "      <td>11.332798654231949</td>\n",
              "      <td>0.0</td>\n",
              "      <td>429.0</td>\n",
              "    </tr>\n",
              "    <tr>\n",
              "      <th>TaxiIn</th>\n",
              "      <td>6858079</td>\n",
              "      <td>6.860851704974527</td>\n",
              "      <td>4.933649371300439</td>\n",
              "      <td>0.0</td>\n",
              "      <td>308.0</td>\n",
              "    </tr>\n",
              "    <tr>\n",
              "      <th>DayOfWeek</th>\n",
              "      <td>7009728</td>\n",
              "      <td>3.9241815088973495</td>\n",
              "      <td>1.9882589459851117</td>\n",
              "      <td>1.0</td>\n",
              "      <td>7.0</td>\n",
              "    </tr>\n",
              "    <tr>\n",
              "      <th>Distance</th>\n",
              "      <td>7009728</td>\n",
              "      <td>726.3870294253928</td>\n",
              "      <td>562.1018034840342</td>\n",
              "      <td>11.0</td>\n",
              "      <td>4962.0</td>\n",
              "    </tr>\n",
              "    <tr>\n",
              "      <th>ArrDelay</th>\n",
              "      <td>6855029</td>\n",
              "      <td>8.16845238729114</td>\n",
              "      <td>38.501936948828586</td>\n",
              "      <td>-519.0</td>\n",
              "      <td>2461.0</td>\n",
              "    </tr>\n",
              "  </tbody>\n",
              "</table>\n",
              "</div>\n",
              "      <button class=\"colab-df-convert\" onclick=\"convertToInteractive('df-58edca25-e5d1-4472-83a4-427aba602381')\"\n",
              "              title=\"Convert this dataframe to an interactive table.\"\n",
              "              style=\"display:none;\">\n",
              "        \n",
              "  <svg xmlns=\"http://www.w3.org/2000/svg\" height=\"24px\"viewBox=\"0 0 24 24\"\n",
              "       width=\"24px\">\n",
              "    <path d=\"M0 0h24v24H0V0z\" fill=\"none\"/>\n",
              "    <path d=\"M18.56 5.44l.94 2.06.94-2.06 2.06-.94-2.06-.94-.94-2.06-.94 2.06-2.06.94zm-11 1L8.5 8.5l.94-2.06 2.06-.94-2.06-.94L8.5 2.5l-.94 2.06-2.06.94zm10 10l.94 2.06.94-2.06 2.06-.94-2.06-.94-.94-2.06-.94 2.06-2.06.94z\"/><path d=\"M17.41 7.96l-1.37-1.37c-.4-.4-.92-.59-1.43-.59-.52 0-1.04.2-1.43.59L10.3 9.45l-7.72 7.72c-.78.78-.78 2.05 0 2.83L4 21.41c.39.39.9.59 1.41.59.51 0 1.02-.2 1.41-.59l7.78-7.78 2.81-2.81c.8-.78.8-2.07 0-2.86zM5.41 20L4 18.59l7.72-7.72 1.47 1.35L5.41 20z\"/>\n",
              "  </svg>\n",
              "      </button>\n",
              "      \n",
              "  <style>\n",
              "    .colab-df-container {\n",
              "      display:flex;\n",
              "      flex-wrap:wrap;\n",
              "      gap: 12px;\n",
              "    }\n",
              "\n",
              "    .colab-df-convert {\n",
              "      background-color: #E8F0FE;\n",
              "      border: none;\n",
              "      border-radius: 50%;\n",
              "      cursor: pointer;\n",
              "      display: none;\n",
              "      fill: #1967D2;\n",
              "      height: 32px;\n",
              "      padding: 0 0 0 0;\n",
              "      width: 32px;\n",
              "    }\n",
              "\n",
              "    .colab-df-convert:hover {\n",
              "      background-color: #E2EBFA;\n",
              "      box-shadow: 0px 1px 2px rgba(60, 64, 67, 0.3), 0px 1px 3px 1px rgba(60, 64, 67, 0.15);\n",
              "      fill: #174EA6;\n",
              "    }\n",
              "\n",
              "    [theme=dark] .colab-df-convert {\n",
              "      background-color: #3B4455;\n",
              "      fill: #D2E3FC;\n",
              "    }\n",
              "\n",
              "    [theme=dark] .colab-df-convert:hover {\n",
              "      background-color: #434B5C;\n",
              "      box-shadow: 0px 1px 3px 1px rgba(0, 0, 0, 0.15);\n",
              "      filter: drop-shadow(0px 1px 2px rgba(0, 0, 0, 0.3));\n",
              "      fill: #FFFFFF;\n",
              "    }\n",
              "  </style>\n",
              "\n",
              "      <script>\n",
              "        const buttonEl =\n",
              "          document.querySelector('#df-58edca25-e5d1-4472-83a4-427aba602381 button.colab-df-convert');\n",
              "        buttonEl.style.display =\n",
              "          google.colab.kernel.accessAllowed ? 'block' : 'none';\n",
              "\n",
              "        async function convertToInteractive(key) {\n",
              "          const element = document.querySelector('#df-58edca25-e5d1-4472-83a4-427aba602381');\n",
              "          const dataTable =\n",
              "            await google.colab.kernel.invokeFunction('convertToInteractive',\n",
              "                                                     [key], {});\n",
              "          if (!dataTable) return;\n",
              "\n",
              "          const docLinkHtml = 'Like what you see? Visit the ' +\n",
              "            '<a target=\"_blank\" href=https://colab.research.google.com/notebooks/data_table.ipynb>data table notebook</a>'\n",
              "            + ' to learn more about interactive tables.';\n",
              "          element.innerHTML = '';\n",
              "          dataTable['output_type'] = 'display_data';\n",
              "          await google.colab.output.renderOutput(dataTable, element);\n",
              "          const docLink = document.createElement('div');\n",
              "          docLink.innerHTML = docLinkHtml;\n",
              "          element.appendChild(docLink);\n",
              "        }\n",
              "      </script>\n",
              "    </div>\n",
              "  </div>\n",
              "  "
            ]
          },
          "metadata": {},
          "execution_count": 12
        }
      ]
    },
    {
      "cell_type": "code",
      "source": [
        "def t_timeperiod(origin):\n",
        "    if origin is None:\n",
        "        period = None\n",
        "    elif origin > 0 and origin < 600:\n",
        "        period = '00.01-05.59'\n",
        "    elif origin >= 600 and origin < 1200:\n",
        "        period = '06.00-11.59'\n",
        "    elif origin >= 1200 and origin < 1800:\n",
        "        period = '12.00-17.59'\n",
        "    elif origin >= 1800 and origin <= 2400:\n",
        "        period = '18.00-24.00'\n",
        "    else:\n",
        "        period = 'NA'\n",
        "    return period"
      ],
      "metadata": {
        "id": "sVcTY0wZo9Ha"
      },
      "execution_count": 13,
      "outputs": []
    },
    {
      "cell_type": "code",
      "source": [
        "timeperiod = udf(lambda x: t_timeperiod(x),StringType())"
      ],
      "metadata": {
        "id": "mIb6Ml2Zrhd3"
      },
      "execution_count": 14,
      "outputs": []
    },
    {
      "cell_type": "code",
      "source": [
        "discretized_df = crunched_df.\\\n",
        "withColumn('DepTime',timeperiod(crunched_df['DepTime']))"
      ],
      "metadata": {
        "id": "PUa9cHMvrjHr"
      },
      "execution_count": 15,
      "outputs": []
    },
    {
      "cell_type": "code",
      "source": [
        "from pyspark.sql.functions import *\n",
        "max_distance = discretized_df.select(max('Distance')).collect()[0][0]\n",
        "min_distance = discretized_df.select(min('Distance')).collect()[0][0]"
      ],
      "metadata": {
        "id": "PuqlH_X1rmgp"
      },
      "execution_count": 16,
      "outputs": []
    },
    {
      "cell_type": "code",
      "source": [
        "max_ArrDelay = discretized_df.select(max('ArrDelay')).collect()[0][0]\n",
        "min_ArrDelay = discretized_df.select(min('ArrDelay')).collect()[0][0]"
      ],
      "metadata": {
        "id": "fx0bmzosrqNz"
      },
      "execution_count": 17,
      "outputs": []
    },
    {
      "cell_type": "code",
      "source": [
        "def t_normalized_distance(origin):\n",
        "    if origin is None:\n",
        "        return None\n",
        "    else:\n",
        "        return ((origin-min_distance)/(max_distance-min_distance))"
      ],
      "metadata": {
        "id": "oUYYOL7jrrrF"
      },
      "execution_count": 18,
      "outputs": []
    },
    {
      "cell_type": "code",
      "source": [
        "def t_normalized_ArrDelay(origin):\n",
        "    if origin is None:\n",
        "        return None\n",
        "    else:\n",
        "        return ((origin-min_ArrDelay)/(max_ArrDelay-min_ArrDelay))"
      ],
      "metadata": {
        "id": "BoWYuqu7rtXv"
      },
      "execution_count": 19,
      "outputs": []
    },
    {
      "cell_type": "code",
      "source": [
        "normalized_distance = udf(lambda x: t_normalized_distance(x),DoubleType())"
      ],
      "metadata": {
        "id": "J2xHhdm8rxEg"
      },
      "execution_count": 20,
      "outputs": []
    },
    {
      "cell_type": "code",
      "source": [
        "normalized_ArrDelay = udf(lambda x: t_normalized_ArrDelay(x),DoubleType())"
      ],
      "metadata": {
        "id": "AfAR8dh5rzF3"
      },
      "execution_count": 21,
      "outputs": []
    },
    {
      "cell_type": "code",
      "source": [
        "normalized_df = discretized_df.\\\n",
        "withColumn('Distance', normalized_distance(discretized_df['Distance'])).\\\n",
        "withColumn('ArrDelay', normalized_ArrDelay(discretized_df['ArrDelay']))"
      ],
      "metadata": {
        "id": "GgM67WK5r0mm"
      },
      "execution_count": 22,
      "outputs": []
    },
    {
      "cell_type": "code",
      "source": [
        "features_df = normalized_df.\\\n",
        "select(['UniqueCarrier','Origin','Dest',\\\n",
        "        'DepTime','TaxiOut','TaxiIn','DepDelay',\\\n",
        "        'DayOfWeek','Distance','ArrDelay'])"
      ],
      "metadata": {
        "id": "x36v8lk4r2h7"
      },
      "execution_count": 23,
      "outputs": []
    },
    {
      "cell_type": "code",
      "source": [
        "final_df = features_df.dropna()"
      ],
      "metadata": {
        "id": "F3dcs_f6sNFR"
      },
      "execution_count": 24,
      "outputs": []
    },
    {
      "cell_type": "code",
      "source": [
        "final_df.count()"
      ],
      "metadata": {
        "id": "Auj-cQb5sPH_",
        "colab": {
          "base_uri": "https://localhost:8080/"
        },
        "outputId": "d7d0a0aa-9dcd-4b7a-bf39-a2a5bd8b82cb"
      },
      "execution_count": 25,
      "outputs": [
        {
          "output_type": "execute_result",
          "data": {
            "text/plain": [
              "6855029"
            ]
          },
          "metadata": {},
          "execution_count": 25
        }
      ]
    },
    {
      "cell_type": "code",
      "source": [
        "final_df.show()"
      ],
      "metadata": {
        "id": "8qCDaYlasR20",
        "colab": {
          "base_uri": "https://localhost:8080/"
        },
        "outputId": "52cde560-1d25-4151-fd25-760301b9b7d2"
      },
      "execution_count": 26,
      "outputs": [
        {
          "output_type": "stream",
          "name": "stdout",
          "text": [
            "+-------------+------+----+-----------+-------+------+--------+---------+--------------------+-------------------+\n",
            "|UniqueCarrier|Origin|Dest|    DepTime|TaxiOut|TaxiIn|DepDelay|DayOfWeek|            Distance|           ArrDelay|\n",
            "+-------------+------+----+-----------+-------+------+--------+---------+--------------------+-------------------+\n",
            "|           WN|   IAD| TPA|18.00-24.00|    8.0|   4.0|     8.0|      4.0| 0.16138153908301353|0.16946308724832215|\n",
            "|           WN|   IAD| TPA|06.00-11.59|   10.0|   5.0|    19.0|      4.0| 0.16138153908301353|0.17483221476510066|\n",
            "|           WN|   IND| BWI|06.00-11.59|   17.0|   3.0|     8.0|      4.0|  0.1017976166431024|0.17885906040268457|\n",
            "|           WN|   IND| BWI|06.00-11.59|    7.0|   3.0|    -4.0|      4.0|  0.1017976166431024|0.17214765100671142|\n",
            "|           WN|   IND| BWI|18.00-24.00|   10.0|   3.0|    34.0|      4.0|  0.1017976166431024| 0.1855704697986577|\n",
            "|           WN|   IND| JAX|18.00-24.00|   10.0|   4.0|    25.0|      4.0|  0.1367400525146435|0.17785234899328858|\n",
            "|           WN|   IND| LAS|18.00-24.00|    7.0|   3.0|    67.0|      4.0| 0.31912744900020196|0.19328859060402684|\n",
            "|           WN|   IND| LAS|06.00-11.59|    7.0|   7.0|    -1.0|      4.0| 0.31912744900020196|0.16812080536912752|\n",
            "|           WN|   IND| MCI|06.00-11.59|   19.0|   6.0|     2.0|      4.0| 0.08887093516461321|0.17483221476510066|\n",
            "|           WN|   IND| MCI|12.00-17.59|    6.0|   3.0|     0.0|      4.0| 0.08887093516461321|0.16879194630872482|\n",
            "|           WN|   IND| MCO|06.00-11.59|   19.0|   5.0|     6.0|      4.0|  0.1650171682488386|  0.174496644295302|\n",
            "|           WN|   IND| MCO|12.00-17.59|    8.0|   6.0|    94.0|      4.0|  0.1650171682488386|0.20100671140939597|\n",
            "|           WN|   IND| MDW|12.00-17.59|   12.0|   9.0|    -4.0|      4.0|0.030498889113310442|  0.174496644295302|\n",
            "|           WN|   IND| MDW|06.00-11.59|   21.0|   7.0|     0.0|      4.0|0.030498889113310442|0.17751677852348993|\n",
            "|           WN|   IND| MDW|12.00-17.59|   10.0|   4.0|     2.0|      4.0|0.030498889113310442|0.17281879194630873|\n",
            "|           WN|   IND| MDW|06.00-11.59|    9.0|   6.0|     9.0|      4.0|0.030498889113310442|0.17785234899328858|\n",
            "|           WN|   IND| PHX|12.00-17.59|    8.0|   7.0|    27.0|      4.0|  0.2985255503938598|0.17919463087248322|\n",
            "|           WN|   IND| PHX|06.00-11.59|   16.0|   5.0|     9.0|      4.0|  0.2985255503938598| 0.1691275167785235|\n",
            "|           WN|   IND| TPA|12.00-17.59|    9.0|   4.0|    28.0|      4.0| 0.16703696222985256|0.17953020134228187|\n",
            "|           WN|   ISP| BWI|12.00-17.59|    5.0|   2.0|    51.0|      4.0| 0.04221369420319127| 0.1865771812080537|\n",
            "+-------------+------+----+-----------+-------+------+--------+---------+--------------------+-------------------+\n",
            "only showing top 20 rows\n",
            "\n"
          ]
        }
      ]
    },
    {
      "cell_type": "markdown",
      "source": [
        "4. Modeling (Spark ML and Spark ML Pipeline)"
      ],
      "metadata": {
        "id": "71W-20KAs_Ff"
      }
    },
    {
      "cell_type": "code",
      "source": [
        "training_df,test_df = final_df.\\\n",
        "randomSplit([0.80,0.20], seed = 12)"
      ],
      "metadata": {
        "id": "bLuSIeRBsTi-"
      },
      "execution_count": 27,
      "outputs": []
    },
    {
      "cell_type": "code",
      "source": [
        "training_df.count()"
      ],
      "metadata": {
        "id": "xv13jm0XtC2n",
        "colab": {
          "base_uri": "https://localhost:8080/"
        },
        "outputId": "967be847-0113-4843-ae5b-728d4b365c7a"
      },
      "execution_count": 28,
      "outputs": [
        {
          "output_type": "execute_result",
          "data": {
            "text/plain": [
              "5482317"
            ]
          },
          "metadata": {},
          "execution_count": 28
        }
      ]
    },
    {
      "cell_type": "code",
      "source": [
        "training_df.printSchema()"
      ],
      "metadata": {
        "id": "DS5vX_wftE5X",
        "colab": {
          "base_uri": "https://localhost:8080/"
        },
        "outputId": "3ef97fd3-3645-4ec2-e654-02e90591bcd3"
      },
      "execution_count": 29,
      "outputs": [
        {
          "output_type": "stream",
          "name": "stdout",
          "text": [
            "root\n",
            " |-- UniqueCarrier: string (nullable = true)\n",
            " |-- Origin: string (nullable = true)\n",
            " |-- Dest: string (nullable = true)\n",
            " |-- DepTime: string (nullable = true)\n",
            " |-- TaxiOut: double (nullable = true)\n",
            " |-- TaxiIn: double (nullable = true)\n",
            " |-- DepDelay: double (nullable = true)\n",
            " |-- DayOfWeek: double (nullable = true)\n",
            " |-- Distance: double (nullable = true)\n",
            " |-- ArrDelay: double (nullable = true)\n",
            "\n"
          ]
        }
      ]
    },
    {
      "cell_type": "code",
      "source": [
        "from pyspark.ml.feature import StringIndexer,OneHotEncoder"
      ],
      "metadata": {
        "id": "F6qsIZ1ntHbA"
      },
      "execution_count": 30,
      "outputs": []
    },
    {
      "cell_type": "code",
      "source": [
        "DepTimeIndexer = StringIndexer\\\n",
        "(inputCol='DepTime',outputCol='DepTimeIndexed')"
      ],
      "metadata": {
        "id": "jU2SfnuetKdf"
      },
      "execution_count": 31,
      "outputs": []
    },
    {
      "cell_type": "code",
      "source": [
        "DepTimeOneHotEncoder = OneHotEncoder\\\n",
        "(dropLast=False,inputCol='DepTimeIndexed', \\\n",
        " outputCol='DepTimeVec')"
      ],
      "metadata": {
        "id": "nto99ogVtMVS"
      },
      "execution_count": 32,
      "outputs": []
    },
    {
      "cell_type": "code",
      "source": [
        "UniqueCarrierIndexer = StringIndexer\\\n",
        "(inputCol='UniqueCarrier',\\\n",
        " outputCol='UniqueCarrierIndexed')"
      ],
      "metadata": {
        "id": "gnaTZnhDtOFp"
      },
      "execution_count": 33,
      "outputs": []
    },
    {
      "cell_type": "code",
      "source": [
        "UniqueCarrierOneHotEncoder = OneHotEncoder\\\n",
        "(dropLast=False,inputCol='UniqueCarrierIndexed',\\\n",
        " outputCol='UniqueCarrierVec')"
      ],
      "metadata": {
        "id": "E18wSdWktPyI"
      },
      "execution_count": 34,
      "outputs": []
    },
    {
      "cell_type": "code",
      "source": [
        "OriginIndexer = StringIndexer(inputCol='Origin',\\\n",
        "                              outputCol='OriginIndexed')"
      ],
      "metadata": {
        "id": "7-hagmZptRfg"
      },
      "execution_count": 35,
      "outputs": []
    },
    {
      "cell_type": "code",
      "source": [
        "OriginOneHotEncoder = OneHotEncoder\\\n",
        "(dropLast=False,inputCol='OriginIndexed',\\\n",
        " outputCol='OriginVec')"
      ],
      "metadata": {
        "id": "4UR22OlMtTIj"
      },
      "execution_count": 36,
      "outputs": []
    },
    {
      "cell_type": "code",
      "source": [
        "DestIndexer = StringIndexer(inputCol='Dest',\\\n",
        "                            outputCol='DestIndexed')"
      ],
      "metadata": {
        "id": "bCgJgyfItUsA"
      },
      "execution_count": 37,
      "outputs": []
    },
    {
      "cell_type": "code",
      "source": [
        "DestOneHotEncoder = OneHotEncoder\\\n",
        "(dropLast=False,inputCol='DestIndexed',\\\n",
        " outputCol='DestVec')"
      ],
      "metadata": {
        "id": "B7wqj7mptV-T"
      },
      "execution_count": 38,
      "outputs": []
    },
    {
      "cell_type": "code",
      "source": [
        "from pyspark.mllib.linalg import Vectors"
      ],
      "metadata": {
        "id": "K5DlzyZqtXeV"
      },
      "execution_count": 39,
      "outputs": []
    },
    {
      "cell_type": "code",
      "source": [
        "from pyspark.ml.feature import VectorAssembler"
      ],
      "metadata": {
        "id": "WcvrDSQttgja"
      },
      "execution_count": 40,
      "outputs": []
    },
    {
      "cell_type": "code",
      "source": [
        "from pyspark.ml import Pipeline"
      ],
      "metadata": {
        "id": "BVlFfva-th8Y"
      },
      "execution_count": 41,
      "outputs": []
    },
    {
      "cell_type": "code",
      "source": [
        "featureAssembler = VectorAssembler\\\n",
        "(inputCols=['UniqueCarrierVec',\\\n",
        "            'OriginVec',\\\n",
        "            'DepTimeIndexed',\\\n",
        "            'DestVec',\\\n",
        "            'TaxiOut','TaxiIn',\\\n",
        "            'DepDelay',\\\n",
        "            'DayOfWeek',\\\n",
        "            'Distance'\n",
        "           ], outputCol='***features')"
      ],
      "metadata": {
        "id": "GqZbQvnVtjez"
      },
      "execution_count": 42,
      "outputs": []
    },
    {
      "cell_type": "code",
      "source": [
        "from pyspark.ml.regression import RandomForestRegressor"
      ],
      "metadata": {
        "id": "cwDqvkI0tky3"
      },
      "execution_count": 43,
      "outputs": []
    },
    {
      "cell_type": "code",
      "source": [
        "dt = RandomForestRegressor\\\n",
        "(labelCol='ArrDelay',featuresCol='***features')"
      ],
      "metadata": {
        "id": "gONFi1pjtnO_"
      },
      "execution_count": 44,
      "outputs": []
    },
    {
      "cell_type": "code",
      "source": [
        "pipeline_dt = Pipeline().\\\n",
        "setStages([UniqueCarrierIndexer,\\\n",
        "           UniqueCarrierOneHotEncoder,\\\n",
        "           DepTimeIndexer,\\\n",
        "           OriginIndexer ,\\\n",
        "           OriginOneHotEncoder,\\\n",
        "           DestIndexer,\\\n",
        "           DestOneHotEncoder,\\\n",
        "           featureAssembler,dt])"
      ],
      "metadata": {
        "id": "yE3t_we4toi8"
      },
      "execution_count": 45,
      "outputs": []
    },
    {
      "cell_type": "code",
      "source": [
        "dtModel = pipeline_dt.fit(training_df)"
      ],
      "metadata": {
        "id": "FnybzB0FtqsI"
      },
      "execution_count": 46,
      "outputs": []
    },
    {
      "cell_type": "markdown",
      "source": [
        "5. Model Evalution"
      ],
      "metadata": {
        "id": "3soaP14V2FzU"
      }
    },
    {
      "cell_type": "code",
      "source": [
        "result_df = dtModel.transform(test_df.dropna())"
      ],
      "metadata": {
        "id": "Bd5TULBLttI3"
      },
      "execution_count": 47,
      "outputs": []
    },
    {
      "cell_type": "code",
      "source": [
        "result_df.select(['ArrDelay','Prediction']).show(10)"
      ],
      "metadata": {
        "id": "_CedDVdE2L-w",
        "colab": {
          "base_uri": "https://localhost:8080/"
        },
        "outputId": "1cbd9174-feff-41fe-81a7-cc28f011b31e"
      },
      "execution_count": 48,
      "outputs": [
        {
          "output_type": "stream",
          "name": "stdout",
          "text": [
            "+-------------------+-------------------+\n",
            "|           ArrDelay|         Prediction|\n",
            "+-------------------+-------------------+\n",
            "| 0.1704697986577181|0.17320470159397044|\n",
            "|0.21577181208053692|0.21213207705596737|\n",
            "| 0.1714765100671141| 0.1734383844468081|\n",
            "|0.17986577181208055|0.17831368350713742|\n",
            "|0.17885906040268457|0.17380567371983022|\n",
            "|0.16711409395973154|0.17338774487573952|\n",
            "|0.17013422818791946|0.17606245316850228|\n",
            "|0.17516778523489934| 0.1765275589754113|\n",
            "|0.17651006711409395| 0.1783181750592292|\n",
            "|0.17651006711409395|0.17338774487573952|\n",
            "+-------------------+-------------------+\n",
            "only showing top 10 rows\n",
            "\n"
          ]
        }
      ]
    },
    {
      "cell_type": "code",
      "source": [
        "from pyspark.ml.evaluation import RegressionEvaluator"
      ],
      "metadata": {
        "id": "Pd8zP71s2k1Y"
      },
      "execution_count": 49,
      "outputs": []
    },
    {
      "cell_type": "code",
      "source": [
        "everesult_df = dtModel.transform(test_df.dropna())"
      ],
      "metadata": {
        "id": "dkSOJwLX2PKs"
      },
      "execution_count": 50,
      "outputs": []
    },
    {
      "cell_type": "code",
      "source": [
        "lr_evaluator_r2 = RegressionEvaluator\\\n",
        "(predictionCol=\"prediction\",labelCol=\"ArrDelay\",metricName=\"r2\")\n",
        "print(\"R Squared (R2) on test data = %g\" \\\n",
        "      % lr_evaluator_r2.evaluate(everesult_df))"
      ],
      "metadata": {
        "id": "aVlT3kck2XiC",
        "colab": {
          "base_uri": "https://localhost:8080/"
        },
        "outputId": "236834ec-3278-4267-aba3-1fee7724e7ae"
      },
      "execution_count": 51,
      "outputs": [
        {
          "output_type": "stream",
          "name": "stdout",
          "text": [
            "R Squared (R2) on test data = 0.678492\n"
          ]
        }
      ]
    },
    {
      "cell_type": "code",
      "source": [
        "lr_evaluator_rmse = RegressionEvaluator\\\n",
        "(predictionCol=\"prediction\",labelCol=\"ArrDelay\",metricName=\"rmse\")\n",
        "print(\"Root Mean Squared Error (RMSE) on test data = %g\" \\\n",
        "      % lr_evaluator_rmse.evaluate(everesult_df))"
      ],
      "metadata": {
        "id": "A3w-7UV52gDz",
        "colab": {
          "base_uri": "https://localhost:8080/"
        },
        "outputId": "4e895bb0-a74e-4787-e6a8-b295f64a7b24"
      },
      "execution_count": 52,
      "outputs": [
        {
          "output_type": "stream",
          "name": "stdout",
          "text": [
            "Root Mean Squared Error (RMSE) on test data = 0.00734258\n"
          ]
        }
      ]
    },
    {
      "cell_type": "code",
      "source": [
        "print(t.time()-start_time)"
      ],
      "metadata": {
        "id": "WxwXvgpS2olp",
        "colab": {
          "base_uri": "https://localhost:8080/"
        },
        "outputId": "dc9b820b-dc9e-4d2f-959f-3ba2cbed0370"
      },
      "execution_count": 53,
      "outputs": [
        {
          "output_type": "stream",
          "name": "stdout",
          "text": [
            "721.7349536418915\n"
          ]
        }
      ]
    },
    {
      "cell_type": "code",
      "source": [],
      "metadata": {
        "id": "gacS-R6kmE2s"
      },
      "execution_count": 53,
      "outputs": []
    }
  ]
}