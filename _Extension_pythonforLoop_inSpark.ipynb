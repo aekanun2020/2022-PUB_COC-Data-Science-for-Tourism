{
  "cells": [
    {
      "cell_type": "markdown",
      "metadata": {
        "id": "view-in-github",
        "colab_type": "text"
      },
      "source": [
        "<a href=\"https://colab.research.google.com/github/aekanun2020/2022-PUB_COC-Data-Science-for-Tourism/blob/main/_Extension_pythonforLoop_inSpark.ipynb\" target=\"_parent\"><img src=\"https://colab.research.google.com/assets/colab-badge.svg\" alt=\"Open In Colab\"/></a>"
      ]
    },
    {
      "cell_type": "code",
      "source": [
        "!apt-get install openjdk-8-jdk-headless -qq > /dev/null\n",
        "!wget -q https://archive.apache.org/dist/spark/spark-2.4.1/spark-2.4.1-bin-hadoop2.7.tgz\n",
        "!tar xf spark-2.4.1-bin-hadoop2.7.tgz\n",
        "!pip install -q findspark\n",
        "\n",
        "import os\n",
        "os.environ[\"JAVA_HOME\"] = \"/usr/lib/jvm/java-8-openjdk-amd64\"\n",
        "os.environ[\"SPARK_HOME\"] = \"/content/spark-2.4.1-bin-hadoop2.7\"\n",
        "\n",
        "import findspark\n",
        "findspark.init()\n",
        "from pyspark.sql import SparkSession\n",
        "spark = SparkSession.builder.master(\"local[*]\").getOrCreate()\n",
        "\n",
        "from pyspark.sql import SparkSession\n",
        "\n",
        "spark = SparkSession.builder \\\n",
        "   .appName(\"Neural Network Model\") \\\n",
        "   .config(\"spark.executor.memory\", \"3gb\") \\\n",
        "   .getOrCreate()\n",
        "   \n",
        "sc = spark.sparkContext\n",
        "\n",
        "sc"
      ],
      "metadata": {
        "id": "1wPazDx5_3Pa",
        "colab": {
          "base_uri": "https://localhost:8080/",
          "height": 193
        },
        "outputId": "82d0b281-d9b4-4286-f736-0a0b2ea92bae"
      },
      "id": "1wPazDx5_3Pa",
      "execution_count": 1,
      "outputs": [
        {
          "output_type": "execute_result",
          "data": {
            "text/plain": [
              "<SparkContext master=local[*] appName=pyspark-shell>"
            ],
            "text/html": [
              "\n",
              "        <div>\n",
              "            <p><b>SparkContext</b></p>\n",
              "\n",
              "            <p><a href=\"http://08c1a4630187:4040\">Spark UI</a></p>\n",
              "\n",
              "            <dl>\n",
              "              <dt>Version</dt>\n",
              "                <dd><code>v2.4.1</code></dd>\n",
              "              <dt>Master</dt>\n",
              "                <dd><code>local[*]</code></dd>\n",
              "              <dt>AppName</dt>\n",
              "                <dd><code>pyspark-shell</code></dd>\n",
              "            </dl>\n",
              "        </div>\n",
              "        "
            ]
          },
          "metadata": {},
          "execution_count": 1
        }
      ]
    },
    {
      "cell_type": "code",
      "execution_count": 2,
      "id": "fac68a96",
      "metadata": {
        "id": "fac68a96"
      },
      "outputs": [],
      "source": [
        "dict_list = [{'Name':'Aekanun','Age':46},{'Name':'Pongsiam','Age':30}]"
      ]
    },
    {
      "cell_type": "code",
      "execution_count": 3,
      "id": "50d57e2e",
      "metadata": {
        "id": "50d57e2e"
      },
      "outputs": [],
      "source": [
        "raw_rdd = sc.parallelize(dict_list)"
      ]
    },
    {
      "cell_type": "code",
      "execution_count": 4,
      "id": "4c1019de",
      "metadata": {
        "id": "4c1019de",
        "outputId": "11a0517e-4252-44db-9761-c449a4905dcc",
        "colab": {
          "base_uri": "https://localhost:8080/"
        }
      },
      "outputs": [
        {
          "output_type": "stream",
          "name": "stderr",
          "text": [
            "/content/spark-2.4.1-bin-hadoop2.7/python/pyspark/sql/session.py:366: UserWarning: Using RDD of dict to inferSchema is deprecated. Use pyspark.sql.Row instead\n",
            "  warnings.warn(\"Using RDD of dict to inferSchema is deprecated. \"\n"
          ]
        }
      ],
      "source": [
        "raw_df = raw_rdd.toDF()"
      ]
    },
    {
      "cell_type": "code",
      "execution_count": 5,
      "id": "30304a3b",
      "metadata": {
        "id": "30304a3b",
        "outputId": "36d582ce-a83b-4e58-8e5d-9315928190d1",
        "colab": {
          "base_uri": "https://localhost:8080/"
        }
      },
      "outputs": [
        {
          "output_type": "stream",
          "name": "stdout",
          "text": [
            "+---+--------+\n",
            "|Age|    Name|\n",
            "+---+--------+\n",
            "| 46| Aekanun|\n",
            "| 30|Pongsiam|\n",
            "+---+--------+\n",
            "\n"
          ]
        }
      ],
      "source": [
        "raw_df.show()"
      ]
    },
    {
      "cell_type": "code",
      "execution_count": 6,
      "id": "7cf884c3",
      "metadata": {
        "id": "7cf884c3",
        "outputId": "1855e1b0-b070-43b2-e057-1164f07808a5",
        "colab": {
          "base_uri": "https://localhost:8080/"
        }
      },
      "outputs": [
        {
          "output_type": "execute_result",
          "data": {
            "text/plain": [
              "DataFrame[Age: bigint]"
            ]
          },
          "metadata": {},
          "execution_count": 6
        }
      ],
      "source": [
        "raw_df.select([x for x in raw_df.columns if 'A' in x])"
      ]
    },
    {
      "cell_type": "code",
      "execution_count": 6,
      "id": "89186d3b",
      "metadata": {
        "id": "89186d3b"
      },
      "outputs": [],
      "source": []
    }
  ],
  "metadata": {
    "kernelspec": {
      "display_name": "PySpark",
      "language": "python",
      "name": "pyspark"
    },
    "language_info": {
      "codemirror_mode": {
        "name": "ipython",
        "version": 3
      },
      "file_extension": ".py",
      "mimetype": "text/x-python",
      "name": "python",
      "nbconvert_exporter": "python",
      "pygments_lexer": "ipython3",
      "version": "3.8.13"
    },
    "colab": {
      "provenance": [],
      "collapsed_sections": [],
      "include_colab_link": true
    }
  },
  "nbformat": 4,
  "nbformat_minor": 5
}